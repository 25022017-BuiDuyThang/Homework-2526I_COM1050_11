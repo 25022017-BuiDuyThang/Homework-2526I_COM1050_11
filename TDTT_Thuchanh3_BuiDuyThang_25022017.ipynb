{
 "cells": [
  {
   "cell_type": "code",
   "execution_count": null,
   "id": "5faf4c5e",
   "metadata": {},
   "outputs": [],
   "source": [
    "#Bai1\n",
    "n = int(input())\n",
    "res = 0\n",
    "while n > 0 :\n",
    "    temp = n%10\n",
    "    res = res*10 + temp\n",
    "    n //= 10\n",
    "print(res)"
   ]
  },
  {
   "cell_type": "code",
   "execution_count": null,
   "id": "afc1357b",
   "metadata": {},
   "outputs": [],
   "source": [
    "#Bai2\n",
    "a,b = map(int, input().split())\n",
    "a = a ^ b\n",
    "b = a ^ b\n",
    "a = a ^ b\n",
    "print(a,b)"
   ]
  },
  {
   "cell_type": "code",
   "execution_count": null,
   "id": "18af1285",
   "metadata": {},
   "outputs": [],
   "source": [
    "n = int(input())\n",
    "if n & (n-1) == 0: print(\"True\")\n",
    "else : print(\"False\")"
   ]
  },
  {
   "cell_type": "code",
   "execution_count": null,
   "id": "09cfd27c",
   "metadata": {},
   "outputs": [],
   "source": [
    "m, n = map(int, input().split())\n",
    "a = m // n\n",
    "print(a)\n"
   ]
  },
  {
   "cell_type": "code",
   "execution_count": null,
   "id": "0fff228b",
   "metadata": {},
   "outputs": [],
   "source": [
    "import math\n",
    "m, n = map(float, input().split())\n",
    "a = m / n\n",
    "print(math.ceil(a))\n"
   ]
  },
  {
   "cell_type": "code",
   "execution_count": null,
   "id": "d7446d69",
   "metadata": {},
   "outputs": [],
   "source": [
    "n = int(input())\n",
    "if n % 2 == 0: print(\"Even\")\n",
    "else: print(\"Odd\")"
   ]
  },
  {
   "cell_type": "code",
   "execution_count": null,
   "id": "ed51c413",
   "metadata": {},
   "outputs": [],
   "source": [
    "a = int(input())\n",
    "b = int(input())\n",
    "if a < 0 and b < 0: print(\"YES\")\n",
    "else: print(\"No\")"
   ]
  },
  {
   "cell_type": "code",
   "execution_count": null,
   "id": "8046ae49",
   "metadata": {},
   "outputs": [],
   "source": [
    "a =  str(input())\n",
    "b = str(input())\n",
    "if len(a) > len(b): print(\"True\")\n",
    "else: print(\"False\")"
   ]
  },
  {
   "cell_type": "code",
   "execution_count": null,
   "id": "d44ae171",
   "metadata": {},
   "outputs": [],
   "source": [
    "a = int(input())\n",
    "b = int(input())\n",
    "c = int(input())\n",
    "if a+b > c and a + c > b and b + c > a: print(\"Yes\")\n",
    "else: print(\"No\")"
   ]
  },
  {
   "cell_type": "code",
   "execution_count": null,
   "id": "fbfb8373",
   "metadata": {},
   "outputs": [],
   "source": [
    "\n",
    "array = [int(input()) for i in range(4)]\n",
    "res = array[0]\n",
    "for i in array :\n",
    "    if(res < i) : res = i\n",
    "print(res) "
   ]
  },
  {
   "cell_type": "code",
   "execution_count": null,
   "id": "ec6c9b9b",
   "metadata": {},
   "outputs": [],
   "source": [
    "def isTria(a,b,c):\n",
    "    if a + b > c and a + c > b and b + c > a: return True\n",
    "    return False \n",
    "\n",
    "a,b,c = map(int,input().split())\n",
    "if not isTria(a,b,c) : print(\"Không phải tam giác\") \n",
    "else:\n",
    "    if a == b and b == c: print(\"Tam giác đều\")\n",
    "    elif a == b and b != c or a == c and b != a or b == c and a!=c: print(\"Tam giác cân\")\n",
    "    else: print(\"Tam giác thường\")\n"
   ]
  },
  {
   "cell_type": "code",
   "execution_count": null,
   "id": "0c1450b1",
   "metadata": {},
   "outputs": [],
   "source": [
    "year = int(input())\n",
    "if year%4 == 0 and year%100 != 0 or year%400 == 0: print(\"Yes\")\n",
    "else: print(\"No\")"
   ]
  },
  {
   "cell_type": "code",
   "execution_count": null,
   "id": "7a938a9e",
   "metadata": {},
   "outputs": [],
   "source": [
    "num = int(input())\n",
    "bac1 = 1500\n",
    "bac2 = 2000\n",
    "bac3 = 3000\n",
    "if num <= 50: print(num*bac1)\n",
    "elif num > 50 and num <= 100: print(50*bac1 + (num-50)*bac2)\n",
    "elif num > 100: print(bac1*50 + bac2 * 50 + (num-100)*bac3)\n",
    "else: print(num)"
   ]
  },
  {
   "cell_type": "code",
   "execution_count": null,
   "id": "89f237e8",
   "metadata": {},
   "outputs": [],
   "source": [
    "a = float(input())\n",
    "b = float(input())\n",
    "if a == 0 and b == 0: print(\"Vô số nghiệm\")\n",
    "elif a == 0 and b != 0: print(\"Vô nghiệm\")\n",
    "else: print(round(-b / a,2))"
   ]
  },
  {
   "cell_type": "code",
   "execution_count": null,
   "id": "1b7cf1ae",
   "metadata": {},
   "outputs": [],
   "source": [
    "a = float(input())\n",
    "phannguyen = int(a)\n",
    "\n",
    "if a >= 0: \n",
    "    val3 = phannguyen\n",
    "else: \n",
    "    if a == phannguyen: \n",
    "        val3 = phannguyen\n",
    "    else: \n",
    "        val3 = phannguyen - 1 \n",
    "\n",
    "if a >= 0:\n",
    "    if a == phannguyen: \n",
    "        val1 = phannguyen\n",
    "    else: \n",
    "        val1 = phannguyen + 1\n",
    "else: \n",
    "    val1 = phannguyen\n",
    "\n",
    "digit = a - phannguyen\n",
    "if digit >= 0.5: \n",
    "    val2 = phannguyen + 1\n",
    "elif digit <= -0.5: \n",
    "    val2 = phannguyen - 1\n",
    "else: \n",
    "    val2 = phannguyen\n",
    "\n",
    "print(val1, val2, val3)\n"
   ]
  }
 ],
 "metadata": {
  "language_info": {
   "name": "python"
  }
 },
 "nbformat": 4,
 "nbformat_minor": 5
}
