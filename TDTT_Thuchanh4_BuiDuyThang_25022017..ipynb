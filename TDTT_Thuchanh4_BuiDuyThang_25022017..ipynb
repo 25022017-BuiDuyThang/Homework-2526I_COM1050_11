{
 "cells": [
  {
   "cell_type": "code",
   "execution_count": 5,
   "id": "3cc40d55",
   "metadata": {},
   "outputs": [
    {
     "name": "stdout",
     "output_type": "stream",
     "text": [
      "500500\n"
     ]
    }
   ],
   "source": [
    "#W4A1\n",
    "n = int(input())\n",
    "sum = 0\n",
    "for i in range(n+1):\n",
    "    sum += i\n",
    "print(sum)\n"
   ]
  },
  {
   "cell_type": "code",
   "execution_count": 9,
   "id": "9e598c5a",
   "metadata": {},
   "outputs": [
    {
     "name": "stdout",
     "output_type": "stream",
     "text": [
      "True\n"
     ]
    }
   ],
   "source": [
    "#W4A2\n",
    "import math\n",
    "def isPrime(num):\n",
    "    if num < 2: return False\n",
    "    for i in range(2,int(math.sqrt(num)) + 1): \n",
    "        if num % i == 0: return False\n",
    "    return True\n",
    "\n",
    "while True: \n",
    "    n = int(input())\n",
    "    if(n > 0): break\n",
    "\n",
    "print (isPrime(n))\n",
    "\n"
   ]
  },
  {
   "cell_type": "code",
   "execution_count": 14,
   "id": "57ca6361",
   "metadata": {},
   "outputs": [
    {
     "name": "stdout",
     "output_type": "stream",
     "text": [
      "1\n"
     ]
    }
   ],
   "source": [
    "#W4A3\n",
    "n = int(input())\n",
    "factorial  = 1\n",
    "for i in range(2,n+1):\n",
    "    factorial *= i\n",
    "print(factorial)\n"
   ]
  },
  {
   "cell_type": "code",
   "execution_count": null,
   "id": "23e2a1cc",
   "metadata": {},
   "outputs": [
    {
     "name": "stdout",
     "output_type": "stream",
     "text": [
      "3\n"
     ]
    }
   ],
   "source": [
    "#W4A4\n",
    "\n",
    "n = int(input())\n",
    "n = abs(n) # lay absolute val, if not while loop'll continue forever \n",
    "            # example: -123 -> -13 -> -1 -> forever \n",
    "res = 0\n",
    "while n != 0:\n",
    "    res += 1\n",
    "    n //= 10\n",
    "print(res)"
   ]
  },
  {
   "cell_type": "code",
   "execution_count": null,
   "id": "aa913777",
   "metadata": {},
   "outputs": [
    {
     "name": "stdout",
     "output_type": "stream",
     "text": [
      "I've found the meaning of life!\n"
     ]
    }
   ],
   "source": [
    "#W4A5\n",
    "n = int(input())\n",
    "#lst = map(int, input().split())\n",
    "lst = [int(i) for i in input().split()]\n",
    "if 42 in lst: print(\"I've found the meaning of life!\")\n",
    "else: print(\"It's a joke!\")"
   ]
  },
  {
   "cell_type": "code",
   "execution_count": 27,
   "id": "79d198f3",
   "metadata": {},
   "outputs": [
    {
     "name": "stdout",
     "output_type": "stream",
     "text": [
      "533\n"
     ]
    }
   ],
   "source": [
    "#W4A6\n",
    "\n",
    "def isPrime(num):\n",
    "    if num < 2: return False\n",
    "    for i in range(2,int(math.sqrt(num)) + 1): \n",
    "        if num % i == 0: return False\n",
    "    return True\n",
    "a,b = map(int, input().split())\n",
    "sum = 0\n",
    "for i in range(a,b+1): \n",
    "    if(isPrime(i)): sum += i\n",
    "\n",
    "print(sum)"
   ]
  },
  {
   "cell_type": "code",
   "execution_count": 34,
   "id": "d0f213e9",
   "metadata": {},
   "outputs": [
    {
     "name": "stdout",
     "output_type": "stream",
     "text": [
      "2\n"
     ]
    }
   ],
   "source": [
    "#W4A7\n",
    "def isPrime(num):\n",
    "    if num < 2: return False\n",
    "    for i in range(2,int(math.sqrt(num)) + 1): \n",
    "        if num % i == 0: return False\n",
    "    return True\n",
    "def maximum(num): \n",
    "    for i in range(num, 1, -1):\n",
    "        if num%i == 0 and isPrime(i): return i\n",
    "\n",
    "n = int(input())\n",
    "print(maximum(n))\n"
   ]
  },
  {
   "cell_type": "code",
   "execution_count": 45,
   "id": "1a6514aa",
   "metadata": {},
   "outputs": [
    {
     "name": "stdout",
     "output_type": "stream",
     "text": [
      "4 9339\n"
     ]
    }
   ],
   "source": [
    "#W4A8\n",
    "def reverseINT(a):\n",
    "    res = 0\n",
    "    while(a > 0):\n",
    "        res = res*10 + a%10\n",
    "        a //= 10\n",
    "    return res\n",
    "def checkPalind(n):\n",
    "    s = str(n)\n",
    "    start = 0\n",
    "    end = len(s) - 1\n",
    "    while start < end: \n",
    "        if s[start] != s[end]: return False\n",
    "        start += 1 \n",
    "        end -= 1\n",
    "    return True\n",
    "\n",
    "n = int(input())\n",
    "count = 0\n",
    "num = 0\n",
    "while True:\n",
    "    n = n + reverseINT(n)\n",
    "    count += 1\n",
    "    if(checkPalind(n)): \n",
    "        break\n",
    "\n",
    "print(count,n)    \n"
   ]
  },
  {
   "cell_type": "code",
   "execution_count": 3,
   "id": "bbbc80e6",
   "metadata": {},
   "outputs": [
    {
     "name": "stdout",
     "output_type": "stream",
     "text": [
      "1 4 9 "
     ]
    }
   ],
   "source": [
    "#W4A9\n",
    "import math\n",
    "def checkCP(num):\n",
    "    can = int(math.sqrt(num))\n",
    "    if(num == can * can) : return True\n",
    "    else: return False\n",
    "\n",
    "n = int(input())\n",
    "for i in range(1,n+1):\n",
    "    if(checkCP(i)): print(i, end=\" \")\n",
    "\n"
   ]
  },
  {
   "cell_type": "code",
   "execution_count": 4,
   "id": "0bf00b4c",
   "metadata": {},
   "outputs": [
    {
     "name": "stdout",
     "output_type": "stream",
     "text": [
      "171 125\n"
     ]
    }
   ],
   "source": [
    "#W4A10\n",
    "def colatz(num):\n",
    "    count = 1\n",
    "    while num != 1:\n",
    "        if num % 2 == 0: num //=2\n",
    "        else: num = num * 3 + 1\n",
    "        count += 1\n",
    "    return count\n",
    "\n",
    "n = int(input())\n",
    "x = 0\n",
    "res = 0\n",
    "for i in range(1,n+1):\n",
    "    temp = colatz(i) \n",
    "    if(temp > res):\n",
    "        res = temp \n",
    "        x = i\n",
    "print(x,res) "
   ]
  },
  {
   "cell_type": "code",
   "execution_count": 8,
   "id": "8565a868",
   "metadata": {},
   "outputs": [
    {
     "name": "stdout",
     "output_type": "stream",
     "text": [
      "12\n"
     ]
    }
   ],
   "source": [
    "#W4A11\n",
    "\n",
    "def uocchan(num):\n",
    "    count = 0\n",
    "    for i in range(2,num + 1):\n",
    "        if(num % i == 0 and i % 2 == 0):  count += 1\n",
    "    return count    \n",
    "n = int(input())\n",
    "print(uocchan(n))"
   ]
  },
  {
   "cell_type": "code",
   "execution_count": null,
   "id": "da454179",
   "metadata": {},
   "outputs": [
    {
     "name": "stdout",
     "output_type": "stream",
     "text": [
      "10902\n"
     ]
    }
   ],
   "source": [
    "#W4A12\n",
    "\n",
    "money, duration = map(int, input().split())\n",
    "res = money*(1 + 0.007)**duration\n",
    "print(int(res))"
   ]
  },
  {
   "cell_type": "code",
   "execution_count": 24,
   "id": "b0dbfad4",
   "metadata": {},
   "outputs": [
    {
     "name": "stdout",
     "output_type": "stream",
     "text": [
      "false\n"
     ]
    }
   ],
   "source": [
    "#W4A13\n",
    "def countuoc(num):\n",
    "    sum = 0\n",
    "    for i in range(1,num): \n",
    "        if num % i == 0: sum += i\n",
    "    return sum \n",
    "a,b = map(int,input().split())\n",
    "if(countuoc(a) == b and a == countuoc(b)): \n",
    "    print(\"true\")\n",
    "else : print(\"false\")"
   ]
  },
  {
   "cell_type": "code",
   "execution_count": 32,
   "id": "ab675e97",
   "metadata": {},
   "outputs": [
    {
     "name": "stdout",
     "output_type": "stream",
     "text": [
      "8\n"
     ]
    }
   ],
   "source": [
    "#W4A14\n",
    "def GCD(a,b):\n",
    "    if b == 0: return a\n",
    "    if a%b == 0 : return b\n",
    "    return GCD(b, a%b)\n",
    "\n",
    "a,b = map(int,input().split())\n",
    "print(GCD(a,b))"
   ]
  },
  {
   "cell_type": "code",
   "execution_count": 34,
   "id": "f3b3939c",
   "metadata": {},
   "outputs": [
    {
     "name": "stdout",
     "output_type": "stream",
     "text": [
      "invalid\n"
     ]
    }
   ],
   "source": [
    "#W4A15\n",
    "\n",
    "a,b = map(int, input().split())\n",
    "if(b%2 != 0) : print(\"invalid\")\n",
    "else: \n",
    "    dog = b//2 - a\n",
    "    chicken = a - dog\n",
    "    print(chicken, dog)"
   ]
  },
  {
   "cell_type": "code",
   "execution_count": 37,
   "id": "573fd79b",
   "metadata": {},
   "outputs": [
    {
     "name": "stdout",
     "output_type": "stream",
     "text": [
      "6 12 18 24 30 36 42 48 54 60 66 72 78 84 90 96 "
     ]
    }
   ],
   "source": [
    "#W4A16\n",
    "\n",
    "for i in range(1,100):\n",
    "    if(i%3 == 0 and i % 2 == 0): print(i, end =\" \")"
   ]
  },
  {
   "cell_type": "code",
   "execution_count": null,
   "id": "c02ef251",
   "metadata": {},
   "outputs": [
    {
     "name": "stdout",
     "output_type": "stream",
     "text": [
      "9 x 1 = 9\n",
      "9 x 2 = 18\n",
      "9 x 3 = 27\n",
      "9 x 4 = 36\n",
      "9 x 5 = 45\n",
      "9 x 6 = 54\n",
      "9 x 7 = 63\n",
      "9 x 8 = 72\n",
      "9 x 9 = 81\n"
     ]
    }
   ],
   "source": [
    "#W4A17\n",
    "a = int(input(\"Nhap so a:\"))\n",
    "if(a >= 10): print(\"Khong co bang cuu chuong\")\n",
    "else:\n",
    "    for i in range(1,a+1):\n",
    "        print(a,\"x\",i,\"=\", a*i, end ='\\n')\n",
    "    "
   ]
  },
  {
   "cell_type": "code",
   "execution_count": 3,
   "id": "0330897e",
   "metadata": {},
   "outputs": [
    {
     "name": "stdout",
     "output_type": "stream",
     "text": [
      "3\n"
     ]
    }
   ],
   "source": [
    "#W4A18\n",
    "def uochung(x,y):\n",
    "    count = 0\n",
    "    for i in range(1,x+1): \n",
    "        if(x%i == 0 and y % i == 0) : count += 1\n",
    "    return count\n",
    "a,b = map(int, input().split())\n",
    "print(uochung(a,b))"
   ]
  },
  {
   "cell_type": "code",
   "execution_count": 6,
   "id": "1f756f93",
   "metadata": {},
   "outputs": [
    {
     "name": "stdout",
     "output_type": "stream",
     "text": [
      "2 4 6 8 10 "
     ]
    }
   ],
   "source": [
    "#W4A19\n",
    "\n",
    "n = int(input())\n",
    "for i in range(2,n+1): \n",
    "    if(i%2 == 0) : print(i, end =\" \")\n"
   ]
  },
  {
   "cell_type": "code",
   "execution_count": 8,
   "id": "489e2514",
   "metadata": {},
   "outputs": [
    {
     "name": "stdout",
     "output_type": "stream",
     "text": [
      "False\n"
     ]
    }
   ],
   "source": [
    "#W4A20\n",
    "n = int(input())\n",
    "\n",
    "if n & (n-1) == 0: print(True)\n",
    "else : print(False)"
   ]
  },
  {
   "cell_type": "code",
   "execution_count": 10,
   "id": "0c3f2438",
   "metadata": {},
   "outputs": [
    {
     "name": "stdout",
     "output_type": "stream",
     "text": [
      "15\n"
     ]
    }
   ],
   "source": [
    "n =  int(input())\n",
    "sum = 0 \n",
    "while n > 0:\n",
    "    sum += n%10\n",
    "    n //= 10\n",
    "print(sum)"
   ]
  },
  {
   "cell_type": "code",
   "execution_count": null,
   "id": "8147634b",
   "metadata": {},
   "outputs": [
    {
     "name": "stdout",
     "output_type": "stream",
     "text": [
      "So n co 5 so chan\n",
      "So n co 3 so le\n"
     ]
    }
   ],
   "source": [
    "#W4A22\n",
    "n = int(input())\n",
    "c1 = 0 \n",
    "c2 = 0\n",
    "while n > 0: \n",
    "    if((n%10) % 2 == 0) : c1 += 1\n",
    "    else : c2 += 1\n",
    "    n //=10\n",
    "print(\"So n co\",c1,\"so chan\")\n",
    "print(\"So n co\",c2,\"so le\")\n"
   ]
  },
  {
   "cell_type": "code",
   "execution_count": 14,
   "id": "acc33702",
   "metadata": {},
   "outputs": [
    {
     "name": "stdout",
     "output_type": "stream",
     "text": [
      "3\n"
     ]
    }
   ],
   "source": [
    "#W4A23\n",
    "n = int(input())\n",
    "res = 0\n",
    "temp = 0\n",
    "accumulation = 1\n",
    "while True: \n",
    "    temp += accumulation\n",
    "    if(temp > n): break\n",
    "    res = accumulation\n",
    "    accumulation += 1\n",
    "print(res)"
   ]
  },
  {
   "cell_type": "code",
   "execution_count": 26,
   "id": "8da534d1",
   "metadata": {},
   "outputs": [
    {
     "name": "stdout",
     "output_type": "stream",
     "text": [
      "4.0\n"
     ]
    }
   ],
   "source": [
    "#W4A24\n",
    "a = float(input())\n",
    "res = 0.0\n",
    "accumulation = 1.0\n",
    "while res <= a:\n",
    "    res += float(1/accumulation)\n",
    "    accumulation += 1.0\n",
    "print(accumulation - 1)"
   ]
  },
  {
   "cell_type": "code",
   "execution_count": 28,
   "id": "949f0b2c",
   "metadata": {},
   "outputs": [
    {
     "name": "stdout",
     "output_type": "stream",
     "text": [
      "So lon nhat la 8787\n",
      "So nho nhat la 1\n"
     ]
    }
   ],
   "source": [
    "#W4A25\n",
    "maxi = 0\n",
    "mini = 1e10\n",
    "while True: \n",
    "    n = int(input())\n",
    "    if n < 0: break\n",
    "    maxi = max(maxi,n)\n",
    "    mini = min(mini,n)\n",
    "print(\"So lon nhat la\", maxi)\n",
    "print(\"So nho nhat la\", mini)"
   ]
  },
  {
   "cell_type": "code",
   "execution_count": null,
   "id": "c5b5d1d0",
   "metadata": {},
   "outputs": [
    {
     "name": "stdout",
     "output_type": "stream",
     "text": [
      "13\n"
     ]
    }
   ],
   "source": [
    "#W4A26\n",
    "def Fibonacci(plc):\n",
    "    if plc == 1 or plc == 2: return 1\n",
    "    else : return Fibonacci(plc-1) + Fibonacci(plc-2)\n",
    "\n",
    "a = int(input())\n",
    "index = 1\n",
    "res = 0\n",
    "while True: \n",
    "    temp = Fibonacci(index) # nghi cach toi uu hon\n",
    "    if temp <= a: \n",
    "        res = temp\n",
    "        index += 1\n",
    "    else : break\n",
    "print(res)"
   ]
  },
  {
   "cell_type": "code",
   "execution_count": 42,
   "id": "4eabf4fe",
   "metadata": {},
   "outputs": [
    {
     "name": "stdout",
     "output_type": "stream",
     "text": [
      "7\n"
     ]
    }
   ],
   "source": [
    "#W4A27\n",
    "s = str(input())\n",
    "count = 1\n",
    "for i in s: \n",
    "    if i == \" \" : count += 1\n",
    "print(count)"
   ]
  },
  {
   "cell_type": "code",
   "execution_count": 41,
   "id": "7be7a9ff",
   "metadata": {},
   "outputs": [
    {
     "name": "stdout",
     "output_type": "stream",
     "text": [
      "DUYTHANGDEPTRAI\n"
     ]
    }
   ],
   "source": [
    "#W4A28\n",
    "s = str(input())\n",
    "fletter = \"\"\n",
    "for i in range(len(s)):\n",
    "    if s[i] == \" \": break\n",
    "    fletter += s[i]\n",
    "print(fletter)"
   ]
  },
  {
   "cell_type": "code",
   "execution_count": 43,
   "id": "53640ec6",
   "metadata": {},
   "outputs": [
    {
     "name": "stdout",
     "output_type": "stream",
     "text": [
      "30\n"
     ]
    }
   ],
   "source": [
    "#W4A29\n",
    "a,b,c = map(int, input().split())\n",
    "print(a+b+c)"
   ]
  },
  {
   "cell_type": "code",
   "execution_count": 44,
   "id": "02f903ba",
   "metadata": {},
   "outputs": [
    {
     "name": "stdout",
     "output_type": "stream",
     "text": [
      "Chuoi co 4 chu cai thuong\n",
      "Chuoi co 3 chu cai hoa\n",
      "Chuoi co 5 chu so\n"
     ]
    }
   ],
   "source": [
    "#W4A30\n",
    "s = str(input())\n",
    "lowercount = 0\n",
    "uppercount = 0\n",
    "numcount = 0\n",
    "\n",
    "for i in s: \n",
    "    if i >='a' and i<='z': lowercount += 1\n",
    "    elif i >='A' and i <='Z': uppercount += 1\n",
    "    else: numcount += 1\n",
    "print(\"Chuoi co\", lowercount,\"chu cai thuong\")\n",
    "print(\"Chuoi co\",uppercount,\"chu cai hoa\")\n",
    "print(\"Chuoi co\",numcount,\"chu so\")\n"
   ]
  },
  {
   "cell_type": "code",
   "execution_count": 45,
   "id": "3c318599",
   "metadata": {},
   "outputs": [
    {
     "name": "stdout",
     "output_type": "stream",
     "text": [
      "24\n"
     ]
    }
   ],
   "source": [
    "#W4A31\n",
    "s = str(input())\n",
    "sum = 0\n",
    "for i in s: \n",
    "    if i >= '1' and i <='9': sum += int(i)\n",
    "print(sum)"
   ]
  },
  {
   "cell_type": "code",
   "execution_count": 52,
   "id": "c4be8fd7",
   "metadata": {},
   "outputs": [
    {
     "name": "stdout",
     "output_type": "stream",
     "text": [
      "Mat khau hop le\n"
     ]
    }
   ],
   "source": [
    "#W4A32\n",
    "def checkPass(s):\n",
    "    check1 = False \n",
    "    check2 = False\n",
    "    check3 = False\n",
    "    check4 = False\n",
    "    for i in s: \n",
    "        if i >= 'a' and i <='z': check1 = True\n",
    "        elif i >='A' and i <='Z': check2 = True\n",
    "        elif i >='0' and i <='9': check3 = True\n",
    "        else : check4 = True\n",
    "    if(check1 and check2 and check3 and check4): return True\n",
    "    return False\n",
    "\n",
    "mains = str(input())\n",
    "if len(mains) <= 6: print(\"Mat khau khong du manh\")\n",
    "else:\n",
    "    if checkPass(mains) : print(\"Mat khau hop le\")\n",
    "    else: print(\"Mat khau chua du manh\")"
   ]
  },
  {
   "cell_type": "code",
   "execution_count": 59,
   "id": "7c62fa75",
   "metadata": {},
   "outputs": [
    {
     "name": "stdout",
     "output_type": "stream",
     "text": [
      "375.469.485\n"
     ]
    }
   ],
   "source": [
    "#W4A33\n",
    "n = int(input())\n",
    "s = str(n)\n",
    "res = \"\"\n",
    "plc = 3\n",
    "for i in s:\n",
    "    if(plc == 0):\n",
    "        res += \".\"\n",
    "        plc = 3\n",
    "    plc -= 1\n",
    "    res += i\n",
    "print(res)"
   ]
  },
  {
   "cell_type": "code",
   "execution_count": 60,
   "id": "cdda29f4",
   "metadata": {},
   "outputs": [
    {
     "name": "stdout",
     "output_type": "stream",
     "text": [
      " moi nguoi\n"
     ]
    }
   ],
   "source": [
    "#W4A34\n",
    "a = str(input())\n",
    "b = str(input())\n",
    "pos = -1\n",
    "for i in range (len(a) + 1):\n",
    "    if a[i:i + len(b)]  == b: \n",
    "        pos = i\n",
    "        break\n",
    "if pos != -1: \n",
    "    a = a[:i] + a[i+len(b):]\n",
    "print(a)"
   ]
  },
  {
   "cell_type": "markdown",
   "id": "cc5d82f1",
   "metadata": {},
   "source": []
  }
 ],
 "metadata": {
  "kernelspec": {
   "display_name": "Python 3",
   "language": "python",
   "name": "python3"
  },
  "language_info": {
   "codemirror_mode": {
    "name": "ipython",
    "version": 3
   },
   "file_extension": ".py",
   "mimetype": "text/x-python",
   "name": "python",
   "nbconvert_exporter": "python",
   "pygments_lexer": "ipython3",
   "version": "3.13.8"
  }
 },
 "nbformat": 4,
 "nbformat_minor": 5
}
