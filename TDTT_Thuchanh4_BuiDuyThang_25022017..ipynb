{
 "cells": [
  {
   "cell_type": "code",
   "execution_count": 5,
   "id": "3cc40d55",
   "metadata": {},
   "outputs": [
    {
     "name": "stdout",
     "output_type": "stream",
     "text": [
      "500500\n"
     ]
    }
   ],
   "source": [
    "#W4A1\n",
    "n = int(input())\n",
    "sum = 0\n",
    "for i in range(n+1):\n",
    "    sum += i\n",
    "print(sum)\n"
   ]
  },
  {
   "cell_type": "code",
   "execution_count": 9,
   "id": "9e598c5a",
   "metadata": {},
   "outputs": [
    {
     "name": "stdout",
     "output_type": "stream",
     "text": [
      "True\n"
     ]
    }
   ],
   "source": [
    "#W4A2\n",
    "import math\n",
    "def isPrime(num):\n",
    "    if num < 2: return False\n",
    "    for i in range(2,int(math.sqrt(num)) + 1): \n",
    "        if num % i == 0: return False\n",
    "    return True\n",
    "\n",
    "while True: \n",
    "    n = int(input())\n",
    "    if(n > 0): break\n",
    "\n",
    "print (isPrime(n))\n",
    "\n"
   ]
  },
  {
   "cell_type": "code",
   "execution_count": 14,
   "id": "57ca6361",
   "metadata": {},
   "outputs": [
    {
     "name": "stdout",
     "output_type": "stream",
     "text": [
      "1\n"
     ]
    }
   ],
   "source": [
    "#W4A3\n",
    "n = int(input())\n",
    "factorial  = 1\n",
    "for i in range(2,n+1):\n",
    "    factorial *= i\n",
    "print(factorial)\n"
   ]
  },
  {
   "cell_type": "code",
   "execution_count": null,
   "id": "23e2a1cc",
   "metadata": {},
   "outputs": [
    {
     "name": "stdout",
     "output_type": "stream",
     "text": [
      "3\n"
     ]
    }
   ],
   "source": [
    "#W4A4\n",
    "\n",
    "n = int(input())\n",
    "n = abs(n) # lay absolute val, if not while loop'll continue forever \n",
    "            # example: -123 -> -13 -> -1 -> forever \n",
    "res = 0\n",
    "while n != 0:\n",
    "    res += 1\n",
    "    n //= 10\n",
    "print(res)"
   ]
  },
  {
   "cell_type": "code",
   "execution_count": 24,
   "id": "aa913777",
   "metadata": {},
   "outputs": [
    {
     "name": "stdout",
     "output_type": "stream",
     "text": [
      "I've found the meaning of life!\n"
     ]
    }
   ],
   "source": [
    "#W4A5\n",
    "n = int(input())\n",
    "check = False\n",
    "lst = map(int, input().split())\n",
    "\n",
    "if 42 in lst: print(\"I've found the meaning of life!\")\n",
    "else: print(\"It's a joke!\")"
   ]
  },
  {
   "cell_type": "code",
   "execution_count": 27,
   "id": "79d198f3",
   "metadata": {},
   "outputs": [
    {
     "name": "stdout",
     "output_type": "stream",
     "text": [
      "533\n"
     ]
    }
   ],
   "source": [
    "#W4A6\n",
    "\n",
    "def isPrime(num):\n",
    "    if num < 2: return False\n",
    "    for i in range(2,int(math.sqrt(num)) + 1): \n",
    "        if num % i == 0: return False\n",
    "    return True\n",
    "a,b = map(int, input().split())\n",
    "sum = 0\n",
    "for i in range(a,b+1): \n",
    "    if(isPrime(i)): sum += i\n",
    "\n",
    "print(sum)"
   ]
  },
  {
   "cell_type": "code",
   "execution_count": 34,
   "id": "d0f213e9",
   "metadata": {},
   "outputs": [
    {
     "name": "stdout",
     "output_type": "stream",
     "text": [
      "2\n"
     ]
    }
   ],
   "source": [
    "#W4A7\n",
    "def isPrime(num):\n",
    "    if num < 2: return False\n",
    "    for i in range(2,int(math.sqrt(num)) + 1): \n",
    "        if num % i == 0: return False\n",
    "    return True\n",
    "def maximum(num): \n",
    "    for i in range(num, 1, -1):\n",
    "        if num%i == 0 and isPrime(i): return i\n",
    "\n",
    "n = int(input())\n",
    "print(maximum(n))\n"
   ]
  },
  {
   "cell_type": "code",
   "execution_count": 45,
   "id": "1a6514aa",
   "metadata": {},
   "outputs": [
    {
     "name": "stdout",
     "output_type": "stream",
     "text": [
      "4 9339\n"
     ]
    }
   ],
   "source": [
    "#W4A8\n",
    "def reverseINT(a):\n",
    "    res = 0\n",
    "    while(a > 0):\n",
    "        res = res*10 + a%10\n",
    "        a //= 10\n",
    "    return res\n",
    "def checkPalind(n):\n",
    "    s = str(n)\n",
    "    start = 0\n",
    "    end = len(s) - 1\n",
    "    while start < end: \n",
    "        if s[start] != s[end]: return False\n",
    "        start += 1 \n",
    "        end -= 1\n",
    "    return True\n",
    "\n",
    "n = int(input())\n",
    "count = 0\n",
    "num = 0\n",
    "while True:\n",
    "    n = n + reverseINT(n)\n",
    "    count += 1\n",
    "    if(checkPalind(n)): \n",
    "        break\n",
    "\n",
    "print(count,n)    \n"
   ]
  },
  {
   "cell_type": "code",
   "execution_count": 47,
   "id": "bbbc80e6",
   "metadata": {},
   "outputs": [],
   "source": [
    "#W4A9\n",
    "import math\n",
    "def checkCP(num):\n",
    "    can = int(math.sqrt(num))\n",
    "    if(num == can ** can) : return True\n",
    "    else: return False\n",
    "\n",
    "n = int(input())\n",
    "for i in range(1,n+1):\n",
    "    if(checkCP(n)): print(n, end=\" \")\n",
    "\n"
   ]
  }
 ],
 "metadata": {
  "kernelspec": {
   "display_name": "Python 3",
   "language": "python",
   "name": "python3"
  },
  "language_info": {
   "codemirror_mode": {
    "name": "ipython",
    "version": 3
   },
   "file_extension": ".py",
   "mimetype": "text/x-python",
   "name": "python",
   "nbconvert_exporter": "python",
   "pygments_lexer": "ipython3",
   "version": "3.13.8"
  }
 },
 "nbformat": 4,
 "nbformat_minor": 5
}
