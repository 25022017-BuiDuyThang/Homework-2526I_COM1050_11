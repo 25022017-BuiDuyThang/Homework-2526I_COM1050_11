{
  "nbformat": 4,
  "nbformat_minor": 0,
  "metadata": {
    "colab": {
      "provenance": []
    },
    "kernelspec": {
      "name": "python3",
      "display_name": "Python 3"
    },
    "language_info": {
      "name": "python"
    }
  },
  "cells": [
    {
      "cell_type": "code",
      "execution_count": null,
      "metadata": {
        "colab": {
          "base_uri": "https://localhost:8080/"
        },
        "id": "-KPkVOdjx-jC",
        "outputId": "b398eac6-9c25-4e25-cdf7-f7e5ab3ecaa5"
      },
      "outputs": [
        {
          "output_type": "stream",
          "name": "stdout",
          "text": [
            "3\n",
            "6\n"
          ]
        }
      ],
      "source": [
        "#Bai1\n",
        "n = int(input())\n",
        "print(n*2)"
      ]
    },
    {
      "cell_type": "code",
      "source": [
        "#Bai2\n",
        "a = int(input())\n",
        "b = int(input())\n",
        "\n",
        "r = a/2\n",
        "\n",
        "ans = (a*b) - ((r**2)*3.14)\n",
        "print(round(ans,2))"
      ],
      "metadata": {
        "id": "VCdoYwDDyLWe"
      },
      "execution_count": null,
      "outputs": []
    },
    {
      "cell_type": "code",
      "source": [
        "#Bai3\n",
        "c = input()\n",
        "if(c >= 'a' and c <='z'): print(c.upper())\n",
        "else: print(c.lower())"
      ],
      "metadata": {
        "id": "uaK9tZ1TyODR"
      },
      "execution_count": null,
      "outputs": []
    },
    {
      "cell_type": "code",
      "source": [
        "#Bai4\n",
        "c = input()\n",
        "if c >= 'a' and c <= 'z' or c >= 'A' and c >= 'Z': print(c,\"la ky tu alphabet\")\n",
        "else: print(c,\"khong la ky tu alphabet\")"
      ],
      "metadata": {
        "id": "4w-PRH3LyU6X"
      },
      "execution_count": null,
      "outputs": []
    },
    {
      "cell_type": "code",
      "source": [
        "#Bai5\n",
        "c = input()\n",
        "chuthuong = c.lower()\n",
        "#print(chuthuong)\n",
        "num = ord(chuthuong)\n",
        "print(chr(num - 1))"
      ],
      "metadata": {
        "id": "DIXkp6RryZtm"
      },
      "execution_count": null,
      "outputs": []
    },
    {
      "cell_type": "code",
      "source": [
        "#Bai6\n",
        "import math\n",
        "a,b,c = map(int, input().split())\n",
        "if a + b > c and c + b > a and a + c > b:\n",
        "  p = (a+b+c)/2\n",
        "  s = math.sqrt(p * (p-a) * (p-b) * (p-c))\n",
        "  print(round(s,1))\n",
        "else:\n",
        "  print(\"Khong phai 3 canh cua tam giac\")"
      ],
      "metadata": {
        "colab": {
          "base_uri": "https://localhost:8080/"
        },
        "id": "1TVt5XTrydbg",
        "outputId": "ab340978-5382-46f8-e43e-f9303b6b7a60"
      },
      "execution_count": null,
      "outputs": [
        {
          "output_type": "stream",
          "name": "stdout",
          "text": [
            "3 4 5 \n",
            "6.0\n"
          ]
        }
      ]
    },
    {
      "cell_type": "code",
      "source": [
        "#Bai7\n",
        "s = str(input())\n",
        "print(s[4])\n",
        "print(s[8])"
      ],
      "metadata": {
        "colab": {
          "base_uri": "https://localhost:8080/"
        },
        "id": "eLdxZb-bzrNs",
        "outputId": "156dfb01-2d26-4562-aeb5-bf8eea251401"
      },
      "execution_count": null,
      "outputs": [
        {
          "output_type": "stream",
          "name": "stdout",
          "text": [
            "hkahkhdashfkjahf\n",
            "k\n",
            "s\n"
          ]
        }
      ]
    },
    {
      "cell_type": "code",
      "source": [
        "#bai8\n",
        "bac1 = 1.984\n",
        "bac2 = 2.050\n",
        "bac3 = 2.380\n",
        "bac4 = 2.998\n",
        "bac5 = 3.350\n",
        "bac6 = 3.460\n",
        "def solve(num):\n",
        "  print(\"Tien phai tra la:\",num)\n",
        "chuho = str(input(\"Ten chu ho: \"))\n",
        "prenum = int(input())\n",
        "curnum = int(input())\n",
        "cal = curnum - prenum\n",
        "ans  = 0\n",
        "print(\"Ho va ten: \"+chuho)\n",
        "\n",
        "if cal <= 100:\n",
        "  if cal <= 50: solve(cal*bac1)\n",
        "  else: solve(50*bac1 + (cal-50)*bac2)\n",
        "else:\n",
        "  if cal >=101 and cal <= 200: solve(50*bac1 + 50*bac2 + bac3*(cal-100))\n",
        "  elif cal >= 201 and cal <= 300: solve(50*bac1 + 50*bac2 + bac3*100 + (cal - 200)*bac4)\n",
        "  elif cal>=301 and cal <=400:  solve(50*bac1 + 50*bac2 + bac3*100 + 100*bac4 + bac5*(cal-300))\n",
        "  else: solve(50*bac1 + 50*bac2 + bac3*100 + 100*bac4 + bac5*100 + (cal-400)*bac)"
      ],
      "metadata": {
        "id": "9TSwpvVy0FvH"
      },
      "execution_count": null,
      "outputs": []
    },
    {
      "cell_type": "code",
      "source": [
        "#1\n",
        "n = int(input(\"Nhap so: \"))\n",
        "if n% 2 == 0: print(\"n la so chan\")\n",
        "else: print(\"n la so le\")\n"
      ],
      "metadata": {
        "colab": {
          "base_uri": "https://localhost:8080/"
        },
        "id": "VCzeH8aU__JB",
        "outputId": "e67ba359-52b6-4f64-c689-644959c1e0d6"
      },
      "execution_count": null,
      "outputs": [
        {
          "output_type": "stream",
          "name": "stdout",
          "text": [
            "Nhap so: 8\n",
            "n la so chan\n"
          ]
        }
      ]
    },
    {
      "cell_type": "code",
      "source": [
        "#2\n",
        "num = int(input(\"Nhap so: \"))\n",
        "if num % 10 == 5: print(\"True\")\n",
        "else : print(\"False\")"
      ],
      "metadata": {
        "colab": {
          "base_uri": "https://localhost:8080/"
        },
        "id": "4c8QKIs_ASM5",
        "outputId": "f589ce0f-ef8e-4b7b-c3cd-4e910e28c7f8"
      },
      "execution_count": null,
      "outputs": [
        {
          "output_type": "stream",
          "name": "stdout",
          "text": [
            "Nhap so: 2\n",
            "False\n"
          ]
        }
      ]
    },
    {
      "cell_type": "code",
      "source": [
        "#3\n",
        "n = int(input(\"Nhap so: \"))\n",
        "if n % 3 == 0 and n % 5 == 0: print(\"True\")\n",
        "else: print(\"False\")\n"
      ],
      "metadata": {
        "colab": {
          "base_uri": "https://localhost:8080/"
        },
        "id": "WVZ5prA6AgoZ",
        "outputId": "8d4709ab-5e68-480e-bc6f-cd8ff5088e9e"
      },
      "execution_count": null,
      "outputs": [
        {
          "output_type": "stream",
          "name": "stdout",
          "text": [
            "Nhap so: 10\n",
            "False\n"
          ]
        }
      ]
    },
    {
      "cell_type": "code",
      "source": [
        "#4\n",
        "birth = int(input(\"Nhap nam sinh: \"))\n",
        "if 2025 - birth < 18: print(\"Khong du tuoi de bau cu\")\n",
        "else : print(\"Du tuoi de bau cu\")"
      ],
      "metadata": {
        "colab": {
          "base_uri": "https://localhost:8080/"
        },
        "id": "bnUbpVGvAv04",
        "outputId": "909f2bed-ee0c-4a84-aba6-3fcbcfd77fcd"
      },
      "execution_count": null,
      "outputs": [
        {
          "output_type": "stream",
          "name": "stdout",
          "text": [
            "Nhap nam sinh: 2009\n",
            "Khong du tuoi de bau cu\n"
          ]
        }
      ]
    },
    {
      "cell_type": "code",
      "source": [
        "#5\n",
        "a = int(input(\"Nhap so dau tien: \"))\n",
        "b = int(input(\"Nhap so thu hai: \"))\n",
        "if  a == b: print(\"Hai so bang nhau\")\n",
        "else:\n",
        "  if(a > b): print(a)\n",
        "  else: print (b)"
      ],
      "metadata": {
        "colab": {
          "base_uri": "https://localhost:8080/"
        },
        "id": "vEJ23whZBBXb",
        "outputId": "bdfa77f5-04cf-4eff-aff7-f948ba038913"
      },
      "execution_count": null,
      "outputs": [
        {
          "output_type": "stream",
          "name": "stdout",
          "text": [
            "Nhap so dau tien: 5\n",
            "Nhap so thu hai: 6\n",
            "6\n"
          ]
        }
      ]
    },
    {
      "cell_type": "code",
      "source": [
        "#6\n",
        "xau = input()\n",
        "if xau >= '0' and xau <= '9': print(\"Day la so\")\n",
        "else: print(\"Day la chu\")"
      ],
      "metadata": {
        "colab": {
          "base_uri": "https://localhost:8080/"
        },
        "id": "Wh-RSLefBWCq",
        "outputId": "f1e41823-1969-45f0-ff7c-83ea130e1d4a"
      },
      "execution_count": null,
      "outputs": [
        {
          "output_type": "stream",
          "name": "stdout",
          "text": [
            "g\n",
            "Day la chu\n"
          ]
        }
      ]
    },
    {
      "cell_type": "code",
      "source": [
        "#7\n",
        "score = float(input(\"Nhap diem cua ban: \"))\n",
        "if score >= 8 : print(\"Gioi\")\n",
        "elif score < 8 and score >= 6.5: print(\"Kha\")\n",
        "elif score < 6.5 and score >= 5: print(\"Trung Binh\")\n",
        "else : print(\"Yeu\")\n"
      ],
      "metadata": {
        "colab": {
          "base_uri": "https://localhost:8080/"
        },
        "id": "MKa515AZB6PD",
        "outputId": "4e0abe65-222b-48c7-a102-f0e0a23efb53"
      },
      "execution_count": null,
      "outputs": [
        {
          "output_type": "stream",
          "name": "stdout",
          "text": [
            "Nhap diem cua ban: 5.8\n",
            "Trung Binh\n"
          ]
        }
      ]
    },
    {
      "cell_type": "code",
      "source": [
        "#8\n",
        "year = int(input(\"Nhap so nam: \"))\n",
        "if year % 400 == 0 or year % 4 == 0 and year % 100 != 0: print(\"Day la nam nhuan\")\n",
        "else: print(\"Day khong phai la nam nhuan\")"
      ],
      "metadata": {
        "colab": {
          "base_uri": "https://localhost:8080/"
        },
        "id": "zy5jbBrICeOh",
        "outputId": "bf03af37-fe61-4340-9372-32effb5bc86c"
      },
      "execution_count": null,
      "outputs": [
        {
          "output_type": "stream",
          "name": "stdout",
          "text": [
            "Nhap so nam: 2016\n",
            "Day la nam nhuan\n"
          ]
        }
      ]
    },
    {
      "cell_type": "code",
      "source": [
        "#9\n",
        "names = [\"Không\", \"Một\", \"Hai\", \"Ba\", \"Bốn\", \"Năm\", \"Sáu\", \"Bảy\", \"Tám\", \"Chín\"]\n",
        "\n",
        "n = int(input(\"Nhập số (0-9): \"))\n",
        "print(names[n])\n"
      ],
      "metadata": {
        "colab": {
          "base_uri": "https://localhost:8080/"
        },
        "id": "mni4jDjFDAWt",
        "outputId": "4e87dbcd-6b73-45d2-e8e2-a345492279ac"
      },
      "execution_count": null,
      "outputs": [
        {
          "output_type": "stream",
          "name": "stdout",
          "text": [
            "Nhập số (0-9): 7\n",
            "Bảy\n"
          ]
        }
      ]
    },
    {
      "cell_type": "code",
      "source": [
        "#10\n",
        "n = int(input(\"Nhap so diem cua ban: \"))\n",
        "if n >= 4: print(\"Qua mon\")\n",
        "else: print(\"Hoc lai\")"
      ],
      "metadata": {
        "id": "UJHtxJdYDOR4"
      },
      "execution_count": null,
      "outputs": []
    },
    {
      "cell_type": "code",
      "source": [
        "#11\n",
        "n = int(input())\n",
        "if 2025 - n  >= 18: print(\"Du 18 tuoi\")\n",
        "else: print(\"Khong du 18 tuoi\")"
      ],
      "metadata": {
        "id": "zAI3aJF7DavN"
      },
      "execution_count": null,
      "outputs": []
    }
  ]
}