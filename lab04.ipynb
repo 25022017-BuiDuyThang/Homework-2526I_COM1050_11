{
 "cells": [
  {
   "cell_type": "code",
   "execution_count": 1,
   "id": "8119ba50",
   "metadata": {
    "colab": {
     "base_uri": "https://localhost:8080/"
    },
    "executionInfo": {
     "elapsed": 1153,
     "status": "ok",
     "timestamp": 1759120515594,
     "user": {
      "displayName": "Duc-Trong Le",
      "userId": "16908825448293823105"
     },
     "user_tz": -420
    },
    "id": "8119ba50",
    "outputId": "5ba567cd-7b0e-4798-c699-979bc9f386c7",
    "tags": [
     "remove-cell"
    ]
   },
   "outputs": [
    {
     "name": "stdout",
     "output_type": "stream",
     "text": [
      "Downloaded thinkpython.py\n",
      "Downloaded diagram.py\n",
      "Downloaded jupyturtle.py\n"
     ]
    }
   ],
   "source": [
    "from os.path import basename, exists\n",
    "\n",
    "def download(url):\n",
    "    filename = basename(url)\n",
    "    if not exists(filename):\n",
    "        from urllib.request import urlretrieve\n",
    "\n",
    "        local, _ = urlretrieve(url, filename)\n",
    "        print(\"Downloaded \" + str(local))\n",
    "    return filename\n",
    "\n",
    "download('https://github.com/AllenDowney/ThinkPython/raw/v3/thinkpython.py');\n",
    "download('https://github.com/AllenDowney/ThinkPython/raw/v3/diagram.py');\n",
    "download('https://github.com/ramalho/jupyturtle/releases/download/2024-03/jupyturtle.py');\n",
    "\n",
    "import thinkpython"
   ]
  },
  {
   "cell_type": "markdown",
   "id": "4b804ce2",
   "metadata": {},
   "source": []
  },
  {
   "cell_type": "markdown",
   "id": "75b60d6c",
   "metadata": {
    "id": "75b60d6c"
   },
   "source": [
    "# Lecture 04 - Conditionals\n",
    "\n",
    "The main topic of this chapter is the `if` statement, which executes different code depending on the state of the program.\n",
    "\n",
    "We'll start with three new features: the modulus operator, boolean expressions, and logical operators."
   ]
  },
  {
   "cell_type": "markdown",
   "id": "4ab7caf4",
   "metadata": {
    "id": "4ab7caf4"
   },
   "source": [
    "## Integer division and modulus\n",
    "\n",
    "Recall that the integer division operator, `//`, divides two numbers and rounds\n",
    "down to an integer.\n",
    "For example, suppose the run time of a movie is 105 minutes.\n",
    "You might want to know how long that is in hours.\n",
    "Conventional division returns a floating-point number:"
   ]
  },
  {
   "cell_type": "code",
   "execution_count": 2,
   "id": "30bd0ba7",
   "metadata": {
    "colab": {
     "base_uri": "https://localhost:8080/"
    },
    "executionInfo": {
     "elapsed": 39,
     "status": "ok",
     "timestamp": 1759120537423,
     "user": {
      "displayName": "Duc-Trong Le",
      "userId": "16908825448293823105"
     },
     "user_tz": -420
    },
    "id": "30bd0ba7",
    "outputId": "d29ba254-cc88-4d49-e0a4-a3c5010e390b"
   },
   "outputs": [
    {
     "data": {
      "text/plain": [
       "1.75"
      ]
     },
     "execution_count": 2,
     "metadata": {},
     "output_type": "execute_result"
    }
   ],
   "source": [
    "minutes = 105\n",
    "minutes / 60"
   ]
  },
  {
   "cell_type": "markdown",
   "id": "3f224403",
   "metadata": {
    "id": "3f224403"
   },
   "source": [
    "But we don't normally write hours with decimal points.\n",
    "Integer division returns the integer number of hours, rounding down:"
   ]
  },
  {
   "cell_type": "code",
   "execution_count": 3,
   "id": "451e3198",
   "metadata": {
    "colab": {
     "base_uri": "https://localhost:8080/"
    },
    "executionInfo": {
     "elapsed": 6,
     "status": "ok",
     "timestamp": 1759120539614,
     "user": {
      "displayName": "Duc-Trong Le",
      "userId": "16908825448293823105"
     },
     "user_tz": -420
    },
    "id": "451e3198",
    "outputId": "b5135729-ff90-4901-ce93-fcbe536b75d7"
   },
   "outputs": [
    {
     "data": {
      "text/plain": [
       "1"
      ]
     },
     "execution_count": 3,
     "metadata": {},
     "output_type": "execute_result"
    }
   ],
   "source": [
    "minutes = 105\n",
    "hours = minutes // 60\n",
    "hours"
   ]
  },
  {
   "cell_type": "markdown",
   "id": "bfa9b0cf",
   "metadata": {
    "id": "bfa9b0cf"
   },
   "source": [
    "To get the remainder, you could subtract off one hour in minutes:"
   ]
  },
  {
   "cell_type": "code",
   "execution_count": 4,
   "id": "64b92876",
   "metadata": {
    "colab": {
     "base_uri": "https://localhost:8080/"
    },
    "executionInfo": {
     "elapsed": 10,
     "status": "ok",
     "timestamp": 1759120542390,
     "user": {
      "displayName": "Duc-Trong Le",
      "userId": "16908825448293823105"
     },
     "user_tz": -420
    },
    "id": "64b92876",
    "outputId": "bbac2296-04aa-4f99-e7c2-22e4774e7fc8"
   },
   "outputs": [
    {
     "data": {
      "text/plain": [
       "45"
      ]
     },
     "execution_count": 4,
     "metadata": {},
     "output_type": "execute_result"
    }
   ],
   "source": [
    "remainder = minutes - hours * 60\n",
    "remainder"
   ]
  },
  {
   "cell_type": "markdown",
   "id": "05caf27f",
   "metadata": {
    "id": "05caf27f"
   },
   "source": [
    "Or you could use the **modulus operator**, `%`, which divides two numbers and returns the remainder."
   ]
  },
  {
   "cell_type": "code",
   "execution_count": 5,
   "id": "0a593844",
   "metadata": {
    "colab": {
     "base_uri": "https://localhost:8080/"
    },
    "executionInfo": {
     "elapsed": 28,
     "status": "ok",
     "timestamp": 1759120545524,
     "user": {
      "displayName": "Duc-Trong Le",
      "userId": "16908825448293823105"
     },
     "user_tz": -420
    },
    "id": "0a593844",
    "outputId": "7144ecaa-58f2-4b07-8cc1-2241d1d27c05"
   },
   "outputs": [
    {
     "data": {
      "text/plain": [
       "45"
      ]
     },
     "execution_count": 5,
     "metadata": {},
     "output_type": "execute_result"
    }
   ],
   "source": [
    "remainder = minutes % 60\n",
    "remainder"
   ]
  },
  {
   "cell_type": "markdown",
   "id": "18c1e0d0",
   "metadata": {
    "id": "18c1e0d0"
   },
   "source": [
    "The modulus operator is more useful than it might seem.\n",
    "For example, it can check whether one number is divisible by another -- if `x % y` is zero, then `x` is divisible by `y`.\n",
    "\n",
    "Also, it can extract the right-most digit or digits from a number.\n",
    "For example, `x % 10` yields the right-most digit of `x` (in base 10).\n",
    "Similarly, `x % 100` yields the last two digits."
   ]
  },
  {
   "cell_type": "code",
   "execution_count": 6,
   "id": "5bd341f7",
   "metadata": {
    "colab": {
     "base_uri": "https://localhost:8080/"
    },
    "executionInfo": {
     "elapsed": 17,
     "status": "ok",
     "timestamp": 1759120549421,
     "user": {
      "displayName": "Duc-Trong Le",
      "userId": "16908825448293823105"
     },
     "user_tz": -420
    },
    "id": "5bd341f7",
    "outputId": "7fef5d82-d55f-48bb-e647-891c158c33a5"
   },
   "outputs": [
    {
     "data": {
      "text/plain": [
       "3"
      ]
     },
     "execution_count": 6,
     "metadata": {},
     "output_type": "execute_result"
    }
   ],
   "source": [
    "x = 123\n",
    "x % 10"
   ]
  },
  {
   "cell_type": "code",
   "execution_count": 7,
   "id": "367fce0c",
   "metadata": {
    "colab": {
     "base_uri": "https://localhost:8080/"
    },
    "executionInfo": {
     "elapsed": 4,
     "status": "ok",
     "timestamp": 1759120556235,
     "user": {
      "displayName": "Duc-Trong Le",
      "userId": "16908825448293823105"
     },
     "user_tz": -420
    },
    "id": "367fce0c",
    "outputId": "41661d67-1925-4d2d-c489-4554125dd8d9"
   },
   "outputs": [
    {
     "data": {
      "text/plain": [
       "23"
      ]
     },
     "execution_count": 7,
     "metadata": {},
     "output_type": "execute_result"
    }
   ],
   "source": [
    "x % 100"
   ]
  },
  {
   "cell_type": "markdown",
   "id": "f2344fc0",
   "metadata": {
    "id": "f2344fc0"
   },
   "source": [
    "Finally, the modulus operator can do \"clock arithmetic\".\n",
    "For example, if an event starts at 11 AM and lasts three hours, we can use the modulus operator to figure out what time it ends."
   ]
  },
  {
   "cell_type": "code",
   "execution_count": 8,
   "id": "db33a44d",
   "metadata": {
    "colab": {
     "base_uri": "https://localhost:8080/"
    },
    "executionInfo": {
     "elapsed": 26,
     "status": "ok",
     "timestamp": 1759120558842,
     "user": {
      "displayName": "Duc-Trong Le",
      "userId": "16908825448293823105"
     },
     "user_tz": -420
    },
    "id": "db33a44d",
    "outputId": "b15d676a-1458-4f7b-887b-a0c062b4e593"
   },
   "outputs": [
    {
     "data": {
      "text/plain": [
       "2"
      ]
     },
     "execution_count": 8,
     "metadata": {},
     "output_type": "execute_result"
    }
   ],
   "source": [
    "start = 11\n",
    "duration = 3\n",
    "end = (start + duration) % 12\n",
    "end"
   ]
  },
  {
   "cell_type": "markdown",
   "id": "351c30df",
   "metadata": {
    "id": "351c30df"
   },
   "source": [
    "The event would end at 2 PM."
   ]
  },
  {
   "cell_type": "markdown",
   "id": "5ed1b58b",
   "metadata": {
    "id": "5ed1b58b"
   },
   "source": [
    "## Boolean Expressions\n",
    "\n",
    "A **boolean expression** is an expression that is either true or false.\n",
    "For example, the following expressions use the equals operator, `==`, which compares two values and produces `True` if they are equal and `False` otherwise:"
   ]
  },
  {
   "cell_type": "code",
   "execution_count": 1,
   "id": "85589d38",
   "metadata": {
    "colab": {
     "base_uri": "https://localhost:8080/"
    },
    "executionInfo": {
     "elapsed": 24,
     "status": "ok",
     "timestamp": 1759120566294,
     "user": {
      "displayName": "Duc-Trong Le",
      "userId": "16908825448293823105"
     },
     "user_tz": -420
    },
    "id": "85589d38",
    "outputId": "0e216911-2f74-4d59-8676-282a573f1c7e"
   },
   "outputs": [
    {
     "data": {
      "text/plain": [
       "True"
      ]
     },
     "execution_count": 1,
     "metadata": {},
     "output_type": "execute_result"
    }
   ],
   "source": [
    "5 == 5"
   ]
  },
  {
   "cell_type": "code",
   "execution_count": 2,
   "id": "3c9c8f61",
   "metadata": {
    "colab": {
     "base_uri": "https://localhost:8080/"
    },
    "executionInfo": {
     "elapsed": 32,
     "status": "ok",
     "timestamp": 1759120568553,
     "user": {
      "displayName": "Duc-Trong Le",
      "userId": "16908825448293823105"
     },
     "user_tz": -420
    },
    "id": "3c9c8f61",
    "outputId": "3bdd789f-0cfa-4308-af0b-1ec4af86819b"
   },
   "outputs": [
    {
     "data": {
      "text/plain": [
       "False"
      ]
     },
     "execution_count": 2,
     "metadata": {},
     "output_type": "execute_result"
    }
   ],
   "source": [
    "5 == 7"
   ]
  },
  {
   "cell_type": "markdown",
   "id": "41fbc642",
   "metadata": {
    "id": "41fbc642"
   },
   "source": [
    "A common error is to use a single equal sign (`=`) instead of a double equal sign (`==`).\n",
    "Remember that `=` assigns a value to a variable and `==` compares two values."
   ]
  },
  {
   "cell_type": "code",
   "execution_count": 3,
   "id": "c0e51bcc",
   "metadata": {
    "executionInfo": {
     "elapsed": 2,
     "status": "ok",
     "timestamp": 1759120570031,
     "user": {
      "displayName": "Duc-Trong Le",
      "userId": "16908825448293823105"
     },
     "user_tz": -420
    },
    "id": "c0e51bcc"
   },
   "outputs": [],
   "source": [
    "x = 5\n",
    "y = 7"
   ]
  },
  {
   "cell_type": "code",
   "execution_count": 4,
   "id": "a6be44db",
   "metadata": {
    "colab": {
     "base_uri": "https://localhost:8080/"
    },
    "executionInfo": {
     "elapsed": 23,
     "status": "ok",
     "timestamp": 1759120571786,
     "user": {
      "displayName": "Duc-Trong Le",
      "userId": "16908825448293823105"
     },
     "user_tz": -420
    },
    "id": "a6be44db",
    "outputId": "b520c8e2-e12f-4230-f633-0295462f5253"
   },
   "outputs": [
    {
     "data": {
      "text/plain": [
       "False"
      ]
     },
     "execution_count": 4,
     "metadata": {},
     "output_type": "execute_result"
    }
   ],
   "source": [
    "x == y"
   ]
  },
  {
   "cell_type": "markdown",
   "id": "d3ec6b48",
   "metadata": {
    "id": "d3ec6b48"
   },
   "source": [
    "`True` and `False` are special values that belong to the type `bool`;\n",
    "they are not strings:"
   ]
  },
  {
   "cell_type": "code",
   "execution_count": 5,
   "id": "90fb1c9c",
   "metadata": {
    "colab": {
     "base_uri": "https://localhost:8080/"
    },
    "executionInfo": {
     "elapsed": 21,
     "status": "ok",
     "timestamp": 1759120573665,
     "user": {
      "displayName": "Duc-Trong Le",
      "userId": "16908825448293823105"
     },
     "user_tz": -420
    },
    "id": "90fb1c9c",
    "outputId": "23f03df2-4442-4a88-814b-032afeb7e8ae"
   },
   "outputs": [
    {
     "data": {
      "text/plain": [
       "bool"
      ]
     },
     "execution_count": 5,
     "metadata": {},
     "output_type": "execute_result"
    }
   ],
   "source": [
    "type(True)"
   ]
  },
  {
   "cell_type": "code",
   "execution_count": 6,
   "id": "c1cae572",
   "metadata": {
    "colab": {
     "base_uri": "https://localhost:8080/"
    },
    "executionInfo": {
     "elapsed": 28,
     "status": "ok",
     "timestamp": 1759120576514,
     "user": {
      "displayName": "Duc-Trong Le",
      "userId": "16908825448293823105"
     },
     "user_tz": -420
    },
    "id": "c1cae572",
    "outputId": "34ad6306-927e-41bc-f273-4d757645ec8b"
   },
   "outputs": [
    {
     "data": {
      "text/plain": [
       "bool"
      ]
     },
     "execution_count": 6,
     "metadata": {},
     "output_type": "execute_result"
    }
   ],
   "source": [
    "type(False)"
   ]
  },
  {
   "cell_type": "markdown",
   "id": "451b2e8d",
   "metadata": {
    "id": "451b2e8d"
   },
   "source": [
    "The `==` operator is one of the **relational operators**; the others are:"
   ]
  },
  {
   "cell_type": "code",
   "execution_count": 7,
   "id": "c901fe2b",
   "metadata": {
    "colab": {
     "base_uri": "https://localhost:8080/"
    },
    "executionInfo": {
     "elapsed": 19,
     "status": "ok",
     "timestamp": 1759120582784,
     "user": {
      "displayName": "Duc-Trong Le",
      "userId": "16908825448293823105"
     },
     "user_tz": -420
    },
    "id": "c901fe2b",
    "outputId": "4fde3f0a-2fe2-4d71-9344-903cb2ceff9f"
   },
   "outputs": [
    {
     "data": {
      "text/plain": [
       "True"
      ]
     },
     "execution_count": 7,
     "metadata": {},
     "output_type": "execute_result"
    }
   ],
   "source": [
    "x != y               # x is not equal to y"
   ]
  },
  {
   "cell_type": "code",
   "execution_count": 8,
   "id": "1457949f",
   "metadata": {
    "colab": {
     "base_uri": "https://localhost:8080/"
    },
    "executionInfo": {
     "elapsed": 7,
     "status": "ok",
     "timestamp": 1759120584138,
     "user": {
      "displayName": "Duc-Trong Le",
      "userId": "16908825448293823105"
     },
     "user_tz": -420
    },
    "id": "1457949f",
    "outputId": "fd81d953-b583-4146-ede5-e85b0921469a"
   },
   "outputs": [
    {
     "data": {
      "text/plain": [
       "False"
      ]
     },
     "execution_count": 8,
     "metadata": {},
     "output_type": "execute_result"
    }
   ],
   "source": [
    "x > y                # x is greater than y"
   ]
  },
  {
   "cell_type": "code",
   "execution_count": 9,
   "id": "56bb7eed",
   "metadata": {
    "colab": {
     "base_uri": "https://localhost:8080/"
    },
    "executionInfo": {
     "elapsed": 9,
     "status": "ok",
     "timestamp": 1759120585011,
     "user": {
      "displayName": "Duc-Trong Le",
      "userId": "16908825448293823105"
     },
     "user_tz": -420
    },
    "id": "56bb7eed",
    "outputId": "2bd023d2-5355-4306-f814-0817f9530352"
   },
   "outputs": [
    {
     "data": {
      "text/plain": [
       "True"
      ]
     },
     "execution_count": 9,
     "metadata": {},
     "output_type": "execute_result"
    }
   ],
   "source": [
    "x < y               # x is less than to y"
   ]
  },
  {
   "cell_type": "code",
   "execution_count": 10,
   "id": "1cdcc7ab",
   "metadata": {
    "colab": {
     "base_uri": "https://localhost:8080/"
    },
    "executionInfo": {
     "elapsed": 8,
     "status": "ok",
     "timestamp": 1759120586340,
     "user": {
      "displayName": "Duc-Trong Le",
      "userId": "16908825448293823105"
     },
     "user_tz": -420
    },
    "id": "1cdcc7ab",
    "outputId": "17002577-a642-429e-d36e-37c8f3c3be17"
   },
   "outputs": [
    {
     "data": {
      "text/plain": [
       "False"
      ]
     },
     "execution_count": 10,
     "metadata": {},
     "output_type": "execute_result"
    }
   ],
   "source": [
    "x >= y               # x is greater than or equal to y"
   ]
  },
  {
   "cell_type": "code",
   "execution_count": 11,
   "id": "df1a1287",
   "metadata": {
    "colab": {
     "base_uri": "https://localhost:8080/"
    },
    "executionInfo": {
     "elapsed": 21,
     "status": "ok",
     "timestamp": 1759120587252,
     "user": {
      "displayName": "Duc-Trong Le",
      "userId": "16908825448293823105"
     },
     "user_tz": -420
    },
    "id": "df1a1287",
    "outputId": "5898bd14-3e6e-4e3a-cc61-9c1a89fd889f"
   },
   "outputs": [
    {
     "data": {
      "text/plain": [
       "True"
      ]
     },
     "execution_count": 11,
     "metadata": {},
     "output_type": "execute_result"
    }
   ],
   "source": [
    "x <= y               # x is less than or equal to y"
   ]
  },
  {
   "cell_type": "markdown",
   "id": "db5a9477",
   "metadata": {
    "id": "db5a9477"
   },
   "source": [
    "## Logical operators\n",
    "\n",
    "To combine boolean values into expressions, we can use **logical operators**.\n",
    "The most common are `and`, ` or`, and `not`.\n",
    "The meaning of these operators is similar to their meaning in English.\n",
    "For example, the value of the following expression is `True` only if `x` is greater than `0` *and* less than `10`."
   ]
  },
  {
   "cell_type": "code",
   "execution_count": 20,
   "id": "848c5f2c",
   "metadata": {
    "colab": {
     "base_uri": "https://localhost:8080/"
    },
    "executionInfo": {
     "elapsed": 10,
     "status": "ok",
     "timestamp": 1759120615082,
     "user": {
      "displayName": "Duc-Trong Le",
      "userId": "16908825448293823105"
     },
     "user_tz": -420
    },
    "id": "848c5f2c",
    "outputId": "0075549a-4fa5-46fc-e17a-c0880d3a2c18"
   },
   "outputs": [
    {
     "data": {
      "text/plain": [
       "True"
      ]
     },
     "execution_count": 20,
     "metadata": {},
     "output_type": "execute_result"
    }
   ],
   "source": [
    "x > 0 and x < 10"
   ]
  },
  {
   "cell_type": "markdown",
   "id": "e8c14026",
   "metadata": {
    "id": "e8c14026"
   },
   "source": [
    "The following expression is `True` if *either or both* of the conditions is true, that is, if the number is divisible by 2 *or* 3:"
   ]
  },
  {
   "cell_type": "code",
   "execution_count": 21,
   "id": "eb66ee6a",
   "metadata": {
    "colab": {
     "base_uri": "https://localhost:8080/"
    },
    "executionInfo": {
     "elapsed": 17,
     "status": "ok",
     "timestamp": 1759120625670,
     "user": {
      "displayName": "Duc-Trong Le",
      "userId": "16908825448293823105"
     },
     "user_tz": -420
    },
    "id": "eb66ee6a",
    "outputId": "4e190344-ad0c-4d30-8f33-4f7866901ab4"
   },
   "outputs": [
    {
     "data": {
      "text/plain": [
       "False"
      ]
     },
     "execution_count": 21,
     "metadata": {},
     "output_type": "execute_result"
    }
   ],
   "source": [
    "x % 2 == 0 or x % 3 == 0"
   ]
  },
  {
   "cell_type": "markdown",
   "id": "3bd0ef52",
   "metadata": {
    "id": "3bd0ef52"
   },
   "source": [
    "Finally, the `not` operator negates a boolean expression, so the following expression is `True` if `x > y` is `False`."
   ]
  },
  {
   "cell_type": "code",
   "execution_count": 23,
   "id": "6de8b97c",
   "metadata": {
    "colab": {
     "base_uri": "https://localhost:8080/"
    },
    "executionInfo": {
     "elapsed": 10,
     "status": "ok",
     "timestamp": 1759120657404,
     "user": {
      "displayName": "Duc-Trong Le",
      "userId": "16908825448293823105"
     },
     "user_tz": -420
    },
    "id": "6de8b97c",
    "outputId": "d094f01e-2e16-4479-9bea-4896bfe56915"
   },
   "outputs": [
    {
     "data": {
      "text/plain": [
       "True"
      ]
     },
     "execution_count": 23,
     "metadata": {},
     "output_type": "execute_result"
    }
   ],
   "source": [
    "not (x > y)"
   ]
  },
  {
   "cell_type": "markdown",
   "id": "fc6098c2",
   "metadata": {
    "id": "fc6098c2"
   },
   "source": [
    "Strictly speaking, the operands of a logical operator should be boolean expressions, but Python is not very strict.\n",
    "Any nonzero number is interpreted as `True`:"
   ]
  },
  {
   "cell_type": "code",
   "execution_count": 24,
   "id": "add63275",
   "metadata": {
    "colab": {
     "base_uri": "https://localhost:8080/"
    },
    "executionInfo": {
     "elapsed": 5,
     "status": "ok",
     "timestamp": 1759120660015,
     "user": {
      "displayName": "Duc-Trong Le",
      "userId": "16908825448293823105"
     },
     "user_tz": -420
    },
    "id": "add63275",
    "outputId": "407ca3ae-a97c-438a-9a17-925b2c86705e"
   },
   "outputs": [
    {
     "data": {
      "text/plain": [
       "True"
      ]
     },
     "execution_count": 24,
     "metadata": {},
     "output_type": "execute_result"
    }
   ],
   "source": [
    "42 and True"
   ]
  },
  {
   "cell_type": "markdown",
   "id": "102ceab9",
   "metadata": {
    "id": "102ceab9"
   },
   "source": [
    "This flexibility can be useful, but there are some subtleties to it that can be confusing.\n",
    "You might want to avoid it."
   ]
  },
  {
   "cell_type": "markdown",
   "id": "6b0f2dc1",
   "metadata": {
    "id": "6b0f2dc1"
   },
   "source": [
    "## if statements\n",
    "\n",
    "In order to write useful programs, we almost always need the ability to\n",
    "check conditions and change the behavior of the program accordingly.\n",
    "**Conditional statements** give us this ability. The simplest form is\n",
    "the `if` statement:"
   ]
  },
  {
   "cell_type": "code",
   "execution_count": 26,
   "id": "80937bef",
   "metadata": {
    "colab": {
     "base_uri": "https://localhost:8080/"
    },
    "executionInfo": {
     "elapsed": 20,
     "status": "ok",
     "timestamp": 1759120696394,
     "user": {
      "displayName": "Duc-Trong Le",
      "userId": "16908825448293823105"
     },
     "user_tz": -420
    },
    "id": "80937bef",
    "outputId": "0c8871b0-7828-46a8-bf8f-5014b0746514"
   },
   "outputs": [
    {
     "name": "stdout",
     "output_type": "stream",
     "text": [
      "x is positive\n"
     ]
    }
   ],
   "source": [
    "if x > 0:\n",
    "    print('x is positive')"
   ]
  },
  {
   "cell_type": "markdown",
   "id": "973f705e",
   "metadata": {
    "id": "973f705e"
   },
   "source": [
    "`if` is a Python keyword.\n",
    "`if` statements have the same structure as function definitions: a\n",
    "header followed by an indented statement or sequence of statements called a **block**.\n",
    "\n",
    "The boolean expression after `if` is called the **condition**.\n",
    "If it is true, the statements in the indented block run. If not, they don't.\n",
    "\n",
    "There is no limit to the number of statements that can appear in the block, but there has to be at least one.\n",
    "Occasionally, it is useful to have a block that does nothing -- usually as a place keeper for code you haven't written yet.\n",
    "In that case, you can use the `pass` statement, which does nothing."
   ]
  },
  {
   "cell_type": "code",
   "execution_count": 27,
   "id": "bc74a318",
   "metadata": {
    "executionInfo": {
     "elapsed": 4,
     "status": "ok",
     "timestamp": 1759120699047,
     "user": {
      "displayName": "Duc-Trong Le",
      "userId": "16908825448293823105"
     },
     "user_tz": -420
    },
    "id": "bc74a318"
   },
   "outputs": [],
   "source": [
    "if x < 0:\n",
    "    pass          # TODO: need to handle negative values!"
   ]
  },
  {
   "cell_type": "markdown",
   "id": "adf3f6c5",
   "metadata": {
    "id": "adf3f6c5"
   },
   "source": [
    "The word `TODO` in a comment is a conventional reminder that there's something you need to do later."
   ]
  },
  {
   "cell_type": "markdown",
   "id": "eb39bcd9",
   "metadata": {
    "id": "eb39bcd9"
   },
   "source": [
    "## The `else` clause\n",
    "\n",
    "An `if` statement can have a second part, called an `else` clause.\n",
    "The syntax looks like this:"
   ]
  },
  {
   "cell_type": "code",
   "execution_count": 28,
   "id": "d16f49f2",
   "metadata": {
    "colab": {
     "base_uri": "https://localhost:8080/"
    },
    "executionInfo": {
     "elapsed": 28,
     "status": "ok",
     "timestamp": 1759120735159,
     "user": {
      "displayName": "Duc-Trong Le",
      "userId": "16908825448293823105"
     },
     "user_tz": -420
    },
    "id": "d16f49f2",
    "outputId": "a4261b31-a062-4cae-a75b-198785ce61a5"
   },
   "outputs": [
    {
     "name": "stdout",
     "output_type": "stream",
     "text": [
      "x is odd\n"
     ]
    }
   ],
   "source": [
    "if x % 2 == 0:\n",
    "    print('x is even')\n",
    "else:\n",
    "    print('x is odd')"
   ]
  },
  {
   "cell_type": "markdown",
   "id": "e7dc8943",
   "metadata": {
    "id": "e7dc8943"
   },
   "source": [
    "If the condition is true, the first indented statement runs; otherwise, the second indented statement runs.\n",
    "\n",
    "In this example, if `x` is even, the remainder when `x` is divided by `2` is `0`, so the condition is true and the program displays `x is even`.\n",
    "If `x` is odd, the remainder is `1`, so the condition\n",
    "is false, and the program displays `x is odd`.\n",
    "\n",
    "Since the condition must be true or false, exactly one of the alternatives will run.\n",
    "The alternatives are called **branches**."
   ]
  },
  {
   "cell_type": "markdown",
   "id": "20c8adb6",
   "metadata": {
    "id": "20c8adb6"
   },
   "source": [
    "## Chained conditionals\n",
    "\n",
    "Sometimes there are more than two possibilities and we need more than two branches.\n",
    "One way to express a computation like that is a **chained conditional**, which includes an `elif` clause."
   ]
  },
  {
   "cell_type": "code",
   "execution_count": 30,
   "id": "309fccb8",
   "metadata": {
    "colab": {
     "base_uri": "https://localhost:8080/"
    },
    "executionInfo": {
     "elapsed": 6,
     "status": "ok",
     "timestamp": 1759120795802,
     "user": {
      "displayName": "Duc-Trong Le",
      "userId": "16908825448293823105"
     },
     "user_tz": -420
    },
    "id": "309fccb8",
    "outputId": "c4ac8c9a-ec16-4ac9-ef5f-b403952704b7"
   },
   "outputs": [
    {
     "name": "stdout",
     "output_type": "stream",
     "text": [
      "x is greater than y\n"
     ]
    }
   ],
   "source": [
    "x = 15\n",
    "\n",
    "if x < y:\n",
    "    print('x is less than y')\n",
    "elif x > y:\n",
    "    print('x is greater than y')\n",
    "else:\n",
    "    print('x and y are equal')"
   ]
  },
  {
   "cell_type": "markdown",
   "id": "46916379",
   "metadata": {
    "id": "46916379"
   },
   "source": [
    "`elif` is an abbreviation of \"else if\".\n",
    "There is no limit on the number of `elif` clauses.\n",
    "If there is an `else` clause, it has to be at the end, but there doesn't have to be\n",
    "one.\n",
    "\n",
    "Each condition is checked in order.\n",
    "If the first is false, the next is checked, and so on.\n",
    "If one of them is true, the corresponding branch runs and the `if` statement ends.\n",
    "Even if more than one condition is true, only the first true branch runs."
   ]
  },
  {
   "cell_type": "markdown",
   "id": "e0c0b9dd",
   "metadata": {
    "id": "e0c0b9dd"
   },
   "source": [
    "## Nested Conditionals\n",
    "\n",
    "One conditional can also be nested within another.\n",
    "We could have written the example in the previous section like this:"
   ]
  },
  {
   "cell_type": "code",
   "execution_count": 31,
   "id": "d77539cf",
   "metadata": {
    "colab": {
     "base_uri": "https://localhost:8080/"
    },
    "executionInfo": {
     "elapsed": 8,
     "status": "ok",
     "timestamp": 1759120805898,
     "user": {
      "displayName": "Duc-Trong Le",
      "userId": "16908825448293823105"
     },
     "user_tz": -420
    },
    "id": "d77539cf",
    "outputId": "9863a93c-60f3-4412-a08b-a60c3db2f184"
   },
   "outputs": [
    {
     "name": "stdout",
     "output_type": "stream",
     "text": [
      "x is greater than y\n"
     ]
    }
   ],
   "source": [
    "if x == y:\n",
    "    print('x and y are equal')\n",
    "else: # x!= y\n",
    "    if x < y:\n",
    "        print('x is less than y')\n",
    "    else:\n",
    "        print('x is greater than y')"
   ]
  },
  {
   "cell_type": "code",
   "execution_count": 33,
   "id": "JwWKc-8MZfWF",
   "metadata": {
    "colab": {
     "base_uri": "https://localhost:8080/"
    },
    "executionInfo": {
     "elapsed": 57,
     "status": "ok",
     "timestamp": 1759120833212,
     "user": {
      "displayName": "Duc-Trong Le",
      "userId": "16908825448293823105"
     },
     "user_tz": -420
    },
    "id": "JwWKc-8MZfWF",
    "outputId": "dbd0a5cf-2b0b-45fa-f55e-1284d2389ecd"
   },
   "outputs": [
    {
     "name": "stdout",
     "output_type": "stream",
     "text": [
      "Excellent!\n"
     ]
    }
   ],
   "source": [
    "score = 92\n",
    "if score >= 90:\n",
    "    print(\"Excellent!\")\n",
    "elif score >= 70:\n",
    "    print(\"Good job!\")\n",
    "elif score >= 50:\n",
    "    print(\"Pass.\")\n",
    "else:\n",
    "    print(\"Fail.\")\n"
   ]
  },
  {
   "cell_type": "markdown",
   "id": "29f67a0a",
   "metadata": {
    "id": "29f67a0a"
   },
   "source": [
    "The outer `if` statement contains two branches.\n",
    "The first branch contains a simple statement. The second branch contains another `if` statement, which has two branches of its own.\n",
    "Those two branches are both simple statements, although they could have been conditional statements as well.\n",
    "\n",
    "Although the indentation of the statements makes the structure apparent, **nested conditionals** can be difficult to read.\n",
    "I suggest you avoid them when you can.\n",
    "\n",
    "Logical operators often provide a way to simplify nested conditional statements.\n",
    "Here's an example with a nested conditional."
   ]
  },
  {
   "cell_type": "code",
   "execution_count": 35,
   "id": "91cac1a0",
   "metadata": {
    "colab": {
     "base_uri": "https://localhost:8080/"
    },
    "executionInfo": {
     "elapsed": 6,
     "status": "ok",
     "timestamp": 1759120848474,
     "user": {
      "displayName": "Duc-Trong Le",
      "userId": "16908825448293823105"
     },
     "user_tz": -420
    },
    "id": "91cac1a0",
    "outputId": "704e50f9-58be-45de-c9de-83669ac23697"
   },
   "outputs": [
    {
     "name": "stdout",
     "output_type": "stream",
     "text": [
      "x is a positive single-digit number.\n"
     ]
    }
   ],
   "source": [
    "x = 5\n",
    "if 0 < x:\n",
    "    if x < 10: # 0 < x < 10\n",
    "        print('x is a positive single-digit number.')"
   ]
  },
  {
   "cell_type": "markdown",
   "id": "5292eb11",
   "metadata": {
    "id": "5292eb11"
   },
   "source": [
    "The `print` statement runs only if we make it past both conditionals, so we get the same effect with the `and` operator."
   ]
  },
  {
   "cell_type": "code",
   "execution_count": 36,
   "id": "f8ba1724",
   "metadata": {
    "colab": {
     "base_uri": "https://localhost:8080/"
    },
    "executionInfo": {
     "elapsed": 6,
     "status": "ok",
     "timestamp": 1759120852584,
     "user": {
      "displayName": "Duc-Trong Le",
      "userId": "16908825448293823105"
     },
     "user_tz": -420
    },
    "id": "f8ba1724",
    "outputId": "53123058-bb03-4b65-96f7-3329e3b0acb1"
   },
   "outputs": [
    {
     "name": "stdout",
     "output_type": "stream",
     "text": [
      "x is a positive single-digit number.\n"
     ]
    }
   ],
   "source": [
    "if 0 < x and x < 10:\n",
    "    print('x is a positive single-digit number.')"
   ]
  },
  {
   "cell_type": "markdown",
   "id": "dd8e808a",
   "metadata": {
    "id": "dd8e808a"
   },
   "source": [
    "For this kind of condition, Python provides a more concise option:"
   ]
  },
  {
   "cell_type": "code",
   "execution_count": 37,
   "id": "014cd6f4",
   "metadata": {
    "colab": {
     "base_uri": "https://localhost:8080/"
    },
    "executionInfo": {
     "elapsed": 7,
     "status": "ok",
     "timestamp": 1759120853713,
     "user": {
      "displayName": "Duc-Trong Le",
      "userId": "16908825448293823105"
     },
     "user_tz": -420
    },
    "id": "014cd6f4",
    "outputId": "7235a080-127e-43bc-afe1-6f5a9c3a2b6d"
   },
   "outputs": [
    {
     "name": "stdout",
     "output_type": "stream",
     "text": [
      "x is a positive single-digit number.\n"
     ]
    }
   ],
   "source": [
    "if 0 < x < 10:\n",
    "    print('x is a positive single-digit number.')"
   ]
  },
  {
   "cell_type": "markdown",
   "id": "2lrSq8VcaeRF",
   "metadata": {
    "id": "2lrSq8VcaeRF"
   },
   "source": [
    "A chained condition and its equivalent nested condition"
   ]
  },
  {
   "cell_type": "code",
   "execution_count": 38,
   "id": "LlW5h1JtaInT",
   "metadata": {
    "colab": {
     "base_uri": "https://localhost:8080/"
    },
    "executionInfo": {
     "elapsed": 5,
     "status": "ok",
     "timestamp": 1759120863613,
     "user": {
      "displayName": "Duc-Trong Le",
      "userId": "16908825448293823105"
     },
     "user_tz": -420
    },
    "id": "LlW5h1JtaInT",
    "outputId": "9e9543d5-68c9-477f-a051-73107345d619"
   },
   "outputs": [
    {
     "name": "stdout",
     "output_type": "stream",
     "text": [
      "A sweater will suffice.\n"
     ]
    }
   ],
   "source": [
    "raining = False\n",
    "freezing = False\n",
    "\n",
    "# what to wear?\n",
    "if raining and freezing:\n",
    "   print('Wear a waterproof coat.')\n",
    "elif raining and not freezing:\n",
    "   print('Bring an umbrella.')\n",
    "elif not raining and freezing:\n",
    "   print('Wear a warm coat!')\n",
    "else:\n",
    "   print('A sweater will suffice.')"
   ]
  },
  {
   "cell_type": "code",
   "execution_count": 39,
   "id": "l2odoiYFaU-a",
   "metadata": {
    "colab": {
     "base_uri": "https://localhost:8080/"
    },
    "executionInfo": {
     "elapsed": 6,
     "status": "ok",
     "timestamp": 1759120870037,
     "user": {
      "displayName": "Duc-Trong Le",
      "userId": "16908825448293823105"
     },
     "user_tz": -420
    },
    "id": "l2odoiYFaU-a",
    "outputId": "dbf1d827-1824-4da4-bb14-f8ec75865bb2"
   },
   "outputs": [
    {
     "name": "stdout",
     "output_type": "stream",
     "text": [
      "A sweater will suffice.\n"
     ]
    }
   ],
   "source": [
    "if raining:\n",
    "   if freezing:\n",
    "      print('Wear a waterproof coat.')\n",
    "   else:\n",
    "      print('Bring an umbrella.')\n",
    "else:\n",
    "   if freezing:\n",
    "      print('Wear a warm coat!')\n",
    "   else:\n",
    "      print('A sweater will suffice.')"
   ]
  },
  {
   "cell_type": "markdown",
   "id": "45299414",
   "metadata": {
    "id": "45299414"
   },
   "source": [
    "## Keyboard input\n",
    "\n",
    "The programs we have written so far accept no input from the user. They\n",
    "just do the same thing every time.\n",
    "\n",
    "Python provides a built-in function called `input` that stops the\n",
    "program and waits for the user to type something. When the user presses\n",
    "*Return* or *Enter*, the program resumes and `input` returns what the user\n",
    "typed as a string."
   ]
  },
  {
   "cell_type": "code",
   "execution_count": 40,
   "id": "ac0fb4a6",
   "metadata": {
    "executionInfo": {
     "elapsed": 22,
     "status": "ok",
     "timestamp": 1759120875393,
     "user": {
      "displayName": "Duc-Trong Le",
      "userId": "16908825448293823105"
     },
     "user_tz": -420
    },
    "id": "ac0fb4a6",
    "tags": [
     "remove-cell"
    ]
   },
   "outputs": [],
   "source": [
    "# Solution\n",
    "\n",
    "# This cell replaces the input function so the notebook runs without pausing\n",
    "def input():\n",
    "     return"
   ]
  },
  {
   "cell_type": "code",
   "execution_count": 38,
   "id": "f6a2e4d6",
   "metadata": {
    "colab": {
     "base_uri": "https://localhost:8080/",
     "height": 54
    },
    "executionInfo": {
     "elapsed": 11,
     "status": "error",
     "timestamp": 1759111961270,
     "user": {
      "displayName": "Duc-Trong Le",
      "userId": "16908825448293823105"
     },
     "user_tz": -420
    },
    "id": "f6a2e4d6",
    "outputId": "fea54c52-2b42-44be-adc1-fe3b6b7e6215"
   },
   "outputs": [
    {
     "ename": "TypeError",
     "evalue": "input() missing 1 required positional argument: 'prompt'",
     "output_type": "error",
     "traceback": [
      "\u001b[0;31mTypeError\u001b[0m\u001b[0;31m:\u001b[0m input() missing 1 required positional argument: 'prompt'\n"
     ]
    }
   ],
   "source": [
    "text = input()"
   ]
  },
  {
   "cell_type": "markdown",
   "id": "acf9ec53",
   "metadata": {
    "id": "acf9ec53"
   },
   "source": [
    "Before getting input from the user, you might want to display a prompt\n",
    "telling the user what to type. `input` can take a prompt as an argument:"
   ]
  },
  {
   "cell_type": "code",
   "execution_count": 12,
   "id": "e0600e5e",
   "metadata": {
    "executionInfo": {
     "elapsed": 22,
     "status": "ok",
     "timestamp": 1759120877061,
     "user": {
      "displayName": "Duc-Trong Le",
      "userId": "16908825448293823105"
     },
     "user_tz": -420
    },
    "id": "e0600e5e",
    "tags": [
     "remove-cell"
    ]
   },
   "outputs": [],
   "source": [
    "# Solution\n",
    "\n",
    "# This cell replaces the input function so the notebook runs without pausing\n",
    "def input(prompt):\n",
    "    print(prompt, end='')\n",
    "    reply = 'It is Arthur, King of the Britons'\n",
    "    print(reply)\n",
    "    return reply"
   ]
  },
  {
   "cell_type": "code",
   "execution_count": 13,
   "id": "964346f0",
   "metadata": {
    "colab": {
     "base_uri": "https://localhost:8080/",
     "height": 70
    },
    "executionInfo": {
     "elapsed": 8,
     "status": "ok",
     "timestamp": 1759111965328,
     "user": {
      "displayName": "Duc-Trong Le",
      "userId": "16908825448293823105"
     },
     "user_tz": -420
    },
    "id": "964346f0",
    "outputId": "c672af11-1669-46f4-907d-b8551dcbcb0d"
   },
   "outputs": [
    {
     "name": "stdout",
     "output_type": "stream",
     "text": [
      "What...is your name?\n",
      "It is Arthur, King of the Britons\n"
     ]
    },
    {
     "data": {
      "text/plain": [
       "'It is Arthur, King of the Britons'"
      ]
     },
     "execution_count": 13,
     "metadata": {},
     "output_type": "execute_result"
    }
   ],
   "source": [
    "name = input('What...is your name?\\n')\n",
    "name"
   ]
  },
  {
   "cell_type": "markdown",
   "id": "1b754b39",
   "metadata": {
    "id": "1b754b39"
   },
   "source": [
    "The sequence `\\n` at the end of the prompt represents a **newline**, which is a special character that causes a line break -- that way the user's input appears below the prompt.\n",
    "\n",
    "If you expect the user to type an integer, you can use the `int` function to convert the return value to `int`."
   ]
  },
  {
   "cell_type": "code",
   "execution_count": 16,
   "id": "590983cd",
   "metadata": {
    "id": "590983cd",
    "tags": [
     "remove-cell",
     "raises-exception"
    ]
   },
   "outputs": [],
   "source": [
    "# Solution\n",
    "\n",
    "# This cell replaces the input function so the notebook runs without pausing\n",
    "def input(prompt):\n",
    "    print(prompt, end='')\n",
    "    reply = 'What do you mean: an African or European swallow?'\n",
    "    print(reply)\n",
    "    return reply"
   ]
  },
  {
   "cell_type": "code",
   "execution_count": 17,
   "id": "60a484d7",
   "metadata": {
    "colab": {
     "base_uri": "https://localhost:8080/",
     "height": 70
    },
    "executionInfo": {
     "elapsed": 13,
     "status": "ok",
     "timestamp": 1759120878687,
     "user": {
      "displayName": "Duc-Trong Le",
      "userId": "16908825448293823105"
     },
     "user_tz": -420
    },
    "id": "60a484d7",
    "outputId": "eb7eee96-b936-4557-e3ef-8ed754ede0fc"
   },
   "outputs": [
    {
     "name": "stdout",
     "output_type": "stream",
     "text": [
      "What...is the airspeed velocity of an unladen swallow?\n",
      "What do you mean: an African or European swallow?\n"
     ]
    },
    {
     "data": {
      "text/plain": [
       "'What do you mean: an African or European swallow?'"
      ]
     },
     "execution_count": 17,
     "metadata": {},
     "output_type": "execute_result"
    }
   ],
   "source": [
    "prompt = 'What...is the airspeed velocity of an unladen swallow?\\n'\n",
    "speed = input(prompt)\n",
    "speed"
   ]
  },
  {
   "cell_type": "markdown",
   "id": "0a65f2af",
   "metadata": {
    "id": "0a65f2af"
   },
   "source": [
    "But if they type something that's not an integer, you'll get a runtime error."
   ]
  },
  {
   "cell_type": "code",
   "execution_count": null,
   "id": "8d3d6049",
   "metadata": {
    "colab": {
     "base_uri": "https://localhost:8080/"
    },
    "executionInfo": {
     "elapsed": 5,
     "status": "ok",
     "timestamp": 1757319196757,
     "user": {
      "displayName": "Chau Tran",
      "userId": "02458922725668427191"
     },
     "user_tz": -420
    },
    "id": "8d3d6049",
    "outputId": "74cd7f52-2e6f-43b8-cb10-5189d96fc46e",
    "tags": [
     "remove-cell"
    ]
   },
   "outputs": [
    {
     "name": "stdout",
     "output_type": "stream",
     "text": [
      "Exception reporting mode: Minimal\n"
     ]
    }
   ],
   "source": [
    "%xmode Minimal"
   ]
  },
  {
   "cell_type": "code",
   "execution_count": null,
   "id": "a04e3016",
   "metadata": {
    "colab": {
     "base_uri": "https://localhost:8080/",
     "height": 54
    },
    "executionInfo": {
     "elapsed": 2,
     "status": "ok",
     "timestamp": 1757319196760,
     "user": {
      "displayName": "Chau Tran",
      "userId": "02458922725668427191"
     },
     "user_tz": -420
    },
    "id": "a04e3016",
    "outputId": "efd140dc-aa12-4004-ed3f-7abd8a81183b",
    "tags": [
     "raises-exception"
    ]
   },
   "outputs": [
    {
     "ename": "ValueError",
     "evalue": "invalid literal for int() with base 10: 'What do you mean: an African or European swallow?'",
     "output_type": "error",
     "traceback": [
      "\u001b[0;31mValueError\u001b[0m\u001b[0;31m:\u001b[0m invalid literal for int() with base 10: 'What do you mean: an African or European swallow?'\n"
     ]
    }
   ],
   "source": [
    "%%expect ValueError\n",
    "\n",
    "int(speed)"
   ]
  },
  {
   "cell_type": "markdown",
   "id": "a4ce3ed5",
   "metadata": {
    "id": "a4ce3ed5"
   },
   "source": [
    "We will see how to handle this kind of error later."
   ]
  },
  {
   "cell_type": "markdown",
   "id": "14c1d3dc",
   "metadata": {
    "id": "14c1d3dc"
   },
   "source": [
    "## Debugging: Errors\n",
    "\n",
    "When a syntax or runtime error occurs, the error message contains a lot\n",
    "of information, but it can be overwhelming. The most useful parts are\n",
    "usually:\n",
    "\n",
    "-   What kind of error it was, and\n",
    "\n",
    "-   Where it occurred.\n",
    "\n",
    "Syntax errors are usually easy to find, but there are a few gotchas.\n",
    "Errors related to spaces and tabs can be tricky because they are invisible\n",
    "and we are used to ignoring them."
   ]
  },
  {
   "cell_type": "code",
   "execution_count": 43,
   "id": "b82642f6",
   "metadata": {
    "colab": {
     "base_uri": "https://localhost:8080/",
     "height": 106
    },
    "executionInfo": {
     "elapsed": 19,
     "status": "ok",
     "timestamp": 1759120883392,
     "user": {
      "displayName": "Duc-Trong Le",
      "userId": "16908825448293823105"
     },
     "user_tz": -420
    },
    "id": "b82642f6",
    "outputId": "3b1dc216-1f67-4af3-d776-0bc618405dd6",
    "tags": [
     "raises-exception"
    ]
   },
   "outputs": [
    {
     "ename": "IndentationError",
     "evalue": "unexpected indent (ipython-input-2365500740.py, line 2)",
     "output_type": "error",
     "traceback": [
      "\u001b[0;36m  File \u001b[0;32m\"/tmp/ipython-input-2365500740.py\"\u001b[0;36m, line \u001b[0;32m2\u001b[0m\n\u001b[0;31m    y = 6\u001b[0m\n\u001b[0m    ^\u001b[0m\n\u001b[0;31mIndentationError\u001b[0m\u001b[0;31m:\u001b[0m unexpected indent\n"
     ]
    }
   ],
   "source": [
    "%%expect IndentationError\n",
    "x = 5\n",
    " y = 6"
   ]
  },
  {
   "cell_type": "markdown",
   "id": "d1d06263",
   "metadata": {
    "id": "d1d06263"
   },
   "source": [
    "In this example, the problem is that the second line is indented by one space.\n",
    "But the error message points to `y`, which is misleading.\n",
    "Error messages indicate where the problem was discovered, but the actual error might be earlier in the code.\n",
    "\n",
    "The same is true of runtime errors.\n",
    "For example, suppose you are trying to convert a ratio to decibels, like this:"
   ]
  },
  {
   "cell_type": "code",
   "execution_count": 44,
   "id": "583ef53c",
   "metadata": {
    "colab": {
     "base_uri": "https://localhost:8080/"
    },
    "executionInfo": {
     "elapsed": 19,
     "status": "ok",
     "timestamp": 1759120898241,
     "user": {
      "displayName": "Duc-Trong Le",
      "userId": "16908825448293823105"
     },
     "user_tz": -420
    },
    "id": "583ef53c",
    "outputId": "fb729800-04a9-4ebe-e1b6-4753e9e6085d",
    "tags": [
     "remove-cell"
    ]
   },
   "outputs": [
    {
     "name": "stdout",
     "output_type": "stream",
     "text": [
      "Exception reporting mode: Context\n"
     ]
    }
   ],
   "source": [
    "%xmode Context"
   ]
  },
  {
   "cell_type": "code",
   "execution_count": 45,
   "id": "2f4b6082",
   "metadata": {
    "colab": {
     "base_uri": "https://localhost:8080/",
     "height": 176
    },
    "executionInfo": {
     "elapsed": 28,
     "status": "ok",
     "timestamp": 1759120900008,
     "user": {
      "displayName": "Duc-Trong Le",
      "userId": "16908825448293823105"
     },
     "user_tz": -420
    },
    "id": "2f4b6082",
    "outputId": "64c5de0b-4468-43f8-adb8-260cbbd4e23e",
    "tags": [
     "raises-exception"
    ]
   },
   "outputs": [
    {
     "ename": "ValueError",
     "evalue": "math domain error",
     "output_type": "error",
     "traceback": [
      "\u001b[0;31m---------------------------------------------------------------------------\u001b[0m",
      "\u001b[0;31mValueError\u001b[0m                                Traceback (most recent call last)",
      "\u001b[0;32m/tmp/ipython-input-3830115708.py\u001b[0m in \u001b[0;36m<cell line: 0>\u001b[0;34m()\u001b[0m\n\u001b[1;32m      3\u001b[0m \u001b[0mdenominator\u001b[0m \u001b[0;34m=\u001b[0m \u001b[0;36m10\u001b[0m\u001b[0;34m\u001b[0m\u001b[0;34m\u001b[0m\u001b[0m\n\u001b[1;32m      4\u001b[0m \u001b[0mratio\u001b[0m \u001b[0;34m=\u001b[0m \u001b[0mnumerator\u001b[0m \u001b[0;34m//\u001b[0m \u001b[0mdenominator\u001b[0m\u001b[0;34m\u001b[0m\u001b[0;34m\u001b[0m\u001b[0m\n\u001b[0;32m----> 5\u001b[0;31m \u001b[0mdecibels\u001b[0m \u001b[0;34m=\u001b[0m \u001b[0;36m10\u001b[0m \u001b[0;34m*\u001b[0m \u001b[0mmath\u001b[0m\u001b[0;34m.\u001b[0m\u001b[0mlog10\u001b[0m\u001b[0;34m(\u001b[0m\u001b[0mratio\u001b[0m\u001b[0;34m)\u001b[0m\u001b[0;34m\u001b[0m\u001b[0;34m\u001b[0m\u001b[0m\n\u001b[0m",
      "\u001b[0;31mValueError\u001b[0m: math domain error"
     ]
    }
   ],
   "source": [
    "%%expect ValueError\n",
    "import math\n",
    "numerator = 9\n",
    "denominator = 10\n",
    "ratio = numerator // denominator\n",
    "decibels = 10 * math.log10(ratio)"
   ]
  },
  {
   "cell_type": "markdown",
   "id": "55914374",
   "metadata": {
    "id": "55914374"
   },
   "source": [
    "The error message indicates line 5, but there is nothing wrong with that line.\n",
    "The problem is in line 4, which uses integer division instead of floating-point division -- as a result, the value of `ratio` is `0`.\n",
    "When we call `math.log10`, we get a `ValueError` with the message `math domain error`, because `0` is not in the \"domain\" of valid arguments for `math.log10`, because the logarithm of `0` is undefined.\n",
    "\n",
    "In general, you should take the time to read error messages carefully, but don't assume that everything they say is correct."
   ]
  },
  {
   "cell_type": "markdown",
   "id": "88EepQEBa8Lp",
   "metadata": {
    "id": "88EepQEBa8Lp"
   },
   "source": [
    "# Debugging: Watches and Traces"
   ]
  },
  {
   "cell_type": "markdown",
   "id": "7ptF8Is7bL6a",
   "metadata": {
    "id": "7ptF8Is7bL6a"
   },
   "source": [
    "Original code"
   ]
  },
  {
   "cell_type": "code",
   "execution_count": 46,
   "id": "p-SP2vzsbBDB",
   "metadata": {
    "executionInfo": {
     "elapsed": 14,
     "status": "ok",
     "timestamp": 1759120905842,
     "user": {
      "displayName": "Duc-Trong Le",
      "userId": "16908825448293823105"
     },
     "user_tz": -420
    },
    "id": "p-SP2vzsbBDB"
   },
   "outputs": [],
   "source": [
    "if x > y:\n",
    "   winner = \"x\"\n",
    "else:\n",
    "   winner = \"y\""
   ]
  },
  {
   "cell_type": "markdown",
   "id": "emf4DOPHbOUh",
   "metadata": {
    "id": "emf4DOPHbOUh"
   },
   "source": [
    "Debugging flow with print statements"
   ]
  },
  {
   "cell_type": "code",
   "execution_count": 47,
   "id": "-zXcbFTKbQ_Z",
   "metadata": {
    "colab": {
     "base_uri": "https://localhost:8080/"
    },
    "executionInfo": {
     "elapsed": 32,
     "status": "ok",
     "timestamp": 1759120906967,
     "user": {
      "displayName": "Duc-Trong Le",
      "userId": "16908825448293823105"
     },
     "user_tz": -420
    },
    "id": "-zXcbFTKbQ_Z",
    "outputId": "8eda09e2-7fd3-442f-9c26-48304cf58925"
   },
   "outputs": [
    {
     "name": "stdout",
     "output_type": "stream",
     "text": [
      "before if\n",
      "inside else\n",
      "after if\n"
     ]
    }
   ],
   "source": [
    "print('before if')\n",
    "if x > y:\n",
    "   print('inside if')\n",
    "   winner = \"x\"\n",
    "else:\n",
    "   print('inside else')\n",
    "   winner = \"y\"\n",
    "print('after if')"
   ]
  },
  {
   "cell_type": "markdown",
   "id": "mcdTN5sqbZ6K",
   "metadata": {
    "id": "mcdTN5sqbZ6K"
   },
   "source": [
    "\"Trace\" vs. \"Watch\" Prints"
   ]
  },
  {
   "cell_type": "code",
   "execution_count": 48,
   "id": "GpNkgPfqbb-R",
   "metadata": {
    "colab": {
     "base_uri": "https://localhost:8080/"
    },
    "executionInfo": {
     "elapsed": 26,
     "status": "ok",
     "timestamp": 1759120908320,
     "user": {
      "displayName": "Duc-Trong Le",
      "userId": "16908825448293823105"
     },
     "user_tz": -420
    },
    "id": "GpNkgPfqbb-R",
    "outputId": "c0d5af01-76d0-4f59-e750-03058dbe28e9"
   },
   "outputs": [
    {
     "name": "stdout",
     "output_type": "stream",
     "text": [
      "before if\n",
      "inside else\n",
      "winner = y\n",
      "after if\n"
     ]
    }
   ],
   "source": [
    "print('before if')\n",
    "if x > y:\n",
    "   print('inside if')\n",
    "   winner = \"x\"\n",
    "   print('winner = '+winner)\n",
    "else:\n",
    "   print('inside else')\n",
    "   winner = \"y\"\n",
    "   print('winner = '+winner)\n",
    "print('after if')\n"
   ]
  },
  {
   "cell_type": "markdown",
   "id": "PmAnCi5-daeN",
   "metadata": {
    "id": "PmAnCi5-daeN"
   },
   "source": [
    "Use functions"
   ]
  },
  {
   "cell_type": "code",
   "execution_count": 49,
   "id": "yaOSCqVldk2T",
   "metadata": {
    "executionInfo": {
     "elapsed": 26,
     "status": "ok",
     "timestamp": 1759120922317,
     "user": {
      "displayName": "Duc-Trong Le",
      "userId": "16908825448293823105"
     },
     "user_tz": -420
    },
    "id": "yaOSCqVldk2T"
   },
   "outputs": [],
   "source": [
    "def what_to_wear(raining, freezing):\n",
    "   if raining:\n",
    "      if freezing:\n",
    "          return 'Waterproof coat'\n",
    "      else:\n",
    "          return 'Umbrella'\n",
    "   else:\n",
    "      if freezing:\n",
    "         return 'Warm coat'\n",
    "      else:\n",
    "         return 'Sweater'\n"
   ]
  },
  {
   "cell_type": "markdown",
   "id": "waYAywUndpgE",
   "metadata": {
    "id": "waYAywUndpgE"
   },
   "source": [
    "run test cases"
   ]
  },
  {
   "cell_type": "code",
   "execution_count": 50,
   "id": "reGFQ8jBd_tT",
   "metadata": {
    "colab": {
     "base_uri": "https://localhost:8080/",
     "height": 35
    },
    "executionInfo": {
     "elapsed": 31,
     "status": "ok",
     "timestamp": 1759120924021,
     "user": {
      "displayName": "Duc-Trong Le",
      "userId": "16908825448293823105"
     },
     "user_tz": -420
    },
    "id": "reGFQ8jBd_tT",
    "outputId": "ef5c2fbb-1c6f-45cd-822c-7bfbabca5926"
   },
   "outputs": [
    {
     "data": {
      "application/vnd.google.colaboratory.intrinsic+json": {
       "type": "string"
      },
      "text/plain": [
       "'Umbrella'"
      ]
     },
     "execution_count": 50,
     "metadata": {},
     "output_type": "execute_result"
    }
   ],
   "source": [
    "what_to_wear(True, False)"
   ]
  },
  {
   "cell_type": "code",
   "execution_count": 51,
   "id": "bgRfJnXIeHMy",
   "metadata": {
    "colab": {
     "base_uri": "https://localhost:8080/",
     "height": 35
    },
    "executionInfo": {
     "elapsed": 4,
     "status": "ok",
     "timestamp": 1759120925334,
     "user": {
      "displayName": "Duc-Trong Le",
      "userId": "16908825448293823105"
     },
     "user_tz": -420
    },
    "id": "bgRfJnXIeHMy",
    "outputId": "49b4c99f-78cb-4304-a7e4-3d3c27517744"
   },
   "outputs": [
    {
     "data": {
      "application/vnd.google.colaboratory.intrinsic+json": {
       "type": "string"
      },
      "text/plain": [
       "'Waterproof coat'"
      ]
     },
     "execution_count": 51,
     "metadata": {},
     "output_type": "execute_result"
    }
   ],
   "source": [
    "what_to_wear(True, True)"
   ]
  },
  {
   "cell_type": "code",
   "execution_count": 52,
   "id": "PzzGlNXbeQDv",
   "metadata": {
    "colab": {
     "base_uri": "https://localhost:8080/",
     "height": 35
    },
    "executionInfo": {
     "elapsed": 24,
     "status": "ok",
     "timestamp": 1759120926070,
     "user": {
      "displayName": "Duc-Trong Le",
      "userId": "16908825448293823105"
     },
     "user_tz": -420
    },
    "id": "PzzGlNXbeQDv",
    "outputId": "3a9ac827-7a57-4df8-bfbe-e2c01593b7e4"
   },
   "outputs": [
    {
     "data": {
      "application/vnd.google.colaboratory.intrinsic+json": {
       "type": "string"
      },
      "text/plain": [
       "'Sweater'"
      ]
     },
     "execution_count": 52,
     "metadata": {},
     "output_type": "execute_result"
    }
   ],
   "source": [
    "what_to_wear(False, False)"
   ]
  },
  {
   "cell_type": "code",
   "execution_count": 53,
   "id": "1RYyzsXzeQDw",
   "metadata": {
    "colab": {
     "base_uri": "https://localhost:8080/",
     "height": 35
    },
    "executionInfo": {
     "elapsed": 8,
     "status": "ok",
     "timestamp": 1759120926990,
     "user": {
      "displayName": "Duc-Trong Le",
      "userId": "16908825448293823105"
     },
     "user_tz": -420
    },
    "id": "1RYyzsXzeQDw",
    "outputId": "d11e7ed0-6c81-4434-bf03-e6f22e3d295f"
   },
   "outputs": [
    {
     "data": {
      "application/vnd.google.colaboratory.intrinsic+json": {
       "type": "string"
      },
      "text/plain": [
       "'Warm coat'"
      ]
     },
     "execution_count": 53,
     "metadata": {},
     "output_type": "execute_result"
    }
   ],
   "source": [
    "what_to_wear(False, True)"
   ]
  },
  {
   "cell_type": "markdown",
   "id": "8d783953",
   "metadata": {
    "id": "8d783953"
   },
   "source": [
    "## Exercises"
   ]
  },
  {
   "cell_type": "code",
   "execution_count": 58,
   "id": "66aae3cb",
   "metadata": {
    "colab": {
     "base_uri": "https://localhost:8080/"
    },
    "executionInfo": {
     "elapsed": 6,
     "status": "ok",
     "timestamp": 1757319196781,
     "user": {
      "displayName": "Chau Tran",
      "userId": "02458922725668427191"
     },
     "user_tz": -420
    },
    "id": "66aae3cb",
    "outputId": "6b54e6a2-3da0-41ed-86bf-ea98e29cd2b3",
    "tags": [
     "remove-print"
    ]
   },
   "outputs": [
    {
     "name": "stdout",
     "output_type": "stream",
     "text": [
      "Exception reporting mode: Verbose\n"
     ]
    }
   ],
   "source": [
    "# This cell tells Jupyter to provide detailed debugging information\n",
    "# when a runtime error occurs. Run it before working on the exercises.\n",
    "\n",
    "%xmode Verbose"
   ]
  },
  {
   "cell_type": "markdown",
   "id": "02f9f1d7",
   "metadata": {
    "id": "02f9f1d7"
   },
   "source": [
    "### Ask a virtual assistant\n",
    "\n",
    "* Ask a virtual assistant, \"What are some uses of the modulus operator?\"\n",
    "\n",
    "* Python provides operators to compute the logical operations `and`, `or`, and `not`, but it doesn't have an operator that computes the exclusive `or` operation, usually written `xor`. Ask an assistant \"What is the logical xor operation and how do I compute it in Python?\"\n",
    "\n",
    "In this chapter, we saw two ways to write an `if` statement with three branches, using a chained conditional or a nested conditional.\n",
    "You can use a virtual assistant to convert from one to the other.\n",
    "For example, ask a VA, \"Convert this statement to a chained conditional.\""
   ]
  },
  {
   "cell_type": "code",
   "execution_count": 18,
   "id": "ade1ecb4",
   "metadata": {
    "id": "ade1ecb4",
    "tags": [
     "remove-cell"
    ]
   },
   "outputs": [],
   "source": [
    "x = 5\n",
    "y = 7"
   ]
  },
  {
   "cell_type": "code",
   "execution_count": null,
   "id": "dc7026c2",
   "metadata": {
    "colab": {
     "base_uri": "https://localhost:8080/"
    },
    "executionInfo": {
     "elapsed": 5,
     "status": "ok",
     "timestamp": 1757319196790,
     "user": {
      "displayName": "Chau Tran",
      "userId": "02458922725668427191"
     },
     "user_tz": -420
    },
    "id": "dc7026c2",
    "outputId": "197bfb35-3ea3-42f1-8723-2f32061db919"
   },
   "outputs": [
    {
     "name": "stdout",
     "output_type": "stream",
     "text": [
      "x is less than y\n"
     ]
    }
   ],
   "source": [
    "if x == y:\n",
    "    print('x and y are equal')\n",
    "else:\n",
    "    if x < y:\n",
    "        print('x is less than y')\n",
    "    else:\n",
    "        print('x is greater than y')"
   ]
  },
  {
   "cell_type": "markdown",
   "id": "9c2a8466",
   "metadata": {
    "id": "9c2a8466"
   },
   "source": [
    "Ask a VA, \"Rewrite this statement with a single conditional.\""
   ]
  },
  {
   "cell_type": "code",
   "execution_count": null,
   "id": "1fd919ea",
   "metadata": {
    "colab": {
     "base_uri": "https://localhost:8080/"
    },
    "executionInfo": {
     "elapsed": 5,
     "status": "ok",
     "timestamp": 1757319196796,
     "user": {
      "displayName": "Chau Tran",
      "userId": "02458922725668427191"
     },
     "user_tz": -420
    },
    "id": "1fd919ea",
    "outputId": "bfa4a22e-12c5-4fec-9f05-936e20e8b5db"
   },
   "outputs": [
    {
     "name": "stdout",
     "output_type": "stream",
     "text": [
      "x is a positive single-digit number.\n"
     ]
    }
   ],
   "source": [
    "if 0 < x:\n",
    "    if x < 10:\n",
    "        print('x is a positive single-digit number.')"
   ]
  },
  {
   "cell_type": "markdown",
   "id": "e0fbed08",
   "metadata": {
    "id": "e0fbed08"
   },
   "source": [
    "See if a VA can simplify this unnecessary complexity."
   ]
  },
  {
   "cell_type": "code",
   "execution_count": 34,
   "id": "1e71702e",
   "metadata": {
    "colab": {
     "base_uri": "https://localhost:8080/"
    },
    "executionInfo": {
     "elapsed": 4,
     "status": "ok",
     "timestamp": 1757319196801,
     "user": {
      "displayName": "Chau Tran",
      "userId": "02458922725668427191"
     },
     "user_tz": -420
    },
    "id": "1e71702e",
    "outputId": "49b2656e-1461-4de5-9deb-568a052532fe"
   },
   "outputs": [
    {
     "name": "stdout",
     "output_type": "stream",
     "text": [
      "False\n"
     ]
    }
   ],
   "source": [
    "freezing  = True\n",
    "print(not freezing)"
   ]
  },
  {
   "cell_type": "markdown",
   "id": "240a3888",
   "metadata": {
    "id": "240a3888"
   },
   "source": [
    "### Exercise\n",
    "\n",
    "The `time` module provides a function, also called `time`, that returns\n",
    "returns the number of seconds since the \"Unix epoch\", which is January 1, 1970, 00:00:00 UTC (Coordinated Universal Time)."
   ]
  },
  {
   "cell_type": "code",
   "execution_count": 51,
   "id": "1e7a2c07",
   "metadata": {
    "colab": {
     "base_uri": "https://localhost:8080/"
    },
    "executionInfo": {
     "elapsed": 4,
     "status": "ok",
     "timestamp": 1757319196806,
     "user": {
      "displayName": "Chau Tran",
      "userId": "02458922725668427191"
     },
     "user_tz": -420
    },
    "id": "1e7a2c07",
    "outputId": "c9059490-6f03-4299-e2d5-0b802bd53a5d"
   },
   "outputs": [
    {
     "data": {
      "text/plain": [
       "1759303579.0007985"
      ]
     },
     "execution_count": 51,
     "metadata": {},
     "output_type": "execute_result"
    }
   ],
   "source": [
    "from time import time\n",
    "\n",
    "now = time()\n",
    "now"
   ]
  },
  {
   "cell_type": "markdown",
   "id": "054c3197",
   "metadata": {
    "id": "054c3197"
   },
   "source": [
    "Use integer division and the modulus operator to compute the number of days since January 1, 1970 and the current time of day in hours, minutes, and seconds."
   ]
  },
  {
   "cell_type": "markdown",
   "id": "310196ba",
   "metadata": {
    "id": "310196ba",
    "tags": [
     "remove-print"
    ]
   },
   "source": [
    "You can read more about the `time` module at <https://docs.python.org/3/library/time.html>."
   ]
  },
  {
   "cell_type": "code",
   "execution_count": 39,
   "id": "c5fa57b2",
   "metadata": {
    "colab": {
     "base_uri": "https://localhost:8080/"
    },
    "executionInfo": {
     "elapsed": 5,
     "status": "ok",
     "timestamp": 1757319196811,
     "user": {
      "displayName": "Chau Tran",
      "userId": "02458922725668427191"
     },
     "user_tz": -420
    },
    "id": "c5fa57b2",
    "outputId": "5fff09c9-bf7c-4ce6-9c20-a7eea30819bf"
   },
   "outputs": [
    {
     "data": {
      "text/plain": [
       "20362"
      ]
     },
     "execution_count": 39,
     "metadata": {},
     "output_type": "execute_result"
    }
   ],
   "source": [
    "# Solution\n",
    "\n",
    "seconds_per_day = 24 * 60 * 60\n",
    "days = int(now // seconds_per_day)\n",
    "days"
   ]
  },
  {
   "cell_type": "code",
   "execution_count": 49,
   "id": "322ddd0a",
   "metadata": {
    "colab": {
     "base_uri": "https://localhost:8080/"
    },
    "executionInfo": {
     "elapsed": 4,
     "status": "ok",
     "timestamp": 1757319196816,
     "user": {
      "displayName": "Chau Tran",
      "userId": "02458922725668427191"
     },
     "user_tz": -420
    },
    "id": "322ddd0a",
    "outputId": "bd530070-ac65-4041-ed2d-7a731ad1b080"
   },
   "outputs": [
    {
     "data": {
      "text/plain": [
       "7.0"
      ]
     },
     "execution_count": 49,
     "metadata": {},
     "output_type": "execute_result"
    }
   ],
   "source": [
    "# Solution\n",
    "\n",
    "remainder = now % seconds_per_day # số giây còn thừa sau khi chia dư ngày \n",
    "\n",
    "hours = remainder // 3600 # tính ra số tiếng con thừa \n",
    "hours"
   ]
  },
  {
   "cell_type": "code",
   "execution_count": null,
   "id": "fc43df7d",
   "metadata": {
    "colab": {
     "base_uri": "https://localhost:8080/"
    },
    "executionInfo": {
     "elapsed": 3,
     "status": "ok",
     "timestamp": 1757319196820,
     "user": {
      "displayName": "Chau Tran",
      "userId": "02458922725668427191"
     },
     "user_tz": -420
    },
    "id": "fc43df7d",
    "outputId": "e7e3e85b-8a63-4bdf-884a-c40388af0082"
   },
   "outputs": [
    {
     "data": {
      "text/plain": [
       "28.232746291160584"
      ]
     },
     "execution_count": 57,
     "metadata": {},
     "output_type": "execute_result"
    }
   ],
   "source": [
    "# Solution\n",
    "from time import time\n",
    "now = time()\n",
    "seconds_per_day = 24 * 60 * 60\n",
    "remainder = now % seconds_per_day\n",
    "\n",
    "remainder = remainder % 3600\n",
    "\n",
    "minutes = remainder // 60\n",
    "minutes"
   ]
  },
  {
   "cell_type": "code",
   "execution_count": 61,
   "id": "0184d21a",
   "metadata": {
    "colab": {
     "base_uri": "https://localhost:8080/"
    },
    "executionInfo": {
     "elapsed": 4,
     "status": "ok",
     "timestamp": 1757319196825,
     "user": {
      "displayName": "Chau Tran",
      "userId": "02458922725668427191"
     },
     "user_tz": -420
    },
    "id": "0184d21a",
    "outputId": "32b05af7-63eb-4efe-af39-128aeb106af5"
   },
   "outputs": [
    {
     "name": "stdout",
     "output_type": "stream",
     "text": [
      "51.13395619392395\n"
     ]
    }
   ],
   "source": [
    "# Solution\n",
    "from time import time\n",
    "now = time()\n",
    "seconds_per_day = 24 * 60 * 60\n",
    "remainder = now % seconds_per_day # số giây còn thừa\n",
    "\n",
    "remainder = remainder % 3600 # số giờ  ->  số giây còn thừa\n",
    "\n",
    "minutes = remainder // 60 # số phút\n",
    "seconds = remainder %  60 # số phút -> số giây còn thừa \n",
    "print(seconds)\n"
   ]
  },
  {
   "cell_type": "markdown",
   "id": "6b1fd514",
   "metadata": {
    "id": "6b1fd514"
   },
   "source": [
    "### Exercise\n",
    "\n",
    "If you are given three sticks, you may or may not be able to arrange\n",
    "them in a triangle. For example, if one of the sticks is 12 inches long\n",
    "and the other two are one inch long, you will not be able to get the\n",
    "short sticks to meet in the middle. For any three lengths, there is a\n",
    "test to see if it is possible to form a triangle:\n",
    "\n",
    "> If any of the three lengths is greater than the sum of the other two,\n",
    "> then you cannot form a triangle. Otherwise, you can. (If the sum of\n",
    "> two lengths equals the third, they form what is called a \"degenerate\"\n",
    "> triangle.)\n",
    "\n",
    "Write a function named `is_triangle` that takes three integers as\n",
    "arguments, and that prints either \"Yes\" or \"No\", depending on\n",
    "whether you can or cannot form a triangle from sticks with the given\n",
    "lengths. Hint: Use a chained conditional.\n",
    "\n"
   ]
  },
  {
   "cell_type": "code",
   "execution_count": 33,
   "id": "06381639",
   "metadata": {
    "id": "06381639",
    "tags": [
     "remove-cell"
    ]
   },
   "outputs": [],
   "source": [
    "# Solution\n",
    "\n",
    "def is_triangle(a, b, c):\n",
    "    if a > b + c:\n",
    "        print('No')\n",
    "    elif b > a + c:\n",
    "        print('No')\n",
    "    elif c > a + b:\n",
    "        print('No')\n",
    "    else:\n",
    "        print('Yes')"
   ]
  },
  {
   "cell_type": "markdown",
   "id": "2842401c",
   "metadata": {
    "id": "2842401c",
    "tags": [
     "remove-cell"
    ]
   },
   "source": [
    "Test your function with the following cases."
   ]
  },
  {
   "cell_type": "code",
   "execution_count": 2,
   "id": "156273af",
   "metadata": {
    "colab": {
     "base_uri": "https://localhost:8080/"
    },
    "executionInfo": {
     "elapsed": 5,
     "status": "ok",
     "timestamp": 1757319196833,
     "user": {
      "displayName": "Chau Tran",
      "userId": "02458922725668427191"
     },
     "user_tz": -420
    },
    "id": "156273af",
    "outputId": "c1e51c56-9f5b-4161-e12d-061b787dc2be",
    "tags": [
     "remove-cell"
    ]
   },
   "outputs": [
    {
     "name": "stdout",
     "output_type": "stream",
     "text": [
      "Yes\n"
     ]
    }
   ],
   "source": [
    "# Solution\n",
    "\n",
    "def is_triangle(a, b, c):\n",
    "    if a > b + c:\n",
    "        print('No')\n",
    "    elif b > a + c:\n",
    "        print('No')\n",
    "    elif c > a + b:\n",
    "        print('No')\n",
    "    else:\n",
    "        print('Yes')\n",
    "is_triangle(4, 5, 6)   # should be Yes"
   ]
  },
  {
   "cell_type": "code",
   "execution_count": 32,
   "id": "e00793f4",
   "metadata": {
    "colab": {
     "base_uri": "https://localhost:8080/"
    },
    "executionInfo": {
     "elapsed": 4,
     "status": "ok",
     "timestamp": 1757319196837,
     "user": {
      "displayName": "Chau Tran",
      "userId": "02458922725668427191"
     },
     "user_tz": -420
    },
    "id": "e00793f4",
    "outputId": "67e50cf6-4296-4f34-e496-afe8dd4edf69",
    "tags": [
     "remove-cell"
    ]
   },
   "outputs": [
    {
     "ename": "NameError",
     "evalue": "name 'is_triangle' is not defined",
     "output_type": "error",
     "traceback": [
      "\u001b[31m---------------------------------------------------------------------------\u001b[39m",
      "\u001b[31mNameError\u001b[39m                                 Traceback (most recent call last)",
      "\u001b[36mCell\u001b[39m\u001b[36m \u001b[39m\u001b[32mIn[32]\u001b[39m\u001b[32m, line 1\u001b[39m\n\u001b[32m----> \u001b[39m\u001b[32m1\u001b[39m \u001b[43mis_triangle\u001b[49m(\u001b[32m1\u001b[39m, \u001b[32m2\u001b[39m, \u001b[32m3\u001b[39m)   \u001b[38;5;66;03m# should be Yes\u001b[39;00m\n",
      "\u001b[31mNameError\u001b[39m: name 'is_triangle' is not defined"
     ]
    }
   ],
   "source": [
    "is_triangle(1, 2, 3)   # should be Yes"
   ]
  },
  {
   "cell_type": "code",
   "execution_count": null,
   "id": "d2911c71",
   "metadata": {
    "colab": {
     "base_uri": "https://localhost:8080/"
    },
    "executionInfo": {
     "elapsed": 4,
     "status": "ok",
     "timestamp": 1757319196842,
     "user": {
      "displayName": "Chau Tran",
      "userId": "02458922725668427191"
     },
     "user_tz": -420
    },
    "id": "d2911c71",
    "outputId": "ff39973b-7ef6-4756-b80b-5514519e5dc0",
    "tags": [
     "remove-cell"
    ]
   },
   "outputs": [
    {
     "name": "stdout",
     "output_type": "stream",
     "text": [
      "No\n"
     ]
    }
   ],
   "source": [
    "is_triangle(6, 2, 3)   # should be No"
   ]
  },
  {
   "cell_type": "code",
   "execution_count": null,
   "id": "2b05586e",
   "metadata": {
    "colab": {
     "base_uri": "https://localhost:8080/"
    },
    "executionInfo": {
     "elapsed": 15,
     "status": "ok",
     "timestamp": 1757319196858,
     "user": {
      "displayName": "Chau Tran",
      "userId": "02458922725668427191"
     },
     "user_tz": -420
    },
    "id": "2b05586e",
    "outputId": "fdfc4c1c-2824-4302-c558-0f6f587565fd",
    "tags": [
     "remove-cell"
    ]
   },
   "outputs": [
    {
     "name": "stdout",
     "output_type": "stream",
     "text": [
      "No\n"
     ]
    }
   ],
   "source": [
    "is_triangle(1, 1, 12)   # should be No"
   ]
  },
  {
   "cell_type": "markdown",
   "id": "bca9517d",
   "metadata": {
    "id": "bca9517d"
   },
   "source": [
    "### Exercise\n",
    "\n",
    "The following exercises use the `jupyturtle` module, described in Chapter 4.\n",
    "\n",
    "Read the following function and see if you can figure out what it does.\n",
    "Then run it and see if you got it right.\n",
    "Adjust the values of `length`, `angle` and `factor` and see what effect they have on the result.\n",
    "If you are not sure you understand how it works, try asking a virtual assistant."
   ]
  },
  {
   "cell_type": "code",
   "execution_count": 62,
   "id": "2b0d60a1",
   "metadata": {
    "id": "2b0d60a1"
   },
   "outputs": [
    {
     "name": "stdout",
     "output_type": "stream",
     "text": [
      "Defaulting to user installation because normal site-packages is not writeable\n",
      "Collecting jupyturtle\n",
      "  Downloading jupyturtle-2024.4.1-py3-none-any.whl.metadata (2.5 kB)\n",
      "Requirement already satisfied: ipython>=8 in c:\\users\\admin\\appdata\\local\\packages\\pythonsoftwarefoundation.python.3.13_qbz5n2kfra8p0\\localcache\\local-packages\\python313\\site-packages (from jupyturtle) (9.5.0)\n",
      "Collecting jupyter (from jupyturtle)\n",
      "  Downloading jupyter-1.1.1-py2.py3-none-any.whl.metadata (2.0 kB)\n",
      "Collecting pytest (from jupyturtle)\n",
      "  Downloading pytest-8.4.2-py3-none-any.whl.metadata (7.7 kB)\n",
      "Requirement already satisfied: colorama in c:\\users\\admin\\appdata\\local\\packages\\pythonsoftwarefoundation.python.3.13_qbz5n2kfra8p0\\localcache\\local-packages\\python313\\site-packages (from ipython>=8->jupyturtle) (0.4.6)\n",
      "Requirement already satisfied: decorator in c:\\users\\admin\\appdata\\local\\packages\\pythonsoftwarefoundation.python.3.13_qbz5n2kfra8p0\\localcache\\local-packages\\python313\\site-packages (from ipython>=8->jupyturtle) (5.2.1)\n",
      "Requirement already satisfied: ipython-pygments-lexers in c:\\users\\admin\\appdata\\local\\packages\\pythonsoftwarefoundation.python.3.13_qbz5n2kfra8p0\\localcache\\local-packages\\python313\\site-packages (from ipython>=8->jupyturtle) (1.1.1)\n",
      "Requirement already satisfied: jedi>=0.16 in c:\\users\\admin\\appdata\\local\\packages\\pythonsoftwarefoundation.python.3.13_qbz5n2kfra8p0\\localcache\\local-packages\\python313\\site-packages (from ipython>=8->jupyturtle) (0.19.2)\n",
      "Requirement already satisfied: matplotlib-inline in c:\\users\\admin\\appdata\\local\\packages\\pythonsoftwarefoundation.python.3.13_qbz5n2kfra8p0\\localcache\\local-packages\\python313\\site-packages (from ipython>=8->jupyturtle) (0.1.7)\n",
      "Requirement already satisfied: prompt_toolkit<3.1.0,>=3.0.41 in c:\\users\\admin\\appdata\\local\\packages\\pythonsoftwarefoundation.python.3.13_qbz5n2kfra8p0\\localcache\\local-packages\\python313\\site-packages (from ipython>=8->jupyturtle) (3.0.52)\n",
      "Requirement already satisfied: pygments>=2.4.0 in c:\\users\\admin\\appdata\\local\\packages\\pythonsoftwarefoundation.python.3.13_qbz5n2kfra8p0\\localcache\\local-packages\\python313\\site-packages (from ipython>=8->jupyturtle) (2.19.2)\n",
      "Requirement already satisfied: stack_data in c:\\users\\admin\\appdata\\local\\packages\\pythonsoftwarefoundation.python.3.13_qbz5n2kfra8p0\\localcache\\local-packages\\python313\\site-packages (from ipython>=8->jupyturtle) (0.6.3)\n",
      "Requirement already satisfied: traitlets>=5.13.0 in c:\\users\\admin\\appdata\\local\\packages\\pythonsoftwarefoundation.python.3.13_qbz5n2kfra8p0\\localcache\\local-packages\\python313\\site-packages (from ipython>=8->jupyturtle) (5.14.3)\n",
      "Requirement already satisfied: wcwidth in c:\\users\\admin\\appdata\\local\\packages\\pythonsoftwarefoundation.python.3.13_qbz5n2kfra8p0\\localcache\\local-packages\\python313\\site-packages (from prompt_toolkit<3.1.0,>=3.0.41->ipython>=8->jupyturtle) (0.2.14)\n",
      "Requirement already satisfied: parso<0.9.0,>=0.8.4 in c:\\users\\admin\\appdata\\local\\packages\\pythonsoftwarefoundation.python.3.13_qbz5n2kfra8p0\\localcache\\local-packages\\python313\\site-packages (from jedi>=0.16->ipython>=8->jupyturtle) (0.8.5)\n",
      "Collecting notebook (from jupyter->jupyturtle)\n",
      "  Downloading notebook-7.4.7-py3-none-any.whl.metadata (10 kB)\n",
      "Collecting jupyter-console (from jupyter->jupyturtle)\n",
      "  Downloading jupyter_console-6.6.3-py3-none-any.whl.metadata (5.8 kB)\n",
      "Collecting nbconvert (from jupyter->jupyturtle)\n",
      "  Downloading nbconvert-7.16.6-py3-none-any.whl.metadata (8.5 kB)\n",
      "Requirement already satisfied: ipykernel in c:\\users\\admin\\appdata\\local\\packages\\pythonsoftwarefoundation.python.3.13_qbz5n2kfra8p0\\localcache\\local-packages\\python313\\site-packages (from jupyter->jupyturtle) (6.30.1)\n",
      "Collecting ipywidgets (from jupyter->jupyturtle)\n",
      "  Downloading ipywidgets-8.1.7-py3-none-any.whl.metadata (2.4 kB)\n",
      "Collecting jupyterlab (from jupyter->jupyturtle)\n",
      "  Downloading jupyterlab-4.4.9-py3-none-any.whl.metadata (16 kB)\n",
      "Requirement already satisfied: comm>=0.1.1 in c:\\users\\admin\\appdata\\local\\packages\\pythonsoftwarefoundation.python.3.13_qbz5n2kfra8p0\\localcache\\local-packages\\python313\\site-packages (from ipykernel->jupyter->jupyturtle) (0.2.3)\n",
      "Requirement already satisfied: debugpy>=1.6.5 in c:\\users\\admin\\appdata\\local\\packages\\pythonsoftwarefoundation.python.3.13_qbz5n2kfra8p0\\localcache\\local-packages\\python313\\site-packages (from ipykernel->jupyter->jupyturtle) (1.8.17)\n",
      "Requirement already satisfied: jupyter-client>=8.0.0 in c:\\users\\admin\\appdata\\local\\packages\\pythonsoftwarefoundation.python.3.13_qbz5n2kfra8p0\\localcache\\local-packages\\python313\\site-packages (from ipykernel->jupyter->jupyturtle) (8.6.3)\n",
      "Requirement already satisfied: jupyter-core!=5.0.*,>=4.12 in c:\\users\\admin\\appdata\\local\\packages\\pythonsoftwarefoundation.python.3.13_qbz5n2kfra8p0\\localcache\\local-packages\\python313\\site-packages (from ipykernel->jupyter->jupyturtle) (5.8.1)\n",
      "Requirement already satisfied: nest-asyncio>=1.4 in c:\\users\\admin\\appdata\\local\\packages\\pythonsoftwarefoundation.python.3.13_qbz5n2kfra8p0\\localcache\\local-packages\\python313\\site-packages (from ipykernel->jupyter->jupyturtle) (1.6.0)\n",
      "Requirement already satisfied: packaging>=22 in c:\\users\\admin\\appdata\\local\\packages\\pythonsoftwarefoundation.python.3.13_qbz5n2kfra8p0\\localcache\\local-packages\\python313\\site-packages (from ipykernel->jupyter->jupyturtle) (25.0)\n",
      "Requirement already satisfied: psutil>=5.7 in c:\\users\\admin\\appdata\\local\\packages\\pythonsoftwarefoundation.python.3.13_qbz5n2kfra8p0\\localcache\\local-packages\\python313\\site-packages (from ipykernel->jupyter->jupyturtle) (7.1.0)\n",
      "Requirement already satisfied: pyzmq>=25 in c:\\users\\admin\\appdata\\local\\packages\\pythonsoftwarefoundation.python.3.13_qbz5n2kfra8p0\\localcache\\local-packages\\python313\\site-packages (from ipykernel->jupyter->jupyturtle) (27.1.0)\n",
      "Requirement already satisfied: tornado>=6.2 in c:\\users\\admin\\appdata\\local\\packages\\pythonsoftwarefoundation.python.3.13_qbz5n2kfra8p0\\localcache\\local-packages\\python313\\site-packages (from ipykernel->jupyter->jupyturtle) (6.5.2)\n",
      "Requirement already satisfied: python-dateutil>=2.8.2 in c:\\users\\admin\\appdata\\local\\packages\\pythonsoftwarefoundation.python.3.13_qbz5n2kfra8p0\\localcache\\local-packages\\python313\\site-packages (from jupyter-client>=8.0.0->ipykernel->jupyter->jupyturtle) (2.9.0.post0)\n",
      "Requirement already satisfied: platformdirs>=2.5 in c:\\users\\admin\\appdata\\local\\packages\\pythonsoftwarefoundation.python.3.13_qbz5n2kfra8p0\\localcache\\local-packages\\python313\\site-packages (from jupyter-core!=5.0.*,>=4.12->ipykernel->jupyter->jupyturtle) (4.4.0)\n",
      "Requirement already satisfied: pywin32>=300 in c:\\users\\admin\\appdata\\local\\packages\\pythonsoftwarefoundation.python.3.13_qbz5n2kfra8p0\\localcache\\local-packages\\python313\\site-packages (from jupyter-core!=5.0.*,>=4.12->ipykernel->jupyter->jupyturtle) (311)\n",
      "Requirement already satisfied: six>=1.5 in c:\\users\\admin\\appdata\\local\\packages\\pythonsoftwarefoundation.python.3.13_qbz5n2kfra8p0\\localcache\\local-packages\\python313\\site-packages (from python-dateutil>=2.8.2->jupyter-client>=8.0.0->ipykernel->jupyter->jupyturtle) (1.17.0)\n",
      "Collecting widgetsnbextension~=4.0.14 (from ipywidgets->jupyter->jupyturtle)\n",
      "  Downloading widgetsnbextension-4.0.14-py3-none-any.whl.metadata (1.6 kB)\n",
      "Collecting jupyterlab_widgets~=3.0.15 (from ipywidgets->jupyter->jupyturtle)\n",
      "  Downloading jupyterlab_widgets-3.0.15-py3-none-any.whl.metadata (20 kB)\n",
      "Collecting async-lru>=1.0.0 (from jupyterlab->jupyter->jupyturtle)\n",
      "  Downloading async_lru-2.0.5-py3-none-any.whl.metadata (4.5 kB)\n",
      "Collecting httpx<1,>=0.25.0 (from jupyterlab->jupyter->jupyturtle)\n",
      "  Downloading httpx-0.28.1-py3-none-any.whl.metadata (7.1 kB)\n",
      "Collecting jinja2>=3.0.3 (from jupyterlab->jupyter->jupyturtle)\n",
      "  Downloading jinja2-3.1.6-py3-none-any.whl.metadata (2.9 kB)\n",
      "Collecting jupyter-lsp>=2.0.0 (from jupyterlab->jupyter->jupyturtle)\n",
      "  Downloading jupyter_lsp-2.3.0-py3-none-any.whl.metadata (1.8 kB)\n",
      "Collecting jupyter-server<3,>=2.4.0 (from jupyterlab->jupyter->jupyturtle)\n",
      "  Downloading jupyter_server-2.17.0-py3-none-any.whl.metadata (8.5 kB)\n",
      "Collecting jupyterlab-server<3,>=2.27.1 (from jupyterlab->jupyter->jupyturtle)\n",
      "  Downloading jupyterlab_server-2.27.3-py3-none-any.whl.metadata (5.9 kB)\n",
      "Collecting notebook-shim>=0.2 (from jupyterlab->jupyter->jupyturtle)\n",
      "  Downloading notebook_shim-0.2.4-py3-none-any.whl.metadata (4.0 kB)\n",
      "Collecting setuptools>=41.1.0 (from jupyterlab->jupyter->jupyturtle)\n",
      "  Downloading setuptools-80.9.0-py3-none-any.whl.metadata (6.6 kB)\n",
      "Collecting anyio (from httpx<1,>=0.25.0->jupyterlab->jupyter->jupyturtle)\n",
      "  Downloading anyio-4.11.0-py3-none-any.whl.metadata (4.1 kB)\n",
      "Collecting certifi (from httpx<1,>=0.25.0->jupyterlab->jupyter->jupyturtle)\n",
      "  Downloading certifi-2025.8.3-py3-none-any.whl.metadata (2.4 kB)\n",
      "Collecting httpcore==1.* (from httpx<1,>=0.25.0->jupyterlab->jupyter->jupyturtle)\n",
      "  Downloading httpcore-1.0.9-py3-none-any.whl.metadata (21 kB)\n",
      "Collecting idna (from httpx<1,>=0.25.0->jupyterlab->jupyter->jupyturtle)\n",
      "  Downloading idna-3.10-py3-none-any.whl.metadata (10 kB)\n",
      "Collecting h11>=0.16 (from httpcore==1.*->httpx<1,>=0.25.0->jupyterlab->jupyter->jupyturtle)\n",
      "  Downloading h11-0.16.0-py3-none-any.whl.metadata (8.3 kB)\n",
      "Collecting argon2-cffi>=21.1 (from jupyter-server<3,>=2.4.0->jupyterlab->jupyter->jupyturtle)\n",
      "  Downloading argon2_cffi-25.1.0-py3-none-any.whl.metadata (4.1 kB)\n",
      "Collecting jupyter-events>=0.11.0 (from jupyter-server<3,>=2.4.0->jupyterlab->jupyter->jupyturtle)\n",
      "  Downloading jupyter_events-0.12.0-py3-none-any.whl.metadata (5.8 kB)\n",
      "Collecting jupyter-server-terminals>=0.4.4 (from jupyter-server<3,>=2.4.0->jupyterlab->jupyter->jupyturtle)\n",
      "  Downloading jupyter_server_terminals-0.5.3-py3-none-any.whl.metadata (5.6 kB)\n",
      "Collecting nbformat>=5.3.0 (from jupyter-server<3,>=2.4.0->jupyterlab->jupyter->jupyturtle)\n",
      "  Downloading nbformat-5.10.4-py3-none-any.whl.metadata (3.6 kB)\n",
      "Collecting prometheus-client>=0.9 (from jupyter-server<3,>=2.4.0->jupyterlab->jupyter->jupyturtle)\n",
      "  Downloading prometheus_client-0.23.1-py3-none-any.whl.metadata (1.9 kB)\n",
      "Collecting pywinpty>=2.0.1 (from jupyter-server<3,>=2.4.0->jupyterlab->jupyter->jupyturtle)\n",
      "  Downloading pywinpty-3.0.0-cp313-cp313-win_amd64.whl.metadata (101 bytes)\n",
      "Collecting send2trash>=1.8.2 (from jupyter-server<3,>=2.4.0->jupyterlab->jupyter->jupyturtle)\n",
      "  Downloading Send2Trash-1.8.3-py3-none-any.whl.metadata (4.0 kB)\n",
      "Collecting terminado>=0.8.3 (from jupyter-server<3,>=2.4.0->jupyterlab->jupyter->jupyturtle)\n",
      "  Downloading terminado-0.18.1-py3-none-any.whl.metadata (5.8 kB)\n",
      "Collecting websocket-client>=1.7 (from jupyter-server<3,>=2.4.0->jupyterlab->jupyter->jupyturtle)\n",
      "  Downloading websocket_client-1.8.0-py3-none-any.whl.metadata (8.0 kB)\n",
      "Collecting babel>=2.10 (from jupyterlab-server<3,>=2.27.1->jupyterlab->jupyter->jupyturtle)\n",
      "  Downloading babel-2.17.0-py3-none-any.whl.metadata (2.0 kB)\n",
      "Collecting json5>=0.9.0 (from jupyterlab-server<3,>=2.27.1->jupyterlab->jupyter->jupyturtle)\n",
      "  Downloading json5-0.12.1-py3-none-any.whl.metadata (36 kB)\n",
      "Collecting jsonschema>=4.18.0 (from jupyterlab-server<3,>=2.27.1->jupyterlab->jupyter->jupyturtle)\n",
      "  Downloading jsonschema-4.25.1-py3-none-any.whl.metadata (7.6 kB)\n",
      "Collecting requests>=2.31 (from jupyterlab-server<3,>=2.27.1->jupyterlab->jupyter->jupyturtle)\n",
      "  Downloading requests-2.32.5-py3-none-any.whl.metadata (4.9 kB)\n",
      "Collecting sniffio>=1.1 (from anyio->httpx<1,>=0.25.0->jupyterlab->jupyter->jupyturtle)\n",
      "  Downloading sniffio-1.3.1-py3-none-any.whl.metadata (3.9 kB)\n",
      "Collecting argon2-cffi-bindings (from argon2-cffi>=21.1->jupyter-server<3,>=2.4.0->jupyterlab->jupyter->jupyturtle)\n",
      "  Downloading argon2_cffi_bindings-25.1.0-cp39-abi3-win_amd64.whl.metadata (7.5 kB)\n",
      "Collecting MarkupSafe>=2.0 (from jinja2>=3.0.3->jupyterlab->jupyter->jupyturtle)\n",
      "  Downloading markupsafe-3.0.3-cp313-cp313-win_amd64.whl.metadata (2.8 kB)\n",
      "Collecting attrs>=22.2.0 (from jsonschema>=4.18.0->jupyterlab-server<3,>=2.27.1->jupyterlab->jupyter->jupyturtle)\n",
      "  Downloading attrs-25.3.0-py3-none-any.whl.metadata (10 kB)\n",
      "Collecting jsonschema-specifications>=2023.03.6 (from jsonschema>=4.18.0->jupyterlab-server<3,>=2.27.1->jupyterlab->jupyter->jupyturtle)\n",
      "  Downloading jsonschema_specifications-2025.9.1-py3-none-any.whl.metadata (2.9 kB)\n",
      "Collecting referencing>=0.28.4 (from jsonschema>=4.18.0->jupyterlab-server<3,>=2.27.1->jupyterlab->jupyter->jupyturtle)\n",
      "  Downloading referencing-0.36.2-py3-none-any.whl.metadata (2.8 kB)\n",
      "Collecting rpds-py>=0.7.1 (from jsonschema>=4.18.0->jupyterlab-server<3,>=2.27.1->jupyterlab->jupyter->jupyturtle)\n",
      "  Downloading rpds_py-0.27.1-cp313-cp313-win_amd64.whl.metadata (4.3 kB)\n",
      "Collecting python-json-logger>=2.0.4 (from jupyter-events>=0.11.0->jupyter-server<3,>=2.4.0->jupyterlab->jupyter->jupyturtle)\n",
      "  Downloading python_json_logger-3.3.0-py3-none-any.whl.metadata (4.0 kB)\n",
      "Collecting pyyaml>=5.3 (from jupyter-events>=0.11.0->jupyter-server<3,>=2.4.0->jupyterlab->jupyter->jupyturtle)\n",
      "  Downloading pyyaml-6.0.3-cp313-cp313-win_amd64.whl.metadata (2.4 kB)\n",
      "Collecting rfc3339-validator (from jupyter-events>=0.11.0->jupyter-server<3,>=2.4.0->jupyterlab->jupyter->jupyturtle)\n",
      "  Downloading rfc3339_validator-0.1.4-py2.py3-none-any.whl.metadata (1.5 kB)\n",
      "Collecting rfc3986-validator>=0.1.1 (from jupyter-events>=0.11.0->jupyter-server<3,>=2.4.0->jupyterlab->jupyter->jupyturtle)\n",
      "  Downloading rfc3986_validator-0.1.1-py2.py3-none-any.whl.metadata (1.7 kB)\n",
      "Collecting fqdn (from jsonschema[format-nongpl]>=4.18.0->jupyter-events>=0.11.0->jupyter-server<3,>=2.4.0->jupyterlab->jupyter->jupyturtle)\n",
      "  Downloading fqdn-1.5.1-py3-none-any.whl.metadata (1.4 kB)\n",
      "Collecting isoduration (from jsonschema[format-nongpl]>=4.18.0->jupyter-events>=0.11.0->jupyter-server<3,>=2.4.0->jupyterlab->jupyter->jupyturtle)\n",
      "  Downloading isoduration-20.11.0-py3-none-any.whl.metadata (5.7 kB)\n",
      "Collecting jsonpointer>1.13 (from jsonschema[format-nongpl]>=4.18.0->jupyter-events>=0.11.0->jupyter-server<3,>=2.4.0->jupyterlab->jupyter->jupyturtle)\n",
      "  Downloading jsonpointer-3.0.0-py2.py3-none-any.whl.metadata (2.3 kB)\n",
      "Collecting rfc3987-syntax>=1.1.0 (from jsonschema[format-nongpl]>=4.18.0->jupyter-events>=0.11.0->jupyter-server<3,>=2.4.0->jupyterlab->jupyter->jupyturtle)\n",
      "  Downloading rfc3987_syntax-1.1.0-py3-none-any.whl.metadata (7.7 kB)\n",
      "Collecting uri-template (from jsonschema[format-nongpl]>=4.18.0->jupyter-events>=0.11.0->jupyter-server<3,>=2.4.0->jupyterlab->jupyter->jupyturtle)\n",
      "  Downloading uri_template-1.3.0-py3-none-any.whl.metadata (8.8 kB)\n",
      "Collecting webcolors>=24.6.0 (from jsonschema[format-nongpl]>=4.18.0->jupyter-events>=0.11.0->jupyter-server<3,>=2.4.0->jupyterlab->jupyter->jupyturtle)\n",
      "  Downloading webcolors-24.11.1-py3-none-any.whl.metadata (2.2 kB)\n",
      "Collecting beautifulsoup4 (from nbconvert->jupyter->jupyturtle)\n",
      "  Downloading beautifulsoup4-4.14.2-py3-none-any.whl.metadata (3.8 kB)\n",
      "Collecting bleach!=5.0.0 (from bleach[css]!=5.0.0->nbconvert->jupyter->jupyturtle)\n",
      "  Downloading bleach-6.2.0-py3-none-any.whl.metadata (30 kB)\n",
      "Collecting defusedxml (from nbconvert->jupyter->jupyturtle)\n",
      "  Downloading defusedxml-0.7.1-py2.py3-none-any.whl.metadata (32 kB)\n",
      "Collecting jupyterlab-pygments (from nbconvert->jupyter->jupyturtle)\n",
      "  Downloading jupyterlab_pygments-0.3.0-py3-none-any.whl.metadata (4.4 kB)\n",
      "Collecting mistune<4,>=2.0.3 (from nbconvert->jupyter->jupyturtle)\n",
      "  Downloading mistune-3.1.4-py3-none-any.whl.metadata (1.8 kB)\n",
      "Collecting nbclient>=0.5.0 (from nbconvert->jupyter->jupyturtle)\n",
      "  Downloading nbclient-0.10.2-py3-none-any.whl.metadata (8.3 kB)\n",
      "Collecting pandocfilters>=1.4.1 (from nbconvert->jupyter->jupyturtle)\n",
      "  Downloading pandocfilters-1.5.1-py2.py3-none-any.whl.metadata (9.0 kB)\n",
      "Collecting webencodings (from bleach!=5.0.0->bleach[css]!=5.0.0->nbconvert->jupyter->jupyturtle)\n",
      "  Downloading webencodings-0.5.1-py2.py3-none-any.whl.metadata (2.1 kB)\n",
      "Collecting tinycss2<1.5,>=1.1.0 (from bleach[css]!=5.0.0->nbconvert->jupyter->jupyturtle)\n",
      "  Downloading tinycss2-1.4.0-py3-none-any.whl.metadata (3.0 kB)\n",
      "Collecting fastjsonschema>=2.15 (from nbformat>=5.3.0->jupyter-server<3,>=2.4.0->jupyterlab->jupyter->jupyturtle)\n",
      "  Downloading fastjsonschema-2.21.2-py3-none-any.whl.metadata (2.3 kB)\n",
      "Collecting charset_normalizer<4,>=2 (from requests>=2.31->jupyterlab-server<3,>=2.27.1->jupyterlab->jupyter->jupyturtle)\n",
      "  Downloading charset_normalizer-3.4.3-cp313-cp313-win_amd64.whl.metadata (37 kB)\n",
      "Collecting urllib3<3,>=1.21.1 (from requests>=2.31->jupyterlab-server<3,>=2.27.1->jupyterlab->jupyter->jupyturtle)\n",
      "  Downloading urllib3-2.5.0-py3-none-any.whl.metadata (6.5 kB)\n",
      "Collecting lark>=1.2.2 (from rfc3987-syntax>=1.1.0->jsonschema[format-nongpl]>=4.18.0->jupyter-events>=0.11.0->jupyter-server<3,>=2.4.0->jupyterlab->jupyter->jupyturtle)\n",
      "  Downloading lark-1.3.0-py3-none-any.whl.metadata (1.8 kB)\n",
      "Collecting cffi>=1.0.1 (from argon2-cffi-bindings->argon2-cffi>=21.1->jupyter-server<3,>=2.4.0->jupyterlab->jupyter->jupyturtle)\n",
      "  Downloading cffi-2.0.0-cp313-cp313-win_amd64.whl.metadata (2.6 kB)\n",
      "Collecting pycparser (from cffi>=1.0.1->argon2-cffi-bindings->argon2-cffi>=21.1->jupyter-server<3,>=2.4.0->jupyterlab->jupyter->jupyturtle)\n",
      "  Downloading pycparser-2.23-py3-none-any.whl.metadata (993 bytes)\n",
      "Collecting soupsieve>1.2 (from beautifulsoup4->nbconvert->jupyter->jupyturtle)\n",
      "  Downloading soupsieve-2.8-py3-none-any.whl.metadata (4.6 kB)\n",
      "Collecting typing-extensions>=4.0.0 (from beautifulsoup4->nbconvert->jupyter->jupyturtle)\n",
      "  Downloading typing_extensions-4.15.0-py3-none-any.whl.metadata (3.3 kB)\n",
      "Collecting arrow>=0.15.0 (from isoduration->jsonschema[format-nongpl]>=4.18.0->jupyter-events>=0.11.0->jupyter-server<3,>=2.4.0->jupyterlab->jupyter->jupyturtle)\n",
      "  Downloading arrow-1.3.0-py3-none-any.whl.metadata (7.5 kB)\n",
      "Collecting types-python-dateutil>=2.8.10 (from arrow>=0.15.0->isoduration->jsonschema[format-nongpl]>=4.18.0->jupyter-events>=0.11.0->jupyter-server<3,>=2.4.0->jupyterlab->jupyter->jupyturtle)\n",
      "  Downloading types_python_dateutil-2.9.0.20250822-py3-none-any.whl.metadata (1.8 kB)\n",
      "Collecting iniconfig>=1 (from pytest->jupyturtle)\n",
      "  Downloading iniconfig-2.1.0-py3-none-any.whl.metadata (2.7 kB)\n",
      "Collecting pluggy<2,>=1.5 (from pytest->jupyturtle)\n",
      "  Downloading pluggy-1.6.0-py3-none-any.whl.metadata (4.8 kB)\n",
      "Requirement already satisfied: executing>=1.2.0 in c:\\users\\admin\\appdata\\local\\packages\\pythonsoftwarefoundation.python.3.13_qbz5n2kfra8p0\\localcache\\local-packages\\python313\\site-packages (from stack_data->ipython>=8->jupyturtle) (2.2.1)\n",
      "Requirement already satisfied: asttokens>=2.1.0 in c:\\users\\admin\\appdata\\local\\packages\\pythonsoftwarefoundation.python.3.13_qbz5n2kfra8p0\\localcache\\local-packages\\python313\\site-packages (from stack_data->ipython>=8->jupyturtle) (3.0.0)\n",
      "Requirement already satisfied: pure-eval in c:\\users\\admin\\appdata\\local\\packages\\pythonsoftwarefoundation.python.3.13_qbz5n2kfra8p0\\localcache\\local-packages\\python313\\site-packages (from stack_data->ipython>=8->jupyturtle) (0.2.3)\n",
      "Downloading jupyturtle-2024.4.1-py3-none-any.whl (7.5 kB)\n",
      "Downloading jupyter-1.1.1-py2.py3-none-any.whl (2.7 kB)\n",
      "Downloading ipywidgets-8.1.7-py3-none-any.whl (139 kB)\n",
      "Downloading jupyterlab_widgets-3.0.15-py3-none-any.whl (216 kB)\n",
      "Downloading widgetsnbextension-4.0.14-py3-none-any.whl (2.2 MB)\n",
      "   ---------------------------------------- 0.0/2.2 MB ? eta -:--:--\n",
      "   ---------------------------------------- 0.0/2.2 MB ? eta -:--:--\n",
      "   ---------------------------------------- 0.0/2.2 MB ? eta -:--:--\n",
      "   ---- ----------------------------------- 0.3/2.2 MB ? eta -:--:--\n",
      "   ---- ----------------------------------- 0.3/2.2 MB ? eta -:--:--\n",
      "   ---- ----------------------------------- 0.3/2.2 MB ? eta -:--:--\n",
      "   --------- ------------------------------ 0.5/2.2 MB 384.0 kB/s eta 0:00:05\n",
      "   --------- ------------------------------ 0.5/2.2 MB 384.0 kB/s eta 0:00:05\n",
      "   --------- ------------------------------ 0.5/2.2 MB 384.0 kB/s eta 0:00:05\n",
      "   --------- ------------------------------ 0.5/2.2 MB 384.0 kB/s eta 0:00:05\n",
      "   -------------- ------------------------- 0.8/2.2 MB 328.8 kB/s eta 0:00:05\n",
      "   -------------- ------------------------- 0.8/2.2 MB 328.8 kB/s eta 0:00:05\n",
      "   -------------- ------------------------- 0.8/2.2 MB 328.8 kB/s eta 0:00:05\n",
      "   ------------------- -------------------- 1.0/2.2 MB 361.8 kB/s eta 0:00:04\n",
      "   ------------------- -------------------- 1.0/2.2 MB 361.8 kB/s eta 0:00:04\n",
      "   ------------------- -------------------- 1.0/2.2 MB 361.8 kB/s eta 0:00:04\n",
      "   ----------------------- ---------------- 1.3/2.2 MB 385.4 kB/s eta 0:00:03\n",
      "   ----------------------- ---------------- 1.3/2.2 MB 385.4 kB/s eta 0:00:03\n",
      "   ---------------------------- ----------- 1.6/2.2 MB 418.9 kB/s eta 0:00:02\n",
      "   --------------------------------- ------ 1.8/2.2 MB 456.6 kB/s eta 0:00:01\n",
      "   --------------------------------- ------ 1.8/2.2 MB 456.6 kB/s eta 0:00:01\n",
      "   -------------------------------------- - 2.1/2.2 MB 488.5 kB/s eta 0:00:01\n",
      "   ---------------------------------------- 2.2/2.2 MB 478.6 kB/s  0:00:04\n",
      "Downloading jupyter_console-6.6.3-py3-none-any.whl (24 kB)\n",
      "Downloading jupyterlab-4.4.9-py3-none-any.whl (12.3 MB)\n",
      "   ---------------------------------------- 0.0/12.3 MB ? eta -:--:--\n",
      "   ---------------------------------------- 0.0/12.3 MB ? eta -:--:--\n",
      "   ---------------------------------------- 0.0/12.3 MB ? eta -:--:--\n",
      "   ---------------------------------------- 0.0/12.3 MB ? eta -:--:--\n",
      "    --------------------------------------- 0.3/12.3 MB ? eta -:--:--\n",
      "    --------------------------------------- 0.3/12.3 MB ? eta -:--:--\n",
      "    --------------------------------------- 0.3/12.3 MB ? eta -:--:--\n",
      "   - -------------------------------------- 0.5/12.3 MB 415.3 kB/s eta 0:00:29\n",
      "   - -------------------------------------- 0.5/12.3 MB 415.3 kB/s eta 0:00:29\n",
      "   - -------------------------------------- 0.5/12.3 MB 415.3 kB/s eta 0:00:29\n",
      "   -- ------------------------------------- 0.8/12.3 MB 416.8 kB/s eta 0:00:28\n",
      "   -- ------------------------------------- 0.8/12.3 MB 416.8 kB/s eta 0:00:28\n",
      "   -- ------------------------------------- 0.8/12.3 MB 416.8 kB/s eta 0:00:28\n",
      "   --- ------------------------------------ 1.0/12.3 MB 415.7 kB/s eta 0:00:28\n",
      "   --- ------------------------------------ 1.0/12.3 MB 415.7 kB/s eta 0:00:28\n",
      "   --- ------------------------------------ 1.0/12.3 MB 415.7 kB/s eta 0:00:28\n",
      "   ---- ----------------------------------- 1.3/12.3 MB 425.2 kB/s eta 0:00:26\n",
      "   ---- ----------------------------------- 1.3/12.3 MB 425.2 kB/s eta 0:00:26\n",
      "   ----- ---------------------------------- 1.6/12.3 MB 445.9 kB/s eta 0:00:25\n",
      "   ----- ---------------------------------- 1.6/12.3 MB 445.9 kB/s eta 0:00:25\n",
      "   ----- ---------------------------------- 1.8/12.3 MB 475.0 kB/s eta 0:00:23\n",
      "   ------ --------------------------------- 2.1/12.3 MB 505.8 kB/s eta 0:00:21\n",
      "   ------ --------------------------------- 2.1/12.3 MB 505.8 kB/s eta 0:00:21\n",
      "   ------- -------------------------------- 2.4/12.3 MB 537.4 kB/s eta 0:00:19\n",
      "   -------- ------------------------------- 2.6/12.3 MB 567.3 kB/s eta 0:00:18\n",
      "   --------- ------------------------------ 2.9/12.3 MB 596.9 kB/s eta 0:00:16\n",
      "   --------- ------------------------------ 2.9/12.3 MB 596.9 kB/s eta 0:00:16\n",
      "   ---------- ----------------------------- 3.1/12.3 MB 611.0 kB/s eta 0:00:15\n",
      "   ---------- ----------------------------- 3.1/12.3 MB 611.0 kB/s eta 0:00:15\n",
      "   ----------- ---------------------------- 3.4/12.3 MB 611.8 kB/s eta 0:00:15\n",
      "   ----------- ---------------------------- 3.4/12.3 MB 611.8 kB/s eta 0:00:15\n",
      "   ----------- ---------------------------- 3.7/12.3 MB 614.5 kB/s eta 0:00:15\n",
      "   ----------- ---------------------------- 3.7/12.3 MB 614.5 kB/s eta 0:00:15\n",
      "   ------------ --------------------------- 3.9/12.3 MB 616.8 kB/s eta 0:00:14\n",
      "   ------------- -------------------------- 4.2/12.3 MB 625.2 kB/s eta 0:00:13\n",
      "   ------------- -------------------------- 4.2/12.3 MB 625.2 kB/s eta 0:00:13\n",
      "   -------------- ------------------------- 4.5/12.3 MB 637.0 kB/s eta 0:00:13\n",
      "   --------------- ------------------------ 4.7/12.3 MB 643.4 kB/s eta 0:00:12\n",
      "   ---------------- ----------------------- 5.0/12.3 MB 657.7 kB/s eta 0:00:12\n",
      "   ---------------- ----------------------- 5.0/12.3 MB 657.7 kB/s eta 0:00:12\n",
      "   ----------------- ---------------------- 5.2/12.3 MB 673.5 kB/s eta 0:00:11\n",
      "   ----------------- ---------------------- 5.5/12.3 MB 686.3 kB/s eta 0:00:10\n",
      "   ----------------- ---------------------- 5.5/12.3 MB 686.3 kB/s eta 0:00:10\n",
      "   ------------------ --------------------- 5.8/12.3 MB 684.6 kB/s eta 0:00:10\n",
      "   ------------------ --------------------- 5.8/12.3 MB 684.6 kB/s eta 0:00:10\n",
      "   ------------------- -------------------- 6.0/12.3 MB 670.7 kB/s eta 0:00:10\n",
      "   ------------------- -------------------- 6.0/12.3 MB 670.7 kB/s eta 0:00:10\n",
      "   ------------------- -------------------- 6.0/12.3 MB 670.7 kB/s eta 0:00:10\n",
      "   -------------------- ------------------- 6.3/12.3 MB 661.1 kB/s eta 0:00:10\n",
      "   -------------------- ------------------- 6.3/12.3 MB 661.1 kB/s eta 0:00:10\n",
      "   --------------------- ------------------ 6.6/12.3 MB 662.7 kB/s eta 0:00:09\n",
      "   ---------------------- ----------------- 6.8/12.3 MB 667.5 kB/s eta 0:00:09\n",
      "   ----------------------- ---------------- 7.1/12.3 MB 674.5 kB/s eta 0:00:08\n",
      "   ----------------------- ---------------- 7.1/12.3 MB 674.5 kB/s eta 0:00:08\n",
      "   ----------------------- ---------------- 7.3/12.3 MB 680.2 kB/s eta 0:00:08\n",
      "   ----------------------- ---------------- 7.3/12.3 MB 680.2 kB/s eta 0:00:08\n",
      "   ------------------------ --------------- 7.6/12.3 MB 674.6 kB/s eta 0:00:07\n",
      "   ------------------------ --------------- 7.6/12.3 MB 674.6 kB/s eta 0:00:07\n",
      "   ------------------------- -------------- 7.9/12.3 MB 674.7 kB/s eta 0:00:07\n",
      "   -------------------------- ------------- 8.1/12.3 MB 678.8 kB/s eta 0:00:07\n",
      "   -------------------------- ------------- 8.1/12.3 MB 678.8 kB/s eta 0:00:07\n",
      "   --------------------------- ------------ 8.4/12.3 MB 684.6 kB/s eta 0:00:06\n",
      "   ---------------------------- ----------- 8.7/12.3 MB 691.9 kB/s eta 0:00:06\n",
      "   ----------------------------- ---------- 8.9/12.3 MB 700.6 kB/s eta 0:00:05\n",
      "   ----------------------------- ---------- 8.9/12.3 MB 700.6 kB/s eta 0:00:05\n",
      "   ----------------------------- ---------- 9.2/12.3 MB 695.7 kB/s eta 0:00:05\n",
      "   ----------------------------- ---------- 9.2/12.3 MB 695.7 kB/s eta 0:00:05\n",
      "   ----------------------------- ---------- 9.2/12.3 MB 695.7 kB/s eta 0:00:05\n",
      "   ----------------------------- ---------- 9.2/12.3 MB 695.7 kB/s eta 0:00:05\n",
      "   ------------------------------ --------- 9.4/12.3 MB 677.5 kB/s eta 0:00:05\n",
      "   ------------------------------ --------- 9.4/12.3 MB 677.5 kB/s eta 0:00:05\n",
      "   ------------------------------- -------- 9.7/12.3 MB 673.8 kB/s eta 0:00:04\n",
      "   ------------------------------- -------- 9.7/12.3 MB 673.8 kB/s eta 0:00:04\n",
      "   -------------------------------- ------- 10.0/12.3 MB 669.6 kB/s eta 0:00:04\n",
      "   -------------------------------- ------- 10.0/12.3 MB 669.6 kB/s eta 0:00:04\n",
      "   --------------------------------- ------ 10.2/12.3 MB 667.5 kB/s eta 0:00:04\n",
      "   --------------------------------- ------ 10.2/12.3 MB 667.5 kB/s eta 0:00:04\n",
      "   ---------------------------------- ----- 10.5/12.3 MB 669.8 kB/s eta 0:00:03\n",
      "   ---------------------------------- ----- 10.5/12.3 MB 669.8 kB/s eta 0:00:03\n",
      "   ---------------------------------- ----- 10.7/12.3 MB 670.0 kB/s eta 0:00:03\n",
      "   ---------------------------------- ----- 10.7/12.3 MB 670.0 kB/s eta 0:00:03\n",
      "   ----------------------------------- ---- 11.0/12.3 MB 666.8 kB/s eta 0:00:02\n",
      "   ----------------------------------- ---- 11.0/12.3 MB 666.8 kB/s eta 0:00:02\n",
      "   ----------------------------------- ---- 11.0/12.3 MB 666.8 kB/s eta 0:00:02\n",
      "   ------------------------------------ --- 11.3/12.3 MB 660.6 kB/s eta 0:00:02\n",
      "   ------------------------------------ --- 11.3/12.3 MB 660.6 kB/s eta 0:00:02\n",
      "   ------------------------------------- -- 11.5/12.3 MB 658.2 kB/s eta 0:00:02\n",
      "   ------------------------------------- -- 11.5/12.3 MB 658.2 kB/s eta 0:00:02\n",
      "   -------------------------------------- - 11.8/12.3 MB 659.3 kB/s eta 0:00:01\n",
      "   ---------------------------------------  12.1/12.3 MB 662.4 kB/s eta 0:00:01\n",
      "   ---------------------------------------- 12.3/12.3 MB 665.7 kB/s  0:00:18\n",
      "Downloading httpx-0.28.1-py3-none-any.whl (73 kB)\n",
      "Downloading httpcore-1.0.9-py3-none-any.whl (78 kB)\n",
      "Downloading jupyter_server-2.17.0-py3-none-any.whl (388 kB)\n",
      "Downloading jupyterlab_server-2.27.3-py3-none-any.whl (59 kB)\n",
      "Downloading anyio-4.11.0-py3-none-any.whl (109 kB)\n",
      "Downloading argon2_cffi-25.1.0-py3-none-any.whl (14 kB)\n",
      "Downloading async_lru-2.0.5-py3-none-any.whl (6.1 kB)\n",
      "Downloading babel-2.17.0-py3-none-any.whl (10.2 MB)\n",
      "   ---------------------------------------- 0.0/10.2 MB ? eta -:--:--\n",
      "   ---------------------------------------- 0.0/10.2 MB ? eta -:--:--\n",
      "   - -------------------------------------- 0.3/10.2 MB ? eta -:--:--\n",
      "   - -------------------------------------- 0.3/10.2 MB ? eta -:--:--\n",
      "   - -------------------------------------- 0.3/10.2 MB ? eta -:--:--\n",
      "   - -------------------------------------- 0.3/10.2 MB ? eta -:--:--\n",
      "   -- ------------------------------------- 0.5/10.2 MB 307.5 kB/s eta 0:00:32\n",
      "   -- ------------------------------------- 0.5/10.2 MB 307.5 kB/s eta 0:00:32\n",
      "   -- ------------------------------------- 0.5/10.2 MB 307.5 kB/s eta 0:00:32\n",
      "   -- ------------------------------------- 0.5/10.2 MB 307.5 kB/s eta 0:00:32\n",
      "   --- ------------------------------------ 0.8/10.2 MB 332.7 kB/s eta 0:00:29\n",
      "   --- ------------------------------------ 0.8/10.2 MB 332.7 kB/s eta 0:00:29\n",
      "   ---- ----------------------------------- 1.0/10.2 MB 387.0 kB/s eta 0:00:24\n",
      "   ---- ----------------------------------- 1.0/10.2 MB 387.0 kB/s eta 0:00:24\n",
      "   ----- ---------------------------------- 1.3/10.2 MB 419.0 kB/s eta 0:00:22\n",
      "   ----- ---------------------------------- 1.3/10.2 MB 419.0 kB/s eta 0:00:22\n",
      "   ----- ---------------------------------- 1.3/10.2 MB 419.0 kB/s eta 0:00:22\n",
      "   ------ --------------------------------- 1.6/10.2 MB 425.3 kB/s eta 0:00:21\n",
      "   ------ --------------------------------- 1.6/10.2 MB 425.3 kB/s eta 0:00:21\n",
      "   ------- -------------------------------- 1.8/10.2 MB 449.5 kB/s eta 0:00:19\n",
      "   -------- ------------------------------- 2.1/10.2 MB 477.1 kB/s eta 0:00:17\n",
      "   -------- ------------------------------- 2.1/10.2 MB 477.1 kB/s eta 0:00:17\n",
      "   --------- ------------------------------ 2.4/10.2 MB 506.6 kB/s eta 0:00:16\n",
      "   ---------- ----------------------------- 2.6/10.2 MB 534.1 kB/s eta 0:00:15\n",
      "   ----------- ---------------------------- 2.9/10.2 MB 562.5 kB/s eta 0:00:13\n",
      "   ----------- ---------------------------- 2.9/10.2 MB 562.5 kB/s eta 0:00:13\n",
      "   ------------ --------------------------- 3.1/10.2 MB 586.3 kB/s eta 0:00:13\n",
      "   ------------- -------------------------- 3.4/10.2 MB 603.6 kB/s eta 0:00:12\n",
      "   ------------- -------------------------- 3.4/10.2 MB 603.6 kB/s eta 0:00:12\n",
      "   -------------- ------------------------- 3.7/10.2 MB 615.8 kB/s eta 0:00:11\n",
      "   -------------- ------------------------- 3.7/10.2 MB 615.8 kB/s eta 0:00:11\n",
      "   --------------- ------------------------ 3.9/10.2 MB 615.5 kB/s eta 0:00:11\n",
      "   --------------- ------------------------ 3.9/10.2 MB 615.5 kB/s eta 0:00:11\n",
      "   --------------- ------------------------ 3.9/10.2 MB 615.5 kB/s eta 0:00:11\n",
      "   ---------------- ----------------------- 4.2/10.2 MB 589.0 kB/s eta 0:00:11\n",
      "   ---------------- ----------------------- 4.2/10.2 MB 589.0 kB/s eta 0:00:11\n",
      "   ---------------- ----------------------- 4.2/10.2 MB 589.0 kB/s eta 0:00:11\n",
      "   ----------------- ---------------------- 4.5/10.2 MB 576.1 kB/s eta 0:00:10\n",
      "   ----------------- ---------------------- 4.5/10.2 MB 576.1 kB/s eta 0:00:10\n",
      "   ----------------- ---------------------- 4.5/10.2 MB 576.1 kB/s eta 0:00:10\n",
      "   ------------------ --------------------- 4.7/10.2 MB 566.1 kB/s eta 0:00:10\n",
      "   ------------------ --------------------- 4.7/10.2 MB 566.1 kB/s eta 0:00:10\n",
      "   ------------------- -------------------- 5.0/10.2 MB 567.9 kB/s eta 0:00:10\n",
      "   ------------------- -------------------- 5.0/10.2 MB 567.9 kB/s eta 0:00:10\n",
      "   -------------------- ------------------- 5.2/10.2 MB 564.9 kB/s eta 0:00:09\n",
      "   -------------------- ------------------- 5.2/10.2 MB 564.9 kB/s eta 0:00:09\n",
      "   -------------------- ------------------- 5.2/10.2 MB 564.9 kB/s eta 0:00:09\n",
      "   --------------------- ------------------ 5.5/10.2 MB 557.3 kB/s eta 0:00:09\n",
      "   --------------------- ------------------ 5.5/10.2 MB 557.3 kB/s eta 0:00:09\n",
      "   ---------------------- ----------------- 5.8/10.2 MB 560.8 kB/s eta 0:00:08\n",
      "   ---------------------- ----------------- 5.8/10.2 MB 560.8 kB/s eta 0:00:08\n",
      "   ----------------------- ---------------- 6.0/10.2 MB 559.8 kB/s eta 0:00:08\n",
      "   ----------------------- ---------------- 6.0/10.2 MB 559.8 kB/s eta 0:00:08\n",
      "   ----------------------- ---------------- 6.0/10.2 MB 559.8 kB/s eta 0:00:08\n",
      "   ------------------------ --------------- 6.3/10.2 MB 556.0 kB/s eta 0:00:07\n",
      "   ------------------------ --------------- 6.3/10.2 MB 556.0 kB/s eta 0:00:07\n",
      "   ------------------------- -------------- 6.6/10.2 MB 559.7 kB/s eta 0:00:07\n",
      "   ------------------------- -------------- 6.6/10.2 MB 559.7 kB/s eta 0:00:07\n",
      "   -------------------------- ------------- 6.8/10.2 MB 566.1 kB/s eta 0:00:06\n",
      "   --------------------------- ------------ 7.1/10.2 MB 573.1 kB/s eta 0:00:06\n",
      "   --------------------------- ------------ 7.1/10.2 MB 573.1 kB/s eta 0:00:06\n",
      "   ---------------------------- ----------- 7.3/10.2 MB 573.1 kB/s eta 0:00:05\n",
      "   ---------------------------- ----------- 7.3/10.2 MB 573.1 kB/s eta 0:00:05\n",
      "   ----------------------------- ---------- 7.6/10.2 MB 573.2 kB/s eta 0:00:05\n",
      "   ----------------------------- ---------- 7.6/10.2 MB 573.2 kB/s eta 0:00:05\n",
      "   ------------------------------ --------- 7.9/10.2 MB 578.1 kB/s eta 0:00:05\n",
      "   ------------------------------- -------- 8.1/10.2 MB 584.9 kB/s eta 0:00:04\n",
      "   ------------------------------- -------- 8.1/10.2 MB 584.9 kB/s eta 0:00:04\n",
      "   -------------------------------- ------- 8.4/10.2 MB 592.4 kB/s eta 0:00:04\n",
      "   --------------------------------- ------ 8.7/10.2 MB 601.0 kB/s eta 0:00:03\n",
      "   ----------------------------------- ---- 8.9/10.2 MB 609.9 kB/s eta 0:00:03\n",
      "   ------------------------------------ --- 9.2/10.2 MB 619.0 kB/s eta 0:00:02\n",
      "   ------------------------------------- -- 9.4/10.2 MB 628.9 kB/s eta 0:00:02\n",
      "   -------------------------------------- - 9.7/10.2 MB 638.2 kB/s eta 0:00:01\n",
      "   ---------------------------------------- 10.2/10.2 MB 656.1 kB/s  0:00:15\n",
      "Downloading h11-0.16.0-py3-none-any.whl (37 kB)\n",
      "Downloading idna-3.10-py3-none-any.whl (70 kB)\n",
      "Downloading jinja2-3.1.6-py3-none-any.whl (134 kB)\n",
      "Downloading json5-0.12.1-py3-none-any.whl (36 kB)\n",
      "Downloading jsonschema-4.25.1-py3-none-any.whl (90 kB)\n",
      "Downloading attrs-25.3.0-py3-none-any.whl (63 kB)\n",
      "Downloading jsonschema_specifications-2025.9.1-py3-none-any.whl (18 kB)\n",
      "Downloading jupyter_events-0.12.0-py3-none-any.whl (19 kB)\n",
      "Downloading jsonpointer-3.0.0-py2.py3-none-any.whl (7.6 kB)\n",
      "Downloading jupyter_lsp-2.3.0-py3-none-any.whl (76 kB)\n",
      "Downloading jupyter_server_terminals-0.5.3-py3-none-any.whl (13 kB)\n",
      "Downloading markupsafe-3.0.3-cp313-cp313-win_amd64.whl (15 kB)\n",
      "Downloading nbconvert-7.16.6-py3-none-any.whl (258 kB)\n",
      "Downloading mistune-3.1.4-py3-none-any.whl (53 kB)\n",
      "Downloading bleach-6.2.0-py3-none-any.whl (163 kB)\n",
      "Downloading tinycss2-1.4.0-py3-none-any.whl (26 kB)\n",
      "Downloading nbclient-0.10.2-py3-none-any.whl (25 kB)\n",
      "Downloading nbformat-5.10.4-py3-none-any.whl (78 kB)\n",
      "Downloading fastjsonschema-2.21.2-py3-none-any.whl (24 kB)\n",
      "Downloading notebook_shim-0.2.4-py3-none-any.whl (13 kB)\n",
      "Downloading pandocfilters-1.5.1-py2.py3-none-any.whl (8.7 kB)\n",
      "Downloading prometheus_client-0.23.1-py3-none-any.whl (61 kB)\n",
      "Downloading python_json_logger-3.3.0-py3-none-any.whl (15 kB)\n",
      "Downloading pywinpty-3.0.0-cp313-cp313-win_amd64.whl (2.1 MB)\n",
      "   ---------------------------------------- 0.0/2.1 MB ? eta -:--:--\n",
      "   ---------------------------------------- 0.0/2.1 MB ? eta -:--:--\n",
      "   ----- ---------------------------------- 0.3/2.1 MB ? eta -:--:--\n",
      "   ----- ---------------------------------- 0.3/2.1 MB ? eta -:--:--\n",
      "   ---------- ----------------------------- 0.5/2.1 MB 806.2 kB/s eta 0:00:02\n",
      "   --------------- ------------------------ 0.8/2.1 MB 854.4 kB/s eta 0:00:02\n",
      "   --------------- ------------------------ 0.8/2.1 MB 854.4 kB/s eta 0:00:02\n",
      "   -------------------- ------------------- 1.0/2.1 MB 917.7 kB/s eta 0:00:02\n",
      "   -------------------- ------------------- 1.0/2.1 MB 917.7 kB/s eta 0:00:02\n",
      "   ------------------------- -------------- 1.3/2.1 MB 798.9 kB/s eta 0:00:01\n",
      "   ------------------------- -------------- 1.3/2.1 MB 798.9 kB/s eta 0:00:01\n",
      "   ------------------------- -------------- 1.3/2.1 MB 798.9 kB/s eta 0:00:01\n",
      "   ------------------------- -------------- 1.3/2.1 MB 798.9 kB/s eta 0:00:01\n",
      "   ------------------------------ --------- 1.6/2.1 MB 591.7 kB/s eta 0:00:01\n",
      "   ------------------------------ --------- 1.6/2.1 MB 591.7 kB/s eta 0:00:01\n",
      "   ------------------------------ --------- 1.6/2.1 MB 591.7 kB/s eta 0:00:01\n",
      "   ----------------------------------- ---- 1.8/2.1 MB 555.0 kB/s eta 0:00:01\n",
      "   ----------------------------------- ---- 1.8/2.1 MB 555.0 kB/s eta 0:00:01\n",
      "   ---------------------------------------- 2.1/2.1 MB 558.2 kB/s  0:00:03\n",
      "Downloading pyyaml-6.0.3-cp313-cp313-win_amd64.whl (154 kB)\n",
      "Downloading referencing-0.36.2-py3-none-any.whl (26 kB)\n",
      "Downloading requests-2.32.5-py3-none-any.whl (64 kB)\n",
      "Downloading charset_normalizer-3.4.3-cp313-cp313-win_amd64.whl (107 kB)\n",
      "Downloading urllib3-2.5.0-py3-none-any.whl (129 kB)\n",
      "Downloading certifi-2025.8.3-py3-none-any.whl (161 kB)\n",
      "Downloading rfc3986_validator-0.1.1-py2.py3-none-any.whl (4.2 kB)\n",
      "Downloading rfc3987_syntax-1.1.0-py3-none-any.whl (8.0 kB)\n",
      "Downloading lark-1.3.0-py3-none-any.whl (113 kB)\n",
      "Downloading rpds_py-0.27.1-cp313-cp313-win_amd64.whl (232 kB)\n",
      "Downloading Send2Trash-1.8.3-py3-none-any.whl (18 kB)\n",
      "Downloading setuptools-80.9.0-py3-none-any.whl (1.2 MB)\n",
      "   ---------------------------------------- 0.0/1.2 MB ? eta -:--:--\n",
      "   ---------------------------------------- 0.0/1.2 MB ? eta -:--:--\n",
      "   ---------------------------------------- 0.0/1.2 MB ? eta -:--:--\n",
      "   ---------------------------------------- 0.0/1.2 MB ? eta -:--:--\n",
      "   -------- ------------------------------- 0.3/1.2 MB ? eta -:--:--\n",
      "   -------- ------------------------------- 0.3/1.2 MB ? eta -:--:--\n",
      "   -------- ------------------------------- 0.3/1.2 MB ? eta -:--:--\n",
      "   -------- ------------------------------- 0.3/1.2 MB ? eta -:--:--\n",
      "   -------- ------------------------------- 0.3/1.2 MB ? eta -:--:--\n",
      "   ----------------- ---------------------- 0.5/1.2 MB 259.9 kB/s eta 0:00:03\n",
      "   ----------------- ---------------------- 0.5/1.2 MB 259.9 kB/s eta 0:00:03\n",
      "   ----------------- ---------------------- 0.5/1.2 MB 259.9 kB/s eta 0:00:03\n",
      "   ----------------- ---------------------- 0.5/1.2 MB 259.9 kB/s eta 0:00:03\n",
      "   ----------------- ---------------------- 0.5/1.2 MB 259.9 kB/s eta 0:00:03\n",
      "   ----------------- ---------------------- 0.5/1.2 MB 259.9 kB/s eta 0:00:03\n",
      "   -------------------------- ------------- 0.8/1.2 MB 238.0 kB/s eta 0:00:02\n",
      "   -------------------------- ------------- 0.8/1.2 MB 238.0 kB/s eta 0:00:02\n",
      "   -------------------------- ------------- 0.8/1.2 MB 238.0 kB/s eta 0:00:02\n",
      "   -------------------------- ------------- 0.8/1.2 MB 238.0 kB/s eta 0:00:02\n",
      "   -------------------------- ------------- 0.8/1.2 MB 238.0 kB/s eta 0:00:02\n",
      "   -------------------------- ------------- 0.8/1.2 MB 238.0 kB/s eta 0:00:02\n",
      "   -------------------------- ------------- 0.8/1.2 MB 238.0 kB/s eta 0:00:02\n",
      "   ---------------------------------- ----- 1.0/1.2 MB 208.6 kB/s eta 0:00:01\n",
      "   ---------------------------------- ----- 1.0/1.2 MB 208.6 kB/s eta 0:00:01\n",
      "   ---------------------------------------- 1.2/1.2 MB 223.2 kB/s  0:00:04\n",
      "Downloading sniffio-1.3.1-py3-none-any.whl (10 kB)\n",
      "Downloading terminado-0.18.1-py3-none-any.whl (14 kB)\n",
      "Downloading webcolors-24.11.1-py3-none-any.whl (14 kB)\n",
      "Downloading webencodings-0.5.1-py2.py3-none-any.whl (11 kB)\n",
      "Downloading websocket_client-1.8.0-py3-none-any.whl (58 kB)\n",
      "Downloading argon2_cffi_bindings-25.1.0-cp39-abi3-win_amd64.whl (31 kB)\n",
      "Downloading cffi-2.0.0-cp313-cp313-win_amd64.whl (183 kB)\n",
      "Downloading beautifulsoup4-4.14.2-py3-none-any.whl (106 kB)\n",
      "Downloading soupsieve-2.8-py3-none-any.whl (36 kB)\n",
      "Downloading typing_extensions-4.15.0-py3-none-any.whl (44 kB)\n",
      "Downloading defusedxml-0.7.1-py2.py3-none-any.whl (25 kB)\n",
      "Downloading fqdn-1.5.1-py3-none-any.whl (9.1 kB)\n",
      "Downloading isoduration-20.11.0-py3-none-any.whl (11 kB)\n",
      "Downloading arrow-1.3.0-py3-none-any.whl (66 kB)\n",
      "Downloading types_python_dateutil-2.9.0.20250822-py3-none-any.whl (17 kB)\n",
      "Downloading jupyterlab_pygments-0.3.0-py3-none-any.whl (15 kB)\n",
      "Downloading notebook-7.4.7-py3-none-any.whl (14.3 MB)\n",
      "   ---------------------------------------- 0.0/14.3 MB ? eta -:--:--\n",
      "   ---------------------------------------- 0.0/14.3 MB ? eta -:--:--\n",
      "   ---------------------------------------- 0.0/14.3 MB ? eta -:--:--\n",
      "    --------------------------------------- 0.3/14.3 MB ? eta -:--:--\n",
      "    --------------------------------------- 0.3/14.3 MB ? eta -:--:--\n",
      "   - -------------------------------------- 0.5/14.3 MB 579.1 kB/s eta 0:00:24\n",
      "   - -------------------------------------- 0.5/14.3 MB 579.1 kB/s eta 0:00:24\n",
      "   -- ------------------------------------- 0.8/14.3 MB 609.4 kB/s eta 0:00:23\n",
      "   -- ------------------------------------- 1.0/14.3 MB 657.4 kB/s eta 0:00:21\n",
      "   -- ------------------------------------- 1.0/14.3 MB 657.4 kB/s eta 0:00:21\n",
      "   -- ------------------------------------- 1.0/14.3 MB 657.4 kB/s eta 0:00:21\n",
      "   --- ------------------------------------ 1.3/14.3 MB 613.2 kB/s eta 0:00:22\n",
      "   --- ------------------------------------ 1.3/14.3 MB 613.2 kB/s eta 0:00:22\n",
      "   --- ------------------------------------ 1.3/14.3 MB 613.2 kB/s eta 0:00:22\n",
      "   ---- ----------------------------------- 1.6/14.3 MB 566.5 kB/s eta 0:00:23\n",
      "   ---- ----------------------------------- 1.6/14.3 MB 566.5 kB/s eta 0:00:23\n",
      "   ---- ----------------------------------- 1.6/14.3 MB 566.5 kB/s eta 0:00:23\n",
      "   ----- ---------------------------------- 1.8/14.3 MB 536.6 kB/s eta 0:00:24\n",
      "   ----- ---------------------------------- 1.8/14.3 MB 536.6 kB/s eta 0:00:24\n",
      "   ----- ---------------------------------- 2.1/14.3 MB 547.6 kB/s eta 0:00:23\n",
      "   ------ --------------------------------- 2.4/14.3 MB 566.4 kB/s eta 0:00:22\n",
      "   ------ --------------------------------- 2.4/14.3 MB 566.4 kB/s eta 0:00:22\n",
      "   ------- -------------------------------- 2.6/14.3 MB 589.2 kB/s eta 0:00:20\n",
      "   -------- ------------------------------- 2.9/14.3 MB 614.5 kB/s eta 0:00:19\n",
      "   -------- ------------------------------- 3.1/14.3 MB 637.3 kB/s eta 0:00:18\n",
      "   -------- ------------------------------- 3.1/14.3 MB 637.3 kB/s eta 0:00:18\n",
      "   -------- ------------------------------- 3.1/14.3 MB 637.3 kB/s eta 0:00:18\n",
      "   --------- ------------------------------ 3.4/14.3 MB 633.9 kB/s eta 0:00:18\n",
      "   ---------- ----------------------------- 3.7/14.3 MB 636.5 kB/s eta 0:00:17\n",
      "   ---------- ----------------------------- 3.7/14.3 MB 636.5 kB/s eta 0:00:17\n",
      "   ---------- ----------------------------- 3.9/14.3 MB 645.9 kB/s eta 0:00:17\n",
      "   ----------- ---------------------------- 4.2/14.3 MB 660.7 kB/s eta 0:00:16\n",
      "   ----------- ---------------------------- 4.2/14.3 MB 660.7 kB/s eta 0:00:16\n",
      "   ------------ --------------------------- 4.5/14.3 MB 674.4 kB/s eta 0:00:15\n",
      "   ------------- -------------------------- 4.7/14.3 MB 690.6 kB/s eta 0:00:14\n",
      "   ------------- -------------------------- 5.0/14.3 MB 706.9 kB/s eta 0:00:14\n",
      "   ------------- -------------------------- 5.0/14.3 MB 706.9 kB/s eta 0:00:14\n",
      "   -------------- ------------------------- 5.2/14.3 MB 696.0 kB/s eta 0:00:14\n",
      "   -------------- ------------------------- 5.2/14.3 MB 696.0 kB/s eta 0:00:14\n",
      "   -------------- ------------------------- 5.2/14.3 MB 696.0 kB/s eta 0:00:14\n",
      "   -------------- ------------------------- 5.2/14.3 MB 696.0 kB/s eta 0:00:14\n",
      "   -------------- ------------------------- 5.2/14.3 MB 696.0 kB/s eta 0:00:14\n",
      "   -------------- ------------------------- 5.2/14.3 MB 696.0 kB/s eta 0:00:14\n",
      "   --------------- ------------------------ 5.5/14.3 MB 632.2 kB/s eta 0:00:14\n",
      "   --------------- ------------------------ 5.5/14.3 MB 632.2 kB/s eta 0:00:14\n",
      "   ---------------- ----------------------- 5.8/14.3 MB 621.3 kB/s eta 0:00:14\n",
      "   ---------------- ----------------------- 5.8/14.3 MB 621.3 kB/s eta 0:00:14\n",
      "   ---------------- ----------------------- 6.0/14.3 MB 622.4 kB/s eta 0:00:14\n",
      "   ---------------- ----------------------- 6.0/14.3 MB 622.4 kB/s eta 0:00:14\n",
      "   ----------------- ---------------------- 6.3/14.3 MB 629.2 kB/s eta 0:00:13\n",
      "   ------------------ --------------------- 6.6/14.3 MB 636.2 kB/s eta 0:00:13\n",
      "   ------------------- -------------------- 6.8/14.3 MB 645.6 kB/s eta 0:00:12\n",
      "   ------------------- -------------------- 6.8/14.3 MB 645.6 kB/s eta 0:00:12\n",
      "   ------------------- -------------------- 7.1/14.3 MB 652.1 kB/s eta 0:00:12\n",
      "   -------------------- ------------------- 7.3/14.3 MB 657.2 kB/s eta 0:00:11\n",
      "   -------------------- ------------------- 7.3/14.3 MB 657.2 kB/s eta 0:00:11\n",
      "   --------------------- ------------------ 7.6/14.3 MB 661.3 kB/s eta 0:00:11\n",
      "   --------------------- ------------------ 7.6/14.3 MB 661.3 kB/s eta 0:00:11\n",
      "   --------------------- ------------------ 7.9/14.3 MB 664.7 kB/s eta 0:00:10\n",
      "   --------------------- ------------------ 7.9/14.3 MB 664.7 kB/s eta 0:00:10\n",
      "   --------------------- ------------------ 7.9/14.3 MB 664.7 kB/s eta 0:00:10\n",
      "   ---------------------- ----------------- 8.1/14.3 MB 649.4 kB/s eta 0:00:10\n",
      "   ---------------------- ----------------- 8.1/14.3 MB 649.4 kB/s eta 0:00:10\n",
      "   ----------------------- ---------------- 8.4/14.3 MB 645.2 kB/s eta 0:00:10\n",
      "   ----------------------- ---------------- 8.4/14.3 MB 645.2 kB/s eta 0:00:10\n",
      "   ------------------------ --------------- 8.7/14.3 MB 646.7 kB/s eta 0:00:09\n",
      "   ------------------------ --------------- 8.7/14.3 MB 646.7 kB/s eta 0:00:09\n",
      "   ------------------------ --------------- 8.9/14.3 MB 646.1 kB/s eta 0:00:09\n",
      "   ------------------------ --------------- 8.9/14.3 MB 646.1 kB/s eta 0:00:09\n",
      "   ------------------------ --------------- 8.9/14.3 MB 646.1 kB/s eta 0:00:09\n",
      "   ------------------------- -------------- 9.2/14.3 MB 640.8 kB/s eta 0:00:09\n",
      "   ------------------------- -------------- 9.2/14.3 MB 640.8 kB/s eta 0:00:09\n",
      "   -------------------------- ------------- 9.4/14.3 MB 636.3 kB/s eta 0:00:08\n",
      "   -------------------------- ------------- 9.4/14.3 MB 636.3 kB/s eta 0:00:08\n",
      "   --------------------------- ------------ 9.7/14.3 MB 635.2 kB/s eta 0:00:08\n",
      "   --------------------------- ------------ 9.7/14.3 MB 635.2 kB/s eta 0:00:08\n",
      "   --------------------------- ------------ 10.0/14.3 MB 638.3 kB/s eta 0:00:07\n",
      "   --------------------------- ------------ 10.0/14.3 MB 638.3 kB/s eta 0:00:07\n",
      "   ---------------------------- ----------- 10.2/14.3 MB 638.3 kB/s eta 0:00:07\n",
      "   ---------------------------- ----------- 10.2/14.3 MB 638.3 kB/s eta 0:00:07\n",
      "   ----------------------------- ---------- 10.5/14.3 MB 639.9 kB/s eta 0:00:07\n",
      "   ----------------------------- ---------- 10.7/14.3 MB 643.5 kB/s eta 0:00:06\n",
      "   ----------------------------- ---------- 10.7/14.3 MB 643.5 kB/s eta 0:00:06\n",
      "   ------------------------------ --------- 11.0/14.3 MB 640.0 kB/s eta 0:00:06\n",
      "   ------------------------------ --------- 11.0/14.3 MB 640.0 kB/s eta 0:00:06\n",
      "   ------------------------------ --------- 11.0/14.3 MB 640.0 kB/s eta 0:00:06\n",
      "   ------------------------------ --------- 11.0/14.3 MB 640.0 kB/s eta 0:00:06\n",
      "   ------------------------------- -------- 11.3/14.3 MB 631.0 kB/s eta 0:00:05\n",
      "   ------------------------------- -------- 11.3/14.3 MB 631.0 kB/s eta 0:00:05\n",
      "   -------------------------------- ------- 11.5/14.3 MB 629.7 kB/s eta 0:00:05\n",
      "   -------------------------------- ------- 11.5/14.3 MB 629.7 kB/s eta 0:00:05\n",
      "   -------------------------------- ------- 11.5/14.3 MB 629.7 kB/s eta 0:00:05\n",
      "   -------------------------------- ------- 11.8/14.3 MB 621.1 kB/s eta 0:00:05\n",
      "   -------------------------------- ------- 11.8/14.3 MB 621.1 kB/s eta 0:00:05\n",
      "   --------------------------------- ------ 12.1/14.3 MB 618.5 kB/s eta 0:00:04\n",
      "   --------------------------------- ------ 12.1/14.3 MB 618.5 kB/s eta 0:00:04\n",
      "   ---------------------------------- ----- 12.3/14.3 MB 619.8 kB/s eta 0:00:04\n",
      "   ---------------------------------- ----- 12.3/14.3 MB 619.8 kB/s eta 0:00:04\n",
      "   ----------------------------------- ---- 12.6/14.3 MB 623.0 kB/s eta 0:00:03\n",
      "   ----------------------------------- ---- 12.8/14.3 MB 626.1 kB/s eta 0:00:03\n",
      "   ----------------------------------- ---- 12.8/14.3 MB 626.1 kB/s eta 0:00:03\n",
      "   ----------------------------------- ---- 12.8/14.3 MB 626.1 kB/s eta 0:00:03\n",
      "   ------------------------------------ --- 13.1/14.3 MB 622.7 kB/s eta 0:00:02\n",
      "   ------------------------------------ --- 13.1/14.3 MB 622.7 kB/s eta 0:00:02\n",
      "   ------------------------------------ --- 13.1/14.3 MB 622.7 kB/s eta 0:00:02\n",
      "   ------------------------------------ --- 13.1/14.3 MB 622.7 kB/s eta 0:00:02\n",
      "   ------------------------------------- -- 13.4/14.3 MB 612.7 kB/s eta 0:00:02\n",
      "   ------------------------------------- -- 13.4/14.3 MB 612.7 kB/s eta 0:00:02\n",
      "   ------------------------------------- -- 13.4/14.3 MB 612.7 kB/s eta 0:00:02\n",
      "   -------------------------------------- - 13.6/14.3 MB 607.0 kB/s eta 0:00:02\n",
      "   -------------------------------------- - 13.6/14.3 MB 607.0 kB/s eta 0:00:02\n",
      "   -------------------------------------- - 13.6/14.3 MB 607.0 kB/s eta 0:00:02\n",
      "   -------------------------------------- - 13.9/14.3 MB 602.4 kB/s eta 0:00:01\n",
      "   -------------------------------------- - 13.9/14.3 MB 602.4 kB/s eta 0:00:01\n",
      "   ---------------------------------------  14.2/14.3 MB 601.5 kB/s eta 0:00:01\n",
      "   ---------------------------------------- 14.3/14.3 MB 602.4 kB/s  0:00:23\n",
      "Downloading pycparser-2.23-py3-none-any.whl (118 kB)\n",
      "Downloading pytest-8.4.2-py3-none-any.whl (365 kB)\n",
      "Downloading pluggy-1.6.0-py3-none-any.whl (20 kB)\n",
      "Downloading iniconfig-2.1.0-py3-none-any.whl (6.0 kB)\n",
      "Downloading rfc3339_validator-0.1.4-py2.py3-none-any.whl (3.5 kB)\n",
      "Downloading uri_template-1.3.0-py3-none-any.whl (11 kB)\n",
      "Installing collected packages: webencodings, fastjsonschema, widgetsnbextension, websocket-client, webcolors, urllib3, uri-template, typing-extensions, types-python-dateutil, tinycss2, soupsieve, sniffio, setuptools, send2trash, rpds-py, rfc3986-validator, rfc3339-validator, pyyaml, pywinpty, python-json-logger, pycparser, prometheus-client, pluggy, pandocfilters, mistune, MarkupSafe, lark, jupyterlab_widgets, jupyterlab-pygments, jsonpointer, json5, iniconfig, idna, h11, fqdn, defusedxml, charset_normalizer, certifi, bleach, babel, attrs, async-lru, terminado, rfc3987-syntax, requests, referencing, pytest, jinja2, httpcore, cffi, beautifulsoup4, arrow, anyio, jupyter-server-terminals, jsonschema-specifications, isoduration, ipywidgets, httpx, argon2-cffi-bindings, jupyter-console, jsonschema, argon2-cffi, nbformat, nbclient, jupyter-events, nbconvert, jupyter-server, notebook-shim, jupyterlab-server, jupyter-lsp, jupyterlab, notebook, jupyter, jupyturtle\n",
      "\n",
      "    ---------------------------------------  1/74 [fastjsonschema]\n",
      "   - --------------------------------------  3/74 [websocket-client]\n",
      "   - --------------------------------------  3/74 [websocket-client]\n",
      "   - --------------------------------------  3/74 [websocket-client]\n",
      "   -- -------------------------------------  5/74 [urllib3]\n",
      "   -- -------------------------------------  5/74 [urllib3]\n",
      "   -- -------------------------------------  5/74 [urllib3]\n",
      "   -- -------------------------------------  5/74 [urllib3]\n",
      "   ---- -----------------------------------  9/74 [tinycss2]\n",
      "   ----- ---------------------------------- 10/74 [soupsieve]\n",
      "   ----- ---------------------------------- 11/74 [sniffio]\n",
      "   ------ --------------------------------- 12/74 [setuptools]\n",
      "   ------ --------------------------------- 12/74 [setuptools]\n",
      "   ------ --------------------------------- 12/74 [setuptools]\n",
      "   ------ --------------------------------- 12/74 [setuptools]\n",
      "   ------ --------------------------------- 12/74 [setuptools]\n",
      "   ------ --------------------------------- 12/74 [setuptools]\n",
      "   ------ --------------------------------- 12/74 [setuptools]\n",
      "   ------ --------------------------------- 12/74 [setuptools]\n",
      "   ------ --------------------------------- 12/74 [setuptools]\n",
      "   ------ --------------------------------- 12/74 [setuptools]\n",
      "   ------ --------------------------------- 12/74 [setuptools]\n",
      "   ------ --------------------------------- 12/74 [setuptools]\n",
      "   ------ --------------------------------- 12/74 [setuptools]\n",
      "   ------ --------------------------------- 12/74 [setuptools]\n",
      "   ------ --------------------------------- 12/74 [setuptools]\n",
      "   ------ --------------------------------- 12/74 [setuptools]\n",
      "   ------ --------------------------------- 12/74 [setuptools]\n",
      "   ------ --------------------------------- 12/74 [setuptools]\n",
      "   ------ --------------------------------- 12/74 [setuptools]\n",
      "   ------ --------------------------------- 12/74 [setuptools]\n",
      "   ------ --------------------------------- 12/74 [setuptools]\n",
      "   ------ --------------------------------- 12/74 [setuptools]\n",
      "   ------ --------------------------------- 12/74 [setuptools]\n",
      "   ------ --------------------------------- 12/74 [setuptools]\n",
      "   ------ --------------------------------- 12/74 [setuptools]\n",
      "   ------ --------------------------------- 12/74 [setuptools]\n",
      "   ------ --------------------------------- 12/74 [setuptools]\n",
      "   ------ --------------------------------- 12/74 [setuptools]\n",
      "   ------ --------------------------------- 12/74 [setuptools]\n",
      "   ------ --------------------------------- 12/74 [setuptools]\n",
      "   ------- -------------------------------- 13/74 [send2trash]\n",
      "   ------- -------------------------------- 13/74 [send2trash]\n",
      "   --------- ------------------------------ 17/74 [pyyaml]\n",
      "   --------- ------------------------------ 17/74 [pyyaml]\n",
      "   --------- ------------------------------ 18/74 [pywinpty]\n",
      "   ---------- ----------------------------- 20/74 [pycparser]\n",
      "   ---------- ----------------------------- 20/74 [pycparser]\n",
      "   ---------- ----------------------------- 20/74 [pycparser]\n",
      "   ----------- ---------------------------- 21/74 [prometheus-client]\n",
      "   ----------- ---------------------------- 21/74 [prometheus-client]\n",
      "   ------------ --------------------------- 24/74 [mistune]\n",
      "   ------------ --------------------------- 24/74 [mistune]\n",
      "   ------------ --------------------------- 24/74 [mistune]\n",
      "   -------------- ------------------------- 26/74 [lark]\n",
      "   -------------- ------------------------- 26/74 [lark]\n",
      "   -------------- ------------------------- 26/74 [lark]\n",
      "   --------------- ------------------------ 28/74 [jupyterlab-pygments]\n",
      "   ---------------- ----------------------- 30/74 [json5]\n",
      "   ----------------- ---------------------- 32/74 [idna]\n",
      "   ----------------- ---------------------- 33/74 [h11]\n",
      "   ----------------- ---------------------- 33/74 [h11]\n",
      "   ------------------ --------------------- 35/74 [defusedxml]\n",
      "   ------------------- -------------------- 36/74 [charset_normalizer]\n",
      "   ------------------- -------------------- 36/74 [charset_normalizer]\n",
      "   -------------------- ------------------- 38/74 [bleach]\n",
      "   -------------------- ------------------- 38/74 [bleach]\n",
      "   -------------------- ------------------- 38/74 [bleach]\n",
      "   -------------------- ------------------- 38/74 [bleach]\n",
      "   -------------------- ------------------- 38/74 [bleach]\n",
      "   --------------------- ------------------ 39/74 [babel]\n",
      "   --------------------- ------------------ 39/74 [babel]\n",
      "   --------------------- ------------------ 39/74 [babel]\n",
      "   --------------------- ------------------ 39/74 [babel]\n",
      "   --------------------- ------------------ 39/74 [babel]\n",
      "   --------------------- ------------------ 39/74 [babel]\n",
      "   --------------------- ------------------ 40/74 [attrs]\n",
      "   --------------------- ------------------ 40/74 [attrs]\n",
      "   ----------------------- ---------------- 43/74 [rfc3987-syntax]\n",
      "   ----------------------- ---------------- 44/74 [requests]\n",
      "   ------------------------ --------------- 45/74 [referencing]\n",
      "   ------------------------ --------------- 46/74 [pytest]\n",
      "   ------------------------ --------------- 46/74 [pytest]\n",
      "   ------------------------ --------------- 46/74 [pytest]\n",
      "   ------------------------ --------------- 46/74 [pytest]\n",
      "   ------------------------ --------------- 46/74 [pytest]\n",
      "   ------------------------ --------------- 46/74 [pytest]\n",
      "   ------------------------ --------------- 46/74 [pytest]\n",
      "   ------------------------ --------------- 46/74 [pytest]\n",
      "   ------------------------ --------------- 46/74 [pytest]\n",
      "   ------------------------- -------------- 47/74 [jinja2]\n",
      "   ------------------------- -------------- 47/74 [jinja2]\n",
      "   ------------------------- -------------- 47/74 [jinja2]\n",
      "   ------------------------- -------------- 48/74 [httpcore]\n",
      "   ------------------------- -------------- 48/74 [httpcore]\n",
      "   -------------------------- ------------- 49/74 [cffi]\n",
      "   -------------------------- ------------- 49/74 [cffi]\n",
      "   --------------------------- ------------ 50/74 [beautifulsoup4]\n",
      "   --------------------------- ------------ 50/74 [beautifulsoup4]\n",
      "   --------------------------- ------------ 51/74 [arrow]\n",
      "   --------------------------- ------------ 51/74 [arrow]\n",
      "   ---------------------------- ----------- 52/74 [anyio]\n",
      "   ---------------------------- ----------- 52/74 [anyio]\n",
      "   ---------------------------- ----------- 52/74 [anyio]\n",
      "   ---------------------------- ----------- 53/74 [jupyter-server-terminals]\n",
      "   ----------------------------- ---------- 55/74 [isoduration]\n",
      "   ------------------------------ --------- 56/74 [ipywidgets]\n",
      "   ------------------------------ --------- 56/74 [ipywidgets]\n",
      "   ------------------------------ --------- 56/74 [ipywidgets]\n",
      "   ------------------------------ --------- 56/74 [ipywidgets]\n",
      "   ------------------------------ --------- 56/74 [ipywidgets]\n",
      "   ------------------------------ --------- 56/74 [ipywidgets]\n",
      "   ------------------------------ --------- 57/74 [httpx]\n",
      "   ------------------------------ --------- 57/74 [httpx]\n",
      "   ------------------------------- -------- 58/74 [argon2-cffi-bindings]\n",
      "   ------------------------------- -------- 59/74 [jupyter-console]\n",
      "   -------------------------------- ------- 60/74 [jsonschema]\n",
      "   -------------------------------- ------- 60/74 [jsonschema]\n",
      "   -------------------------------- ------- 60/74 [jsonschema]\n",
      "   -------------------------------- ------- 60/74 [jsonschema]\n",
      "   --------------------------------- ------ 62/74 [nbformat]\n",
      "   --------------------------------- ------ 62/74 [nbformat]\n",
      "   --------------------------------- ------ 62/74 [nbformat]\n",
      "   --------------------------------- ------ 62/74 [nbformat]\n",
      "   ---------------------------------- ----- 63/74 [nbclient]\n",
      "   ---------------------------------- ----- 64/74 [jupyter-events]\n",
      "   ---------------------------------- ----- 64/74 [jupyter-events]\n",
      "   ----------------------------------- ---- 65/74 [nbconvert]\n",
      "   ----------------------------------- ---- 65/74 [nbconvert]\n",
      "   ----------------------------------- ---- 65/74 [nbconvert]\n",
      "   ----------------------------------- ---- 65/74 [nbconvert]\n",
      "   ----------------------------------- ---- 65/74 [nbconvert]\n",
      "   ----------------------------------- ---- 65/74 [nbconvert]\n",
      "   ----------------------------------- ---- 65/74 [nbconvert]\n",
      "   ----------------------------------- ---- 66/74 [jupyter-server]\n",
      "   ----------------------------------- ---- 66/74 [jupyter-server]\n",
      "   ----------------------------------- ---- 66/74 [jupyter-server]\n",
      "   ----------------------------------- ---- 66/74 [jupyter-server]\n",
      "   ----------------------------------- ---- 66/74 [jupyter-server]\n",
      "   ----------------------------------- ---- 66/74 [jupyter-server]\n",
      "   ----------------------------------- ---- 66/74 [jupyter-server]\n",
      "   ------------------------------------ --- 68/74 [jupyterlab-server]\n",
      "   ------------------------------------ --- 68/74 [jupyterlab-server]\n",
      "   ------------------------------------- -- 69/74 [jupyter-lsp]\n",
      "   ------------------------------------- -- 69/74 [jupyter-lsp]\n",
      "   ------------------------------------- -- 69/74 [jupyter-lsp]\n",
      "   ------------------------------------- -- 69/74 [jupyter-lsp]\n",
      "   ------------------------------------- -- 70/74 [jupyterlab]\n",
      "   ------------------------------------- -- 70/74 [jupyterlab]\n",
      "   ------------------------------------- -- 70/74 [jupyterlab]\n",
      "   ------------------------------------- -- 70/74 [jupyterlab]\n",
      "   ------------------------------------- -- 70/74 [jupyterlab]\n",
      "   ------------------------------------- -- 70/74 [jupyterlab]\n",
      "   ------------------------------------- -- 70/74 [jupyterlab]\n",
      "   ------------------------------------- -- 70/74 [jupyterlab]\n",
      "   ------------------------------------- -- 70/74 [jupyterlab]\n",
      "   ------------------------------------- -- 70/74 [jupyterlab]\n",
      "   -------------------------------------- - 71/74 [notebook]\n",
      "   -------------------------------------- - 71/74 [notebook]\n",
      "   -------------------------------------- - 71/74 [notebook]\n",
      "   ---------------------------------------- 74/74 [jupyturtle]\n",
      "\n",
      "Successfully installed MarkupSafe-3.0.3 anyio-4.11.0 argon2-cffi-25.1.0 argon2-cffi-bindings-25.1.0 arrow-1.3.0 async-lru-2.0.5 attrs-25.3.0 babel-2.17.0 beautifulsoup4-4.14.2 bleach-6.2.0 certifi-2025.8.3 cffi-2.0.0 charset_normalizer-3.4.3 defusedxml-0.7.1 fastjsonschema-2.21.2 fqdn-1.5.1 h11-0.16.0 httpcore-1.0.9 httpx-0.28.1 idna-3.10 iniconfig-2.1.0 ipywidgets-8.1.7 isoduration-20.11.0 jinja2-3.1.6 json5-0.12.1 jsonpointer-3.0.0 jsonschema-4.25.1 jsonschema-specifications-2025.9.1 jupyter-1.1.1 jupyter-console-6.6.3 jupyter-events-0.12.0 jupyter-lsp-2.3.0 jupyter-server-2.17.0 jupyter-server-terminals-0.5.3 jupyterlab-4.4.9 jupyterlab-pygments-0.3.0 jupyterlab-server-2.27.3 jupyterlab_widgets-3.0.15 jupyturtle-2024.4.1 lark-1.3.0 mistune-3.1.4 nbclient-0.10.2 nbconvert-7.16.6 nbformat-5.10.4 notebook-7.4.7 notebook-shim-0.2.4 pandocfilters-1.5.1 pluggy-1.6.0 prometheus-client-0.23.1 pycparser-2.23 pytest-8.4.2 python-json-logger-3.3.0 pywinpty-3.0.0 pyyaml-6.0.3 referencing-0.36.2 requests-2.32.5 rfc3339-validator-0.1.4 rfc3986-validator-0.1.1 rfc3987-syntax-1.1.0 rpds-py-0.27.1 send2trash-1.8.3 setuptools-80.9.0 sniffio-1.3.1 soupsieve-2.8 terminado-0.18.1 tinycss2-1.4.0 types-python-dateutil-2.9.0.20250822 typing-extensions-4.15.0 uri-template-1.3.0 urllib3-2.5.0 webcolors-24.11.1 webencodings-0.5.1 websocket-client-1.8.0 widgetsnbextension-4.0.14\n"
     ]
    }
   ],
   "source": [
    "!pip install jupyturtle\n",
    "from jupyturtle import forward, left, right, back\n",
    "\n",
    "def draw(length):\n",
    "    angle = 50\n",
    "    factor = 0.6\n",
    "\n",
    "    if length > 5:\n",
    "        forward(length)\n",
    "        left(angle)\n",
    "        draw(factor * length)\n",
    "        right(2 * angle)\n",
    "        draw(factor * length)\n",
    "        left(angle)\n",
    "        back(length)"
   ]
  },
  {
   "cell_type": "code",
   "execution_count": 31,
   "id": "ef0256ee",
   "metadata": {
    "colab": {
     "base_uri": "https://localhost:8080/",
     "height": 171
    },
    "executionInfo": {
     "elapsed": 4619,
     "status": "ok",
     "timestamp": 1757319201496,
     "user": {
      "displayName": "Chau Tran",
      "userId": "02458922725668427191"
     },
     "user_tz": -420
    },
    "id": "ef0256ee",
    "outputId": "479e13a6-1ef9-45c2-ea67-550b5b0b9da6"
   },
   "outputs": [
    {
     "ename": "ModuleNotFoundError",
     "evalue": "No module named 'jupyturtle'",
     "output_type": "error",
     "traceback": [
      "\u001b[31m---------------------------------------------------------------------------\u001b[39m",
      "\u001b[31mModuleNotFoundError\u001b[39m                       Traceback (most recent call last)",
      "\u001b[36mCell\u001b[39m\u001b[36m \u001b[39m\u001b[32mIn[31]\u001b[39m\u001b[32m, line 3\u001b[39m\n\u001b[32m      1\u001b[39m \u001b[38;5;66;03m# Solution\u001b[39;00m\n\u001b[32m----> \u001b[39m\u001b[32m3\u001b[39m \u001b[38;5;28;01mfrom\u001b[39;00m\u001b[38;5;250m \u001b[39m\u001b[34;01mjupyturtle\u001b[39;00m\u001b[38;5;250m \u001b[39m\u001b[38;5;28;01mimport\u001b[39;00m make_turtle\n\u001b[32m      5\u001b[39m make_turtle(delay=\u001b[32m0\u001b[39m)\n\u001b[32m      6\u001b[39m draw(\u001b[32m50\u001b[39m)\n",
      "\u001b[31mModuleNotFoundError\u001b[39m: No module named 'jupyturtle'"
     ]
    }
   ],
   "source": [
    "# Solution\n",
    "\n",
    "from jupyturtle import make_turtle\n",
    "\n",
    "make_turtle(delay=0)\n",
    "draw(50)"
   ]
  },
  {
   "cell_type": "markdown",
   "id": "e525ba59",
   "metadata": {
    "id": "e525ba59"
   },
   "source": [
    "### Exercise\n",
    "\n",
    "Ask a virtual assistant \"What is the Koch curve?\"\n",
    "\n",
    "To draw a Koch curve with length `x`, all you\n",
    "have to do is\n",
    "\n",
    "1.  Draw a Koch curve with length `x/3`.\n",
    "\n",
    "2.  Turn left 60 degrees.\n",
    "\n",
    "3.  Draw a Koch curve with length `x/3`.\n",
    "\n",
    "4.  Turn right 120 degrees.\n",
    "\n",
    "5.  Draw a Koch curve with length `x/3`.\n",
    "\n",
    "6.  Turn left 60 degrees.\n",
    "\n",
    "7.  Draw a Koch curve with length `x/3`.\n",
    "\n",
    "The exception is if `x` is less than `5` -- in that case, you can just draw a straight line with length `x`.\n",
    "\n",
    "Write a function called `koch` that takes `x` as an argument and draws a Koch curve with the given length.\n"
   ]
  },
  {
   "cell_type": "code",
   "execution_count": null,
   "id": "c1acc853",
   "metadata": {
    "id": "c1acc853"
   },
   "outputs": [],
   "source": [
    "# Solution\n",
    "\n",
    "def koch(x):\n",
    "    \"\"\"Draws a koch curve with length n.\"\"\"\n",
    "    if x < 5:\n",
    "        forward(x)\n",
    "    else:\n",
    "        koch(x / 3)\n",
    "        left(60)\n",
    "        koch(x / 3)\n",
    "        right(120)\n",
    "        koch(x / 3)\n",
    "        left(60)\n",
    "        koch(x / 3)"
   ]
  },
  {
   "cell_type": "markdown",
   "id": "2991143a",
   "metadata": {
    "id": "2991143a"
   },
   "source": [
    "The result should look like this:"
   ]
  },
  {
   "cell_type": "code",
   "execution_count": null,
   "id": "55507716",
   "metadata": {
    "colab": {
     "base_uri": "https://localhost:8080/",
     "height": 171
    },
    "executionInfo": {
     "elapsed": 845,
     "status": "ok",
     "timestamp": 1757319202348,
     "user": {
      "displayName": "Chau Tran",
      "userId": "02458922725668427191"
     },
     "user_tz": -420
    },
    "id": "55507716",
    "outputId": "155558ff-5a78-48b7-8a63-a3441307ee8a"
   },
   "outputs": [
    {
     "data": {
      "text/html": [
       "<svg width=\"300\" height=\"150\">\n",
       "    <rect width=\"100%\" height=\"100%\" fill=\"#F3F3F7\" />\n",
       "\n",
       "<line x1=\"150\" y1=\"75\" x2=\"154.4\" y2=\"75.0\"\n",
       "    stroke=\"#663399\" stroke-width=\"2\" />\n",
       "<line x1=\"154.4\" y1=\"75.0\" x2=\"156.7\" y2=\"71.2\"\n",
       "    stroke=\"#663399\" stroke-width=\"2\" />\n",
       "<line x1=\"156.7\" y1=\"71.2\" x2=\"158.9\" y2=\"75.0\"\n",
       "    stroke=\"#663399\" stroke-width=\"2\" />\n",
       "<line x1=\"158.9\" y1=\"75.0\" x2=\"163.3\" y2=\"75.0\"\n",
       "    stroke=\"#663399\" stroke-width=\"2\" />\n",
       "<line x1=\"163.3\" y1=\"75.0\" x2=\"165.6\" y2=\"71.2\"\n",
       "    stroke=\"#663399\" stroke-width=\"2\" />\n",
       "<line x1=\"165.6\" y1=\"71.2\" x2=\"163.3\" y2=\"67.3\"\n",
       "    stroke=\"#663399\" stroke-width=\"2\" />\n",
       "<line x1=\"163.3\" y1=\"67.3\" x2=\"167.8\" y2=\"67.3\"\n",
       "    stroke=\"#663399\" stroke-width=\"2\" />\n",
       "<line x1=\"167.8\" y1=\"67.3\" x2=\"170.0\" y2=\"63.5\"\n",
       "    stroke=\"#663399\" stroke-width=\"2\" />\n",
       "<line x1=\"170.0\" y1=\"63.5\" x2=\"172.2\" y2=\"67.3\"\n",
       "    stroke=\"#663399\" stroke-width=\"2\" />\n",
       "<line x1=\"172.2\" y1=\"67.3\" x2=\"176.7\" y2=\"67.3\"\n",
       "    stroke=\"#663399\" stroke-width=\"2\" />\n",
       "<line x1=\"176.7\" y1=\"67.3\" x2=\"174.4\" y2=\"71.2\"\n",
       "    stroke=\"#663399\" stroke-width=\"2\" />\n",
       "<line x1=\"174.4\" y1=\"71.2\" x2=\"176.7\" y2=\"75.0\"\n",
       "    stroke=\"#663399\" stroke-width=\"2\" />\n",
       "<line x1=\"176.7\" y1=\"75.0\" x2=\"181.1\" y2=\"75.0\"\n",
       "    stroke=\"#663399\" stroke-width=\"2\" />\n",
       "<line x1=\"181.1\" y1=\"75.0\" x2=\"183.3\" y2=\"71.2\"\n",
       "    stroke=\"#663399\" stroke-width=\"2\" />\n",
       "<line x1=\"183.3\" y1=\"71.2\" x2=\"185.6\" y2=\"75.0\"\n",
       "    stroke=\"#663399\" stroke-width=\"2\" />\n",
       "<line x1=\"185.6\" y1=\"75.0\" x2=\"190.0\" y2=\"75.0\"\n",
       "    stroke=\"#663399\" stroke-width=\"2\" />\n",
       "<line x1=\"190.0\" y1=\"75.0\" x2=\"192.2\" y2=\"71.2\"\n",
       "    stroke=\"#663399\" stroke-width=\"2\" />\n",
       "<line x1=\"192.2\" y1=\"71.2\" x2=\"190.0\" y2=\"67.3\"\n",
       "    stroke=\"#663399\" stroke-width=\"2\" />\n",
       "<line x1=\"190.0\" y1=\"67.3\" x2=\"194.4\" y2=\"67.3\"\n",
       "    stroke=\"#663399\" stroke-width=\"2\" />\n",
       "<line x1=\"194.4\" y1=\"67.3\" x2=\"196.7\" y2=\"63.5\"\n",
       "    stroke=\"#663399\" stroke-width=\"2\" />\n",
       "<line x1=\"196.7\" y1=\"63.5\" x2=\"194.4\" y2=\"59.6\"\n",
       "    stroke=\"#663399\" stroke-width=\"2\" />\n",
       "<line x1=\"194.4\" y1=\"59.6\" x2=\"190.0\" y2=\"59.6\"\n",
       "    stroke=\"#663399\" stroke-width=\"2\" />\n",
       "<line x1=\"190.0\" y1=\"59.6\" x2=\"192.2\" y2=\"55.8\"\n",
       "    stroke=\"#663399\" stroke-width=\"2\" />\n",
       "<line x1=\"192.2\" y1=\"55.8\" x2=\"190.0\" y2=\"51.9\"\n",
       "    stroke=\"#663399\" stroke-width=\"2\" />\n",
       "<line x1=\"190.0\" y1=\"51.9\" x2=\"194.4\" y2=\"51.9\"\n",
       "    stroke=\"#663399\" stroke-width=\"2\" />\n",
       "<line x1=\"194.4\" y1=\"51.9\" x2=\"196.7\" y2=\"48.1\"\n",
       "    stroke=\"#663399\" stroke-width=\"2\" />\n",
       "<line x1=\"196.7\" y1=\"48.1\" x2=\"198.9\" y2=\"51.9\"\n",
       "    stroke=\"#663399\" stroke-width=\"2\" />\n",
       "<line x1=\"198.9\" y1=\"51.9\" x2=\"203.3\" y2=\"51.9\"\n",
       "    stroke=\"#663399\" stroke-width=\"2\" />\n",
       "<line x1=\"203.3\" y1=\"51.9\" x2=\"205.6\" y2=\"48.1\"\n",
       "    stroke=\"#663399\" stroke-width=\"2\" />\n",
       "<line x1=\"205.6\" y1=\"48.1\" x2=\"203.3\" y2=\"44.2\"\n",
       "    stroke=\"#663399\" stroke-width=\"2\" />\n",
       "<line x1=\"203.3\" y1=\"44.2\" x2=\"207.8\" y2=\"44.2\"\n",
       "    stroke=\"#663399\" stroke-width=\"2\" />\n",
       "<line x1=\"207.8\" y1=\"44.2\" x2=\"210.0\" y2=\"40.4\"\n",
       "    stroke=\"#663399\" stroke-width=\"2\" />\n",
       "<line x1=\"210.0\" y1=\"40.4\" x2=\"212.2\" y2=\"44.2\"\n",
       "    stroke=\"#663399\" stroke-width=\"2\" />\n",
       "<line x1=\"212.2\" y1=\"44.2\" x2=\"216.7\" y2=\"44.2\"\n",
       "    stroke=\"#663399\" stroke-width=\"2\" />\n",
       "<line x1=\"216.7\" y1=\"44.2\" x2=\"214.4\" y2=\"48.1\"\n",
       "    stroke=\"#663399\" stroke-width=\"2\" />\n",
       "<line x1=\"214.4\" y1=\"48.1\" x2=\"216.7\" y2=\"51.9\"\n",
       "    stroke=\"#663399\" stroke-width=\"2\" />\n",
       "<line x1=\"216.7\" y1=\"51.9\" x2=\"221.1\" y2=\"51.9\"\n",
       "    stroke=\"#663399\" stroke-width=\"2\" />\n",
       "<line x1=\"221.1\" y1=\"51.9\" x2=\"223.3\" y2=\"48.1\"\n",
       "    stroke=\"#663399\" stroke-width=\"2\" />\n",
       "<line x1=\"223.3\" y1=\"48.1\" x2=\"225.6\" y2=\"51.9\"\n",
       "    stroke=\"#663399\" stroke-width=\"2\" />\n",
       "<line x1=\"225.6\" y1=\"51.9\" x2=\"230.0\" y2=\"51.9\"\n",
       "    stroke=\"#663399\" stroke-width=\"2\" />\n",
       "<line x1=\"230.0\" y1=\"51.9\" x2=\"227.8\" y2=\"55.8\"\n",
       "    stroke=\"#663399\" stroke-width=\"2\" />\n",
       "<line x1=\"227.8\" y1=\"55.8\" x2=\"230.0\" y2=\"59.6\"\n",
       "    stroke=\"#663399\" stroke-width=\"2\" />\n",
       "<line x1=\"230.0\" y1=\"59.6\" x2=\"225.6\" y2=\"59.6\"\n",
       "    stroke=\"#663399\" stroke-width=\"2\" />\n",
       "<line x1=\"225.6\" y1=\"59.6\" x2=\"223.3\" y2=\"63.5\"\n",
       "    stroke=\"#663399\" stroke-width=\"2\" />\n",
       "<line x1=\"223.3\" y1=\"63.5\" x2=\"225.6\" y2=\"67.3\"\n",
       "    stroke=\"#663399\" stroke-width=\"2\" />\n",
       "<line x1=\"225.6\" y1=\"67.3\" x2=\"230.0\" y2=\"67.3\"\n",
       "    stroke=\"#663399\" stroke-width=\"2\" />\n",
       "<line x1=\"230.0\" y1=\"67.3\" x2=\"227.8\" y2=\"71.2\"\n",
       "    stroke=\"#663399\" stroke-width=\"2\" />\n",
       "<line x1=\"227.8\" y1=\"71.2\" x2=\"230.0\" y2=\"75.0\"\n",
       "    stroke=\"#663399\" stroke-width=\"2\" />\n",
       "<line x1=\"230.0\" y1=\"75.0\" x2=\"234.4\" y2=\"75.0\"\n",
       "    stroke=\"#663399\" stroke-width=\"2\" />\n",
       "<line x1=\"234.4\" y1=\"75.0\" x2=\"236.7\" y2=\"71.2\"\n",
       "    stroke=\"#663399\" stroke-width=\"2\" />\n",
       "<line x1=\"236.7\" y1=\"71.2\" x2=\"238.9\" y2=\"75.0\"\n",
       "    stroke=\"#663399\" stroke-width=\"2\" />\n",
       "<line x1=\"238.9\" y1=\"75.0\" x2=\"243.3\" y2=\"75.0\"\n",
       "    stroke=\"#663399\" stroke-width=\"2\" />\n",
       "<line x1=\"243.3\" y1=\"75.0\" x2=\"245.6\" y2=\"71.2\"\n",
       "    stroke=\"#663399\" stroke-width=\"2\" />\n",
       "<line x1=\"245.6\" y1=\"71.2\" x2=\"243.3\" y2=\"67.3\"\n",
       "    stroke=\"#663399\" stroke-width=\"2\" />\n",
       "<line x1=\"243.3\" y1=\"67.3\" x2=\"247.8\" y2=\"67.3\"\n",
       "    stroke=\"#663399\" stroke-width=\"2\" />\n",
       "<line x1=\"247.8\" y1=\"67.3\" x2=\"250.0\" y2=\"63.5\"\n",
       "    stroke=\"#663399\" stroke-width=\"2\" />\n",
       "<line x1=\"250.0\" y1=\"63.5\" x2=\"252.2\" y2=\"67.3\"\n",
       "    stroke=\"#663399\" stroke-width=\"2\" />\n",
       "<line x1=\"252.2\" y1=\"67.3\" x2=\"256.7\" y2=\"67.3\"\n",
       "    stroke=\"#663399\" stroke-width=\"2\" />\n",
       "<line x1=\"256.7\" y1=\"67.3\" x2=\"254.4\" y2=\"71.2\"\n",
       "    stroke=\"#663399\" stroke-width=\"2\" />\n",
       "<line x1=\"254.4\" y1=\"71.2\" x2=\"256.7\" y2=\"75.0\"\n",
       "    stroke=\"#663399\" stroke-width=\"2\" />\n",
       "<line x1=\"256.7\" y1=\"75.0\" x2=\"261.1\" y2=\"75.0\"\n",
       "    stroke=\"#663399\" stroke-width=\"2\" />\n",
       "<line x1=\"261.1\" y1=\"75.0\" x2=\"263.3\" y2=\"71.2\"\n",
       "    stroke=\"#663399\" stroke-width=\"2\" />\n",
       "<line x1=\"263.3\" y1=\"71.2\" x2=\"265.6\" y2=\"75.0\"\n",
       "    stroke=\"#663399\" stroke-width=\"2\" />\n",
       "<line x1=\"265.6\" y1=\"75.0\" x2=\"270.0\" y2=\"75.0\"\n",
       "    stroke=\"#663399\" stroke-width=\"2\" />\n",
       "\n",
       "<g transform=\"rotate(-90.0,270.0,75.0) translate(270.0, 75.0)\">\n",
       "    <circle stroke=\"#63A375\" stroke-width=\"2\" fill=\"transparent\" r=\"5.5\" cx=\"0\" cy=\"0\"/>\n",
       "    <polygon points=\"0,12 2,9 -2,9\" style=\"fill:#63A375;stroke:#63A375;stroke-width:2\"/>\n",
       "</g>\n",
       "\n",
       "</svg>"
      ],
      "text/plain": [
       "<IPython.core.display.HTML object>"
      ]
     },
     "metadata": {},
     "output_type": "display_data"
    }
   ],
   "source": [
    "make_turtle(delay=0)\n",
    "koch(120)"
   ]
  },
  {
   "cell_type": "markdown",
   "id": "b1c58420",
   "metadata": {
    "id": "b1c58420",
    "tags": [
     "remove-cell"
    ]
   },
   "source": [
    "Once you have koch working, you can use this loop to draw three Koch curves in the shape of a snowflake."
   ]
  },
  {
   "cell_type": "code",
   "execution_count": null,
   "id": "86d3123b",
   "metadata": {
    "colab": {
     "base_uri": "https://localhost:8080/",
     "height": 321
    },
    "executionInfo": {
     "elapsed": 1604,
     "status": "ok",
     "timestamp": 1757319203954,
     "user": {
      "displayName": "Chau Tran",
      "userId": "02458922725668427191"
     },
     "user_tz": -420
    },
    "id": "86d3123b",
    "outputId": "1bad076e-9762-4bf7-86ae-c38afe320883",
    "tags": [
     "remove-cell"
    ]
   },
   "outputs": [
    {
     "data": {
      "text/html": [
       "<svg width=\"300\" height=\"300\">\n",
       "    <rect width=\"100%\" height=\"100%\" fill=\"#F3F3F7\" />\n",
       "\n",
       "<line x1=\"150\" y1=\"150\" x2=\"154.4\" y2=\"150.0\"\n",
       "    stroke=\"#663399\" stroke-width=\"2\" />\n",
       "<line x1=\"154.4\" y1=\"150.0\" x2=\"156.7\" y2=\"146.2\"\n",
       "    stroke=\"#663399\" stroke-width=\"2\" />\n",
       "<line x1=\"156.7\" y1=\"146.2\" x2=\"158.9\" y2=\"150.0\"\n",
       "    stroke=\"#663399\" stroke-width=\"2\" />\n",
       "<line x1=\"158.9\" y1=\"150.0\" x2=\"163.3\" y2=\"150.0\"\n",
       "    stroke=\"#663399\" stroke-width=\"2\" />\n",
       "<line x1=\"163.3\" y1=\"150.0\" x2=\"165.6\" y2=\"146.2\"\n",
       "    stroke=\"#663399\" stroke-width=\"2\" />\n",
       "<line x1=\"165.6\" y1=\"146.2\" x2=\"163.3\" y2=\"142.3\"\n",
       "    stroke=\"#663399\" stroke-width=\"2\" />\n",
       "<line x1=\"163.3\" y1=\"142.3\" x2=\"167.8\" y2=\"142.3\"\n",
       "    stroke=\"#663399\" stroke-width=\"2\" />\n",
       "<line x1=\"167.8\" y1=\"142.3\" x2=\"170.0\" y2=\"138.5\"\n",
       "    stroke=\"#663399\" stroke-width=\"2\" />\n",
       "<line x1=\"170.0\" y1=\"138.5\" x2=\"172.2\" y2=\"142.3\"\n",
       "    stroke=\"#663399\" stroke-width=\"2\" />\n",
       "<line x1=\"172.2\" y1=\"142.3\" x2=\"176.7\" y2=\"142.3\"\n",
       "    stroke=\"#663399\" stroke-width=\"2\" />\n",
       "<line x1=\"176.7\" y1=\"142.3\" x2=\"174.4\" y2=\"146.2\"\n",
       "    stroke=\"#663399\" stroke-width=\"2\" />\n",
       "<line x1=\"174.4\" y1=\"146.2\" x2=\"176.7\" y2=\"150.0\"\n",
       "    stroke=\"#663399\" stroke-width=\"2\" />\n",
       "<line x1=\"176.7\" y1=\"150.0\" x2=\"181.1\" y2=\"150.0\"\n",
       "    stroke=\"#663399\" stroke-width=\"2\" />\n",
       "<line x1=\"181.1\" y1=\"150.0\" x2=\"183.3\" y2=\"146.2\"\n",
       "    stroke=\"#663399\" stroke-width=\"2\" />\n",
       "<line x1=\"183.3\" y1=\"146.2\" x2=\"185.6\" y2=\"150.0\"\n",
       "    stroke=\"#663399\" stroke-width=\"2\" />\n",
       "<line x1=\"185.6\" y1=\"150.0\" x2=\"190.0\" y2=\"150.0\"\n",
       "    stroke=\"#663399\" stroke-width=\"2\" />\n",
       "<line x1=\"190.0\" y1=\"150.0\" x2=\"192.2\" y2=\"146.2\"\n",
       "    stroke=\"#663399\" stroke-width=\"2\" />\n",
       "<line x1=\"192.2\" y1=\"146.2\" x2=\"190.0\" y2=\"142.3\"\n",
       "    stroke=\"#663399\" stroke-width=\"2\" />\n",
       "<line x1=\"190.0\" y1=\"142.3\" x2=\"194.4\" y2=\"142.3\"\n",
       "    stroke=\"#663399\" stroke-width=\"2\" />\n",
       "<line x1=\"194.4\" y1=\"142.3\" x2=\"196.7\" y2=\"138.5\"\n",
       "    stroke=\"#663399\" stroke-width=\"2\" />\n",
       "<line x1=\"196.7\" y1=\"138.5\" x2=\"194.4\" y2=\"134.6\"\n",
       "    stroke=\"#663399\" stroke-width=\"2\" />\n",
       "<line x1=\"194.4\" y1=\"134.6\" x2=\"190.0\" y2=\"134.6\"\n",
       "    stroke=\"#663399\" stroke-width=\"2\" />\n",
       "<line x1=\"190.0\" y1=\"134.6\" x2=\"192.2\" y2=\"130.8\"\n",
       "    stroke=\"#663399\" stroke-width=\"2\" />\n",
       "<line x1=\"192.2\" y1=\"130.8\" x2=\"190.0\" y2=\"126.9\"\n",
       "    stroke=\"#663399\" stroke-width=\"2\" />\n",
       "<line x1=\"190.0\" y1=\"126.9\" x2=\"194.4\" y2=\"126.9\"\n",
       "    stroke=\"#663399\" stroke-width=\"2\" />\n",
       "<line x1=\"194.4\" y1=\"126.9\" x2=\"196.7\" y2=\"123.1\"\n",
       "    stroke=\"#663399\" stroke-width=\"2\" />\n",
       "<line x1=\"196.7\" y1=\"123.1\" x2=\"198.9\" y2=\"126.9\"\n",
       "    stroke=\"#663399\" stroke-width=\"2\" />\n",
       "<line x1=\"198.9\" y1=\"126.9\" x2=\"203.3\" y2=\"126.9\"\n",
       "    stroke=\"#663399\" stroke-width=\"2\" />\n",
       "<line x1=\"203.3\" y1=\"126.9\" x2=\"205.6\" y2=\"123.1\"\n",
       "    stroke=\"#663399\" stroke-width=\"2\" />\n",
       "<line x1=\"205.6\" y1=\"123.1\" x2=\"203.3\" y2=\"119.2\"\n",
       "    stroke=\"#663399\" stroke-width=\"2\" />\n",
       "<line x1=\"203.3\" y1=\"119.2\" x2=\"207.8\" y2=\"119.2\"\n",
       "    stroke=\"#663399\" stroke-width=\"2\" />\n",
       "<line x1=\"207.8\" y1=\"119.2\" x2=\"210.0\" y2=\"115.4\"\n",
       "    stroke=\"#663399\" stroke-width=\"2\" />\n",
       "<line x1=\"210.0\" y1=\"115.4\" x2=\"212.2\" y2=\"119.2\"\n",
       "    stroke=\"#663399\" stroke-width=\"2\" />\n",
       "<line x1=\"212.2\" y1=\"119.2\" x2=\"216.7\" y2=\"119.2\"\n",
       "    stroke=\"#663399\" stroke-width=\"2\" />\n",
       "<line x1=\"216.7\" y1=\"119.2\" x2=\"214.4\" y2=\"123.1\"\n",
       "    stroke=\"#663399\" stroke-width=\"2\" />\n",
       "<line x1=\"214.4\" y1=\"123.1\" x2=\"216.7\" y2=\"126.9\"\n",
       "    stroke=\"#663399\" stroke-width=\"2\" />\n",
       "<line x1=\"216.7\" y1=\"126.9\" x2=\"221.1\" y2=\"126.9\"\n",
       "    stroke=\"#663399\" stroke-width=\"2\" />\n",
       "<line x1=\"221.1\" y1=\"126.9\" x2=\"223.3\" y2=\"123.1\"\n",
       "    stroke=\"#663399\" stroke-width=\"2\" />\n",
       "<line x1=\"223.3\" y1=\"123.1\" x2=\"225.6\" y2=\"126.9\"\n",
       "    stroke=\"#663399\" stroke-width=\"2\" />\n",
       "<line x1=\"225.6\" y1=\"126.9\" x2=\"230.0\" y2=\"126.9\"\n",
       "    stroke=\"#663399\" stroke-width=\"2\" />\n",
       "<line x1=\"230.0\" y1=\"126.9\" x2=\"227.8\" y2=\"130.8\"\n",
       "    stroke=\"#663399\" stroke-width=\"2\" />\n",
       "<line x1=\"227.8\" y1=\"130.8\" x2=\"230.0\" y2=\"134.6\"\n",
       "    stroke=\"#663399\" stroke-width=\"2\" />\n",
       "<line x1=\"230.0\" y1=\"134.6\" x2=\"225.6\" y2=\"134.6\"\n",
       "    stroke=\"#663399\" stroke-width=\"2\" />\n",
       "<line x1=\"225.6\" y1=\"134.6\" x2=\"223.3\" y2=\"138.5\"\n",
       "    stroke=\"#663399\" stroke-width=\"2\" />\n",
       "<line x1=\"223.3\" y1=\"138.5\" x2=\"225.6\" y2=\"142.3\"\n",
       "    stroke=\"#663399\" stroke-width=\"2\" />\n",
       "<line x1=\"225.6\" y1=\"142.3\" x2=\"230.0\" y2=\"142.3\"\n",
       "    stroke=\"#663399\" stroke-width=\"2\" />\n",
       "<line x1=\"230.0\" y1=\"142.3\" x2=\"227.8\" y2=\"146.2\"\n",
       "    stroke=\"#663399\" stroke-width=\"2\" />\n",
       "<line x1=\"227.8\" y1=\"146.2\" x2=\"230.0\" y2=\"150.0\"\n",
       "    stroke=\"#663399\" stroke-width=\"2\" />\n",
       "<line x1=\"230.0\" y1=\"150.0\" x2=\"234.4\" y2=\"150.0\"\n",
       "    stroke=\"#663399\" stroke-width=\"2\" />\n",
       "<line x1=\"234.4\" y1=\"150.0\" x2=\"236.7\" y2=\"146.2\"\n",
       "    stroke=\"#663399\" stroke-width=\"2\" />\n",
       "<line x1=\"236.7\" y1=\"146.2\" x2=\"238.9\" y2=\"150.0\"\n",
       "    stroke=\"#663399\" stroke-width=\"2\" />\n",
       "<line x1=\"238.9\" y1=\"150.0\" x2=\"243.3\" y2=\"150.0\"\n",
       "    stroke=\"#663399\" stroke-width=\"2\" />\n",
       "<line x1=\"243.3\" y1=\"150.0\" x2=\"245.6\" y2=\"146.2\"\n",
       "    stroke=\"#663399\" stroke-width=\"2\" />\n",
       "<line x1=\"245.6\" y1=\"146.2\" x2=\"243.3\" y2=\"142.3\"\n",
       "    stroke=\"#663399\" stroke-width=\"2\" />\n",
       "<line x1=\"243.3\" y1=\"142.3\" x2=\"247.8\" y2=\"142.3\"\n",
       "    stroke=\"#663399\" stroke-width=\"2\" />\n",
       "<line x1=\"247.8\" y1=\"142.3\" x2=\"250.0\" y2=\"138.5\"\n",
       "    stroke=\"#663399\" stroke-width=\"2\" />\n",
       "<line x1=\"250.0\" y1=\"138.5\" x2=\"252.2\" y2=\"142.3\"\n",
       "    stroke=\"#663399\" stroke-width=\"2\" />\n",
       "<line x1=\"252.2\" y1=\"142.3\" x2=\"256.7\" y2=\"142.3\"\n",
       "    stroke=\"#663399\" stroke-width=\"2\" />\n",
       "<line x1=\"256.7\" y1=\"142.3\" x2=\"254.4\" y2=\"146.2\"\n",
       "    stroke=\"#663399\" stroke-width=\"2\" />\n",
       "<line x1=\"254.4\" y1=\"146.2\" x2=\"256.7\" y2=\"150.0\"\n",
       "    stroke=\"#663399\" stroke-width=\"2\" />\n",
       "<line x1=\"256.7\" y1=\"150.0\" x2=\"261.1\" y2=\"150.0\"\n",
       "    stroke=\"#663399\" stroke-width=\"2\" />\n",
       "<line x1=\"261.1\" y1=\"150.0\" x2=\"263.3\" y2=\"146.2\"\n",
       "    stroke=\"#663399\" stroke-width=\"2\" />\n",
       "<line x1=\"263.3\" y1=\"146.2\" x2=\"265.6\" y2=\"150.0\"\n",
       "    stroke=\"#663399\" stroke-width=\"2\" />\n",
       "<line x1=\"265.6\" y1=\"150.0\" x2=\"270.0\" y2=\"150.0\"\n",
       "    stroke=\"#663399\" stroke-width=\"2\" />\n",
       "<line x1=\"270.0\" y1=\"150.0\" x2=\"267.8\" y2=\"153.8\"\n",
       "    stroke=\"#663399\" stroke-width=\"2\" />\n",
       "<line x1=\"267.8\" y1=\"153.8\" x2=\"270.0\" y2=\"157.7\"\n",
       "    stroke=\"#663399\" stroke-width=\"2\" />\n",
       "<line x1=\"270.0\" y1=\"157.7\" x2=\"265.6\" y2=\"157.7\"\n",
       "    stroke=\"#663399\" stroke-width=\"2\" />\n",
       "<line x1=\"265.6\" y1=\"157.7\" x2=\"263.3\" y2=\"161.5\"\n",
       "    stroke=\"#663399\" stroke-width=\"2\" />\n",
       "<line x1=\"263.3\" y1=\"161.5\" x2=\"265.6\" y2=\"165.4\"\n",
       "    stroke=\"#663399\" stroke-width=\"2\" />\n",
       "<line x1=\"265.6\" y1=\"165.4\" x2=\"270.0\" y2=\"165.4\"\n",
       "    stroke=\"#663399\" stroke-width=\"2\" />\n",
       "<line x1=\"270.0\" y1=\"165.4\" x2=\"267.8\" y2=\"169.2\"\n",
       "    stroke=\"#663399\" stroke-width=\"2\" />\n",
       "<line x1=\"267.8\" y1=\"169.2\" x2=\"270.0\" y2=\"173.1\"\n",
       "    stroke=\"#663399\" stroke-width=\"2\" />\n",
       "<line x1=\"270.0\" y1=\"173.1\" x2=\"265.6\" y2=\"173.1\"\n",
       "    stroke=\"#663399\" stroke-width=\"2\" />\n",
       "<line x1=\"265.6\" y1=\"173.1\" x2=\"263.3\" y2=\"176.9\"\n",
       "    stroke=\"#663399\" stroke-width=\"2\" />\n",
       "<line x1=\"263.3\" y1=\"176.9\" x2=\"261.1\" y2=\"173.1\"\n",
       "    stroke=\"#663399\" stroke-width=\"2\" />\n",
       "<line x1=\"261.1\" y1=\"173.1\" x2=\"256.7\" y2=\"173.1\"\n",
       "    stroke=\"#663399\" stroke-width=\"2\" />\n",
       "<line x1=\"256.7\" y1=\"173.1\" x2=\"254.4\" y2=\"176.9\"\n",
       "    stroke=\"#663399\" stroke-width=\"2\" />\n",
       "<line x1=\"254.4\" y1=\"176.9\" x2=\"256.7\" y2=\"180.8\"\n",
       "    stroke=\"#663399\" stroke-width=\"2\" />\n",
       "<line x1=\"256.7\" y1=\"180.8\" x2=\"252.2\" y2=\"180.8\"\n",
       "    stroke=\"#663399\" stroke-width=\"2\" />\n",
       "<line x1=\"252.2\" y1=\"180.8\" x2=\"250.0\" y2=\"184.6\"\n",
       "    stroke=\"#663399\" stroke-width=\"2\" />\n",
       "<line x1=\"250.0\" y1=\"184.6\" x2=\"252.2\" y2=\"188.5\"\n",
       "    stroke=\"#663399\" stroke-width=\"2\" />\n",
       "<line x1=\"252.2\" y1=\"188.5\" x2=\"256.7\" y2=\"188.5\"\n",
       "    stroke=\"#663399\" stroke-width=\"2\" />\n",
       "<line x1=\"256.7\" y1=\"188.5\" x2=\"254.4\" y2=\"192.3\"\n",
       "    stroke=\"#663399\" stroke-width=\"2\" />\n",
       "<line x1=\"254.4\" y1=\"192.3\" x2=\"256.7\" y2=\"196.2\"\n",
       "    stroke=\"#663399\" stroke-width=\"2\" />\n",
       "<line x1=\"256.7\" y1=\"196.2\" x2=\"261.1\" y2=\"196.2\"\n",
       "    stroke=\"#663399\" stroke-width=\"2\" />\n",
       "<line x1=\"261.1\" y1=\"196.2\" x2=\"263.3\" y2=\"192.3\"\n",
       "    stroke=\"#663399\" stroke-width=\"2\" />\n",
       "<line x1=\"263.3\" y1=\"192.3\" x2=\"265.6\" y2=\"196.2\"\n",
       "    stroke=\"#663399\" stroke-width=\"2\" />\n",
       "<line x1=\"265.6\" y1=\"196.2\" x2=\"270.0\" y2=\"196.2\"\n",
       "    stroke=\"#663399\" stroke-width=\"2\" />\n",
       "<line x1=\"270.0\" y1=\"196.2\" x2=\"267.8\" y2=\"200.0\"\n",
       "    stroke=\"#663399\" stroke-width=\"2\" />\n",
       "<line x1=\"267.8\" y1=\"200.0\" x2=\"270.0\" y2=\"203.9\"\n",
       "    stroke=\"#663399\" stroke-width=\"2\" />\n",
       "<line x1=\"270.0\" y1=\"203.9\" x2=\"265.6\" y2=\"203.9\"\n",
       "    stroke=\"#663399\" stroke-width=\"2\" />\n",
       "<line x1=\"265.6\" y1=\"203.9\" x2=\"263.3\" y2=\"207.7\"\n",
       "    stroke=\"#663399\" stroke-width=\"2\" />\n",
       "<line x1=\"263.3\" y1=\"207.7\" x2=\"265.6\" y2=\"211.6\"\n",
       "    stroke=\"#663399\" stroke-width=\"2\" />\n",
       "<line x1=\"265.6\" y1=\"211.6\" x2=\"270.0\" y2=\"211.6\"\n",
       "    stroke=\"#663399\" stroke-width=\"2\" />\n",
       "<line x1=\"270.0\" y1=\"211.6\" x2=\"267.8\" y2=\"215.4\"\n",
       "    stroke=\"#663399\" stroke-width=\"2\" />\n",
       "<line x1=\"267.8\" y1=\"215.4\" x2=\"270.0\" y2=\"219.3\"\n",
       "    stroke=\"#663399\" stroke-width=\"2\" />\n",
       "<line x1=\"270.0\" y1=\"219.3\" x2=\"265.6\" y2=\"219.3\"\n",
       "    stroke=\"#663399\" stroke-width=\"2\" />\n",
       "<line x1=\"265.6\" y1=\"219.3\" x2=\"263.3\" y2=\"223.1\"\n",
       "    stroke=\"#663399\" stroke-width=\"2\" />\n",
       "<line x1=\"263.3\" y1=\"223.1\" x2=\"261.1\" y2=\"219.3\"\n",
       "    stroke=\"#663399\" stroke-width=\"2\" />\n",
       "<line x1=\"261.1\" y1=\"219.3\" x2=\"256.7\" y2=\"219.3\"\n",
       "    stroke=\"#663399\" stroke-width=\"2\" />\n",
       "<line x1=\"256.7\" y1=\"219.3\" x2=\"254.4\" y2=\"223.1\"\n",
       "    stroke=\"#663399\" stroke-width=\"2\" />\n",
       "<line x1=\"254.4\" y1=\"223.1\" x2=\"256.7\" y2=\"227.0\"\n",
       "    stroke=\"#663399\" stroke-width=\"2\" />\n",
       "<line x1=\"256.7\" y1=\"227.0\" x2=\"252.2\" y2=\"227.0\"\n",
       "    stroke=\"#663399\" stroke-width=\"2\" />\n",
       "<line x1=\"252.2\" y1=\"227.0\" x2=\"250.0\" y2=\"230.8\"\n",
       "    stroke=\"#663399\" stroke-width=\"2\" />\n",
       "<line x1=\"250.0\" y1=\"230.8\" x2=\"247.8\" y2=\"227.0\"\n",
       "    stroke=\"#663399\" stroke-width=\"2\" />\n",
       "<line x1=\"247.8\" y1=\"227.0\" x2=\"243.3\" y2=\"227.0\"\n",
       "    stroke=\"#663399\" stroke-width=\"2\" />\n",
       "<line x1=\"243.3\" y1=\"227.0\" x2=\"245.6\" y2=\"223.1\"\n",
       "    stroke=\"#663399\" stroke-width=\"2\" />\n",
       "<line x1=\"245.6\" y1=\"223.1\" x2=\"243.3\" y2=\"219.3\"\n",
       "    stroke=\"#663399\" stroke-width=\"2\" />\n",
       "<line x1=\"243.3\" y1=\"219.3\" x2=\"238.9\" y2=\"219.3\"\n",
       "    stroke=\"#663399\" stroke-width=\"2\" />\n",
       "<line x1=\"238.9\" y1=\"219.3\" x2=\"236.7\" y2=\"223.1\"\n",
       "    stroke=\"#663399\" stroke-width=\"2\" />\n",
       "<line x1=\"236.7\" y1=\"223.1\" x2=\"234.4\" y2=\"219.3\"\n",
       "    stroke=\"#663399\" stroke-width=\"2\" />\n",
       "<line x1=\"234.4\" y1=\"219.3\" x2=\"230.0\" y2=\"219.3\"\n",
       "    stroke=\"#663399\" stroke-width=\"2\" />\n",
       "<line x1=\"230.0\" y1=\"219.3\" x2=\"227.8\" y2=\"223.1\"\n",
       "    stroke=\"#663399\" stroke-width=\"2\" />\n",
       "<line x1=\"227.8\" y1=\"223.1\" x2=\"230.0\" y2=\"227.0\"\n",
       "    stroke=\"#663399\" stroke-width=\"2\" />\n",
       "<line x1=\"230.0\" y1=\"227.0\" x2=\"225.6\" y2=\"227.0\"\n",
       "    stroke=\"#663399\" stroke-width=\"2\" />\n",
       "<line x1=\"225.6\" y1=\"227.0\" x2=\"223.3\" y2=\"230.8\"\n",
       "    stroke=\"#663399\" stroke-width=\"2\" />\n",
       "<line x1=\"223.3\" y1=\"230.8\" x2=\"225.6\" y2=\"234.7\"\n",
       "    stroke=\"#663399\" stroke-width=\"2\" />\n",
       "<line x1=\"225.6\" y1=\"234.7\" x2=\"230.0\" y2=\"234.7\"\n",
       "    stroke=\"#663399\" stroke-width=\"2\" />\n",
       "<line x1=\"230.0\" y1=\"234.7\" x2=\"227.8\" y2=\"238.5\"\n",
       "    stroke=\"#663399\" stroke-width=\"2\" />\n",
       "<line x1=\"227.8\" y1=\"238.5\" x2=\"230.0\" y2=\"242.4\"\n",
       "    stroke=\"#663399\" stroke-width=\"2\" />\n",
       "<line x1=\"230.0\" y1=\"242.4\" x2=\"225.6\" y2=\"242.4\"\n",
       "    stroke=\"#663399\" stroke-width=\"2\" />\n",
       "<line x1=\"225.6\" y1=\"242.4\" x2=\"223.3\" y2=\"246.2\"\n",
       "    stroke=\"#663399\" stroke-width=\"2\" />\n",
       "<line x1=\"223.3\" y1=\"246.2\" x2=\"221.1\" y2=\"242.4\"\n",
       "    stroke=\"#663399\" stroke-width=\"2\" />\n",
       "<line x1=\"221.1\" y1=\"242.4\" x2=\"216.7\" y2=\"242.4\"\n",
       "    stroke=\"#663399\" stroke-width=\"2\" />\n",
       "<line x1=\"216.7\" y1=\"242.4\" x2=\"214.4\" y2=\"246.2\"\n",
       "    stroke=\"#663399\" stroke-width=\"2\" />\n",
       "<line x1=\"214.4\" y1=\"246.2\" x2=\"216.7\" y2=\"250.1\"\n",
       "    stroke=\"#663399\" stroke-width=\"2\" />\n",
       "<line x1=\"216.7\" y1=\"250.1\" x2=\"212.2\" y2=\"250.1\"\n",
       "    stroke=\"#663399\" stroke-width=\"2\" />\n",
       "<line x1=\"212.2\" y1=\"250.1\" x2=\"210.0\" y2=\"253.9\"\n",
       "    stroke=\"#663399\" stroke-width=\"2\" />\n",
       "<line x1=\"210.0\" y1=\"253.9\" x2=\"207.8\" y2=\"250.1\"\n",
       "    stroke=\"#663399\" stroke-width=\"2\" />\n",
       "<line x1=\"207.8\" y1=\"250.1\" x2=\"203.3\" y2=\"250.1\"\n",
       "    stroke=\"#663399\" stroke-width=\"2\" />\n",
       "<line x1=\"203.3\" y1=\"250.1\" x2=\"205.6\" y2=\"246.2\"\n",
       "    stroke=\"#663399\" stroke-width=\"2\" />\n",
       "<line x1=\"205.6\" y1=\"246.2\" x2=\"203.3\" y2=\"242.4\"\n",
       "    stroke=\"#663399\" stroke-width=\"2\" />\n",
       "<line x1=\"203.3\" y1=\"242.4\" x2=\"198.9\" y2=\"242.4\"\n",
       "    stroke=\"#663399\" stroke-width=\"2\" />\n",
       "<line x1=\"198.9\" y1=\"242.4\" x2=\"196.7\" y2=\"246.2\"\n",
       "    stroke=\"#663399\" stroke-width=\"2\" />\n",
       "<line x1=\"196.7\" y1=\"246.2\" x2=\"194.4\" y2=\"242.4\"\n",
       "    stroke=\"#663399\" stroke-width=\"2\" />\n",
       "<line x1=\"194.4\" y1=\"242.4\" x2=\"190.0\" y2=\"242.4\"\n",
       "    stroke=\"#663399\" stroke-width=\"2\" />\n",
       "<line x1=\"190.0\" y1=\"242.4\" x2=\"192.2\" y2=\"238.5\"\n",
       "    stroke=\"#663399\" stroke-width=\"2\" />\n",
       "<line x1=\"192.2\" y1=\"238.5\" x2=\"190.0\" y2=\"234.7\"\n",
       "    stroke=\"#663399\" stroke-width=\"2\" />\n",
       "<line x1=\"190.0\" y1=\"234.7\" x2=\"194.4\" y2=\"234.7\"\n",
       "    stroke=\"#663399\" stroke-width=\"2\" />\n",
       "<line x1=\"194.4\" y1=\"234.7\" x2=\"196.7\" y2=\"230.8\"\n",
       "    stroke=\"#663399\" stroke-width=\"2\" />\n",
       "<line x1=\"196.7\" y1=\"230.8\" x2=\"194.4\" y2=\"227.0\"\n",
       "    stroke=\"#663399\" stroke-width=\"2\" />\n",
       "<line x1=\"194.4\" y1=\"227.0\" x2=\"190.0\" y2=\"227.0\"\n",
       "    stroke=\"#663399\" stroke-width=\"2\" />\n",
       "<line x1=\"190.0\" y1=\"227.0\" x2=\"192.2\" y2=\"223.1\"\n",
       "    stroke=\"#663399\" stroke-width=\"2\" />\n",
       "<line x1=\"192.2\" y1=\"223.1\" x2=\"190.0\" y2=\"219.3\"\n",
       "    stroke=\"#663399\" stroke-width=\"2\" />\n",
       "<line x1=\"190.0\" y1=\"219.3\" x2=\"185.6\" y2=\"219.3\"\n",
       "    stroke=\"#663399\" stroke-width=\"2\" />\n",
       "<line x1=\"185.6\" y1=\"219.3\" x2=\"183.3\" y2=\"223.1\"\n",
       "    stroke=\"#663399\" stroke-width=\"2\" />\n",
       "<line x1=\"183.3\" y1=\"223.1\" x2=\"181.1\" y2=\"219.3\"\n",
       "    stroke=\"#663399\" stroke-width=\"2\" />\n",
       "<line x1=\"181.1\" y1=\"219.3\" x2=\"176.7\" y2=\"219.3\"\n",
       "    stroke=\"#663399\" stroke-width=\"2\" />\n",
       "<line x1=\"176.7\" y1=\"219.3\" x2=\"174.4\" y2=\"223.1\"\n",
       "    stroke=\"#663399\" stroke-width=\"2\" />\n",
       "<line x1=\"174.4\" y1=\"223.1\" x2=\"176.7\" y2=\"227.0\"\n",
       "    stroke=\"#663399\" stroke-width=\"2\" />\n",
       "<line x1=\"176.7\" y1=\"227.0\" x2=\"172.2\" y2=\"227.0\"\n",
       "    stroke=\"#663399\" stroke-width=\"2\" />\n",
       "<line x1=\"172.2\" y1=\"227.0\" x2=\"170.0\" y2=\"230.8\"\n",
       "    stroke=\"#663399\" stroke-width=\"2\" />\n",
       "<line x1=\"170.0\" y1=\"230.8\" x2=\"167.8\" y2=\"227.0\"\n",
       "    stroke=\"#663399\" stroke-width=\"2\" />\n",
       "<line x1=\"167.8\" y1=\"227.0\" x2=\"163.3\" y2=\"227.0\"\n",
       "    stroke=\"#663399\" stroke-width=\"2\" />\n",
       "<line x1=\"163.3\" y1=\"227.0\" x2=\"165.6\" y2=\"223.1\"\n",
       "    stroke=\"#663399\" stroke-width=\"2\" />\n",
       "<line x1=\"165.6\" y1=\"223.1\" x2=\"163.3\" y2=\"219.3\"\n",
       "    stroke=\"#663399\" stroke-width=\"2\" />\n",
       "<line x1=\"163.3\" y1=\"219.3\" x2=\"158.9\" y2=\"219.3\"\n",
       "    stroke=\"#663399\" stroke-width=\"2\" />\n",
       "<line x1=\"158.9\" y1=\"219.3\" x2=\"156.7\" y2=\"223.1\"\n",
       "    stroke=\"#663399\" stroke-width=\"2\" />\n",
       "<line x1=\"156.7\" y1=\"223.1\" x2=\"154.4\" y2=\"219.3\"\n",
       "    stroke=\"#663399\" stroke-width=\"2\" />\n",
       "<line x1=\"154.4\" y1=\"219.3\" x2=\"150.0\" y2=\"219.3\"\n",
       "    stroke=\"#663399\" stroke-width=\"2\" />\n",
       "<line x1=\"150.0\" y1=\"219.3\" x2=\"152.2\" y2=\"215.4\"\n",
       "    stroke=\"#663399\" stroke-width=\"2\" />\n",
       "<line x1=\"152.2\" y1=\"215.4\" x2=\"150.0\" y2=\"211.6\"\n",
       "    stroke=\"#663399\" stroke-width=\"2\" />\n",
       "<line x1=\"150.0\" y1=\"211.6\" x2=\"154.4\" y2=\"211.6\"\n",
       "    stroke=\"#663399\" stroke-width=\"2\" />\n",
       "<line x1=\"154.4\" y1=\"211.6\" x2=\"156.7\" y2=\"207.7\"\n",
       "    stroke=\"#663399\" stroke-width=\"2\" />\n",
       "<line x1=\"156.7\" y1=\"207.7\" x2=\"154.4\" y2=\"203.9\"\n",
       "    stroke=\"#663399\" stroke-width=\"2\" />\n",
       "<line x1=\"154.4\" y1=\"203.9\" x2=\"150.0\" y2=\"203.9\"\n",
       "    stroke=\"#663399\" stroke-width=\"2\" />\n",
       "<line x1=\"150.0\" y1=\"203.9\" x2=\"152.2\" y2=\"200.0\"\n",
       "    stroke=\"#663399\" stroke-width=\"2\" />\n",
       "<line x1=\"152.2\" y1=\"200.0\" x2=\"150.0\" y2=\"196.2\"\n",
       "    stroke=\"#663399\" stroke-width=\"2\" />\n",
       "<line x1=\"150.0\" y1=\"196.2\" x2=\"154.4\" y2=\"196.2\"\n",
       "    stroke=\"#663399\" stroke-width=\"2\" />\n",
       "<line x1=\"154.4\" y1=\"196.2\" x2=\"156.7\" y2=\"192.3\"\n",
       "    stroke=\"#663399\" stroke-width=\"2\" />\n",
       "<line x1=\"156.7\" y1=\"192.3\" x2=\"158.9\" y2=\"196.2\"\n",
       "    stroke=\"#663399\" stroke-width=\"2\" />\n",
       "<line x1=\"158.9\" y1=\"196.2\" x2=\"163.3\" y2=\"196.2\"\n",
       "    stroke=\"#663399\" stroke-width=\"2\" />\n",
       "<line x1=\"163.3\" y1=\"196.2\" x2=\"165.6\" y2=\"192.3\"\n",
       "    stroke=\"#663399\" stroke-width=\"2\" />\n",
       "<line x1=\"165.6\" y1=\"192.3\" x2=\"163.3\" y2=\"188.5\"\n",
       "    stroke=\"#663399\" stroke-width=\"2\" />\n",
       "<line x1=\"163.3\" y1=\"188.5\" x2=\"167.8\" y2=\"188.5\"\n",
       "    stroke=\"#663399\" stroke-width=\"2\" />\n",
       "<line x1=\"167.8\" y1=\"188.5\" x2=\"170.0\" y2=\"184.6\"\n",
       "    stroke=\"#663399\" stroke-width=\"2\" />\n",
       "<line x1=\"170.0\" y1=\"184.6\" x2=\"167.8\" y2=\"180.8\"\n",
       "    stroke=\"#663399\" stroke-width=\"2\" />\n",
       "<line x1=\"167.8\" y1=\"180.8\" x2=\"163.3\" y2=\"180.8\"\n",
       "    stroke=\"#663399\" stroke-width=\"2\" />\n",
       "<line x1=\"163.3\" y1=\"180.8\" x2=\"165.6\" y2=\"176.9\"\n",
       "    stroke=\"#663399\" stroke-width=\"2\" />\n",
       "<line x1=\"165.6\" y1=\"176.9\" x2=\"163.3\" y2=\"173.1\"\n",
       "    stroke=\"#663399\" stroke-width=\"2\" />\n",
       "<line x1=\"163.3\" y1=\"173.1\" x2=\"158.9\" y2=\"173.1\"\n",
       "    stroke=\"#663399\" stroke-width=\"2\" />\n",
       "<line x1=\"158.9\" y1=\"173.1\" x2=\"156.7\" y2=\"176.9\"\n",
       "    stroke=\"#663399\" stroke-width=\"2\" />\n",
       "<line x1=\"156.7\" y1=\"176.9\" x2=\"154.4\" y2=\"173.1\"\n",
       "    stroke=\"#663399\" stroke-width=\"2\" />\n",
       "<line x1=\"154.4\" y1=\"173.1\" x2=\"150.0\" y2=\"173.1\"\n",
       "    stroke=\"#663399\" stroke-width=\"2\" />\n",
       "<line x1=\"150.0\" y1=\"173.1\" x2=\"152.2\" y2=\"169.2\"\n",
       "    stroke=\"#663399\" stroke-width=\"2\" />\n",
       "<line x1=\"152.2\" y1=\"169.2\" x2=\"150.0\" y2=\"165.4\"\n",
       "    stroke=\"#663399\" stroke-width=\"2\" />\n",
       "<line x1=\"150.0\" y1=\"165.4\" x2=\"154.4\" y2=\"165.4\"\n",
       "    stroke=\"#663399\" stroke-width=\"2\" />\n",
       "<line x1=\"154.4\" y1=\"165.4\" x2=\"156.7\" y2=\"161.5\"\n",
       "    stroke=\"#663399\" stroke-width=\"2\" />\n",
       "<line x1=\"156.7\" y1=\"161.5\" x2=\"154.4\" y2=\"157.7\"\n",
       "    stroke=\"#663399\" stroke-width=\"2\" />\n",
       "<line x1=\"154.4\" y1=\"157.7\" x2=\"150.0\" y2=\"157.7\"\n",
       "    stroke=\"#663399\" stroke-width=\"2\" />\n",
       "<line x1=\"150.0\" y1=\"157.7\" x2=\"152.2\" y2=\"153.8\"\n",
       "    stroke=\"#663399\" stroke-width=\"2\" />\n",
       "<line x1=\"152.2\" y1=\"153.8\" x2=\"150.0\" y2=\"150.0\"\n",
       "    stroke=\"#663399\" stroke-width=\"2\" />\n",
       "\n",
       "<g transform=\"rotate(-90.0,150.0,150.0) translate(150.0, 150.0)\">\n",
       "    <circle stroke=\"#63A375\" stroke-width=\"2\" fill=\"transparent\" r=\"5.5\" cx=\"0\" cy=\"0\"/>\n",
       "    <polygon points=\"0,12 2,9 -2,9\" style=\"fill:#63A375;stroke:#63A375;stroke-width:2\"/>\n",
       "</g>\n",
       "\n",
       "</svg>"
      ],
      "text/plain": [
       "<IPython.core.display.HTML object>"
      ]
     },
     "metadata": {},
     "output_type": "display_data"
    }
   ],
   "source": [
    "make_turtle(delay=0, height=300)\n",
    "for i in range(3):\n",
    "    koch(120)\n",
    "    right(120)"
   ]
  },
  {
   "cell_type": "markdown",
   "id": "4c964239",
   "metadata": {
    "id": "4c964239"
   },
   "source": [
    "### Exercise\n",
    "\n",
    "Lưu ý: *bài tập này dùng đến khái niệm *đệ quy*  mà sẽ được nói đến trong một bài giảng khác. Ở thời điểm này bạn có thể *nghịch chơi* rồi quay lại tìm hiểu kĩ hơn sau khi đã được học chủ đề đệ quy.*\n",
    "\n",
    "Virtual assistants know about the functions in the `jupyturtle` module, but there are many versions of these functions, with different names, so a VA might not know which one you are talking about.\n",
    "\n",
    "To solve this problem, you can provide additional information before you ask a question.\n",
    "For example, you could start a prompt with \"Here's a program that uses the `jupyturtle` module,\" and then paste in one of the examples from this chapter.\n",
    "After that, the VA should be able to generate code that uses this module.\n",
    "\n",
    "As an example, ask a VA for a program that draws a Sierpiński triangle.\n",
    "The code you get should be a good starting place, but you might have to do some debugging.\n",
    "If the first attempt doesn't work, you can tell the VA what happened and ask for help -- or you can debug it yourself."
   ]
  },
  {
   "cell_type": "code",
   "execution_count": null,
   "id": "68439acf",
   "metadata": {
    "id": "68439acf"
   },
   "outputs": [],
   "source": [
    "# Solution\n",
    "\n",
    "# Here's the code I got from ChatGPT in June 2023, with just a few corrections\n",
    "\n",
    "def draw_sierpinski(length, depth):\n",
    "    if depth == 0:\n",
    "        for _ in range(3):\n",
    "            forward(length)\n",
    "            left(120)\n",
    "    else:\n",
    "        draw_sierpinski(length / 2, depth - 1)\n",
    "        forward(length / 2)\n",
    "        draw_sierpinski(length / 2, depth - 1)\n",
    "        back(length / 2)\n",
    "        left(60)\n",
    "        forward(length / 2)\n",
    "        right(60)\n",
    "        draw_sierpinski(length / 2, depth - 1)\n",
    "        left(60)\n",
    "        back(length / 2)\n",
    "        right(60)"
   ]
  },
  {
   "cell_type": "markdown",
   "id": "6a95097a",
   "metadata": {
    "id": "6a95097a"
   },
   "source": [
    "Here's what the result might look like, although the version you get might be different."
   ]
  },
  {
   "cell_type": "code",
   "execution_count": null,
   "id": "43470b3d",
   "metadata": {
    "colab": {
     "base_uri": "https://localhost:8080/",
     "height": 221
    },
    "executionInfo": {
     "elapsed": 740,
     "status": "ok",
     "timestamp": 1757319204716,
     "user": {
      "displayName": "Chau Tran",
      "userId": "02458922725668427191"
     },
     "user_tz": -420
    },
    "id": "43470b3d",
    "outputId": "abe5573e-704c-4e0e-d68b-e2b7807a65e6"
   },
   "outputs": [
    {
     "data": {
      "text/html": [
       "<svg width=\"300\" height=\"200\">\n",
       "    <rect width=\"100%\" height=\"100%\" fill=\"#F3F3F7\" />\n",
       "\n",
       "<line x1=\"150\" y1=\"100\" x2=\"162.5\" y2=\"100.0\"\n",
       "    stroke=\"#663399\" stroke-width=\"2\" />\n",
       "<line x1=\"162.5\" y1=\"100.0\" x2=\"156.2\" y2=\"89.2\"\n",
       "    stroke=\"#663399\" stroke-width=\"2\" />\n",
       "<line x1=\"156.2\" y1=\"89.2\" x2=\"150.0\" y2=\"100.0\"\n",
       "    stroke=\"#663399\" stroke-width=\"2\" />\n",
       "<line x1=\"150.0\" y1=\"100.0\" x2=\"162.5\" y2=\"100.0\"\n",
       "    stroke=\"#663399\" stroke-width=\"2\" />\n",
       "<line x1=\"162.5\" y1=\"100.0\" x2=\"175.0\" y2=\"100.0\"\n",
       "    stroke=\"#663399\" stroke-width=\"2\" />\n",
       "<line x1=\"175.0\" y1=\"100.0\" x2=\"168.8\" y2=\"89.2\"\n",
       "    stroke=\"#663399\" stroke-width=\"2\" />\n",
       "<line x1=\"168.8\" y1=\"89.2\" x2=\"162.5\" y2=\"100.0\"\n",
       "    stroke=\"#663399\" stroke-width=\"2\" />\n",
       "<line x1=\"162.5\" y1=\"100.0\" x2=\"150.0\" y2=\"100.0\"\n",
       "    stroke=\"#663399\" stroke-width=\"2\" />\n",
       "<line x1=\"150.0\" y1=\"100.0\" x2=\"156.2\" y2=\"89.2\"\n",
       "    stroke=\"#663399\" stroke-width=\"2\" />\n",
       "<line x1=\"156.2\" y1=\"89.2\" x2=\"168.8\" y2=\"89.2\"\n",
       "    stroke=\"#663399\" stroke-width=\"2\" />\n",
       "<line x1=\"168.8\" y1=\"89.2\" x2=\"162.5\" y2=\"78.3\"\n",
       "    stroke=\"#663399\" stroke-width=\"2\" />\n",
       "<line x1=\"162.5\" y1=\"78.3\" x2=\"156.2\" y2=\"89.2\"\n",
       "    stroke=\"#663399\" stroke-width=\"2\" />\n",
       "<line x1=\"156.2\" y1=\"89.2\" x2=\"150.0\" y2=\"100.0\"\n",
       "    stroke=\"#663399\" stroke-width=\"2\" />\n",
       "<line x1=\"150.0\" y1=\"100.0\" x2=\"175.0\" y2=\"100.0\"\n",
       "    stroke=\"#663399\" stroke-width=\"2\" />\n",
       "<line x1=\"175.0\" y1=\"100.0\" x2=\"187.5\" y2=\"100.0\"\n",
       "    stroke=\"#663399\" stroke-width=\"2\" />\n",
       "<line x1=\"187.5\" y1=\"100.0\" x2=\"181.2\" y2=\"89.2\"\n",
       "    stroke=\"#663399\" stroke-width=\"2\" />\n",
       "<line x1=\"181.2\" y1=\"89.2\" x2=\"175.0\" y2=\"100.0\"\n",
       "    stroke=\"#663399\" stroke-width=\"2\" />\n",
       "<line x1=\"175.0\" y1=\"100.0\" x2=\"187.5\" y2=\"100.0\"\n",
       "    stroke=\"#663399\" stroke-width=\"2\" />\n",
       "<line x1=\"187.5\" y1=\"100.0\" x2=\"200.0\" y2=\"100.0\"\n",
       "    stroke=\"#663399\" stroke-width=\"2\" />\n",
       "<line x1=\"200.0\" y1=\"100.0\" x2=\"193.8\" y2=\"89.2\"\n",
       "    stroke=\"#663399\" stroke-width=\"2\" />\n",
       "<line x1=\"193.8\" y1=\"89.2\" x2=\"187.5\" y2=\"100.0\"\n",
       "    stroke=\"#663399\" stroke-width=\"2\" />\n",
       "<line x1=\"187.5\" y1=\"100.0\" x2=\"175.0\" y2=\"100.0\"\n",
       "    stroke=\"#663399\" stroke-width=\"2\" />\n",
       "<line x1=\"175.0\" y1=\"100.0\" x2=\"181.2\" y2=\"89.2\"\n",
       "    stroke=\"#663399\" stroke-width=\"2\" />\n",
       "<line x1=\"181.2\" y1=\"89.2\" x2=\"193.8\" y2=\"89.2\"\n",
       "    stroke=\"#663399\" stroke-width=\"2\" />\n",
       "<line x1=\"193.8\" y1=\"89.2\" x2=\"187.5\" y2=\"78.3\"\n",
       "    stroke=\"#663399\" stroke-width=\"2\" />\n",
       "<line x1=\"187.5\" y1=\"78.3\" x2=\"181.2\" y2=\"89.2\"\n",
       "    stroke=\"#663399\" stroke-width=\"2\" />\n",
       "<line x1=\"181.2\" y1=\"89.2\" x2=\"175.0\" y2=\"100.0\"\n",
       "    stroke=\"#663399\" stroke-width=\"2\" />\n",
       "<line x1=\"175.0\" y1=\"100.0\" x2=\"150.0\" y2=\"100.0\"\n",
       "    stroke=\"#663399\" stroke-width=\"2\" />\n",
       "<line x1=\"150.0\" y1=\"100.0\" x2=\"162.5\" y2=\"78.3\"\n",
       "    stroke=\"#663399\" stroke-width=\"2\" />\n",
       "<line x1=\"162.5\" y1=\"78.3\" x2=\"175.0\" y2=\"78.3\"\n",
       "    stroke=\"#663399\" stroke-width=\"2\" />\n",
       "<line x1=\"175.0\" y1=\"78.3\" x2=\"168.8\" y2=\"67.5\"\n",
       "    stroke=\"#663399\" stroke-width=\"2\" />\n",
       "<line x1=\"168.8\" y1=\"67.5\" x2=\"162.5\" y2=\"78.3\"\n",
       "    stroke=\"#663399\" stroke-width=\"2\" />\n",
       "<line x1=\"162.5\" y1=\"78.3\" x2=\"175.0\" y2=\"78.3\"\n",
       "    stroke=\"#663399\" stroke-width=\"2\" />\n",
       "<line x1=\"175.0\" y1=\"78.3\" x2=\"187.5\" y2=\"78.3\"\n",
       "    stroke=\"#663399\" stroke-width=\"2\" />\n",
       "<line x1=\"187.5\" y1=\"78.3\" x2=\"181.2\" y2=\"67.5\"\n",
       "    stroke=\"#663399\" stroke-width=\"2\" />\n",
       "<line x1=\"181.2\" y1=\"67.5\" x2=\"175.0\" y2=\"78.3\"\n",
       "    stroke=\"#663399\" stroke-width=\"2\" />\n",
       "<line x1=\"175.0\" y1=\"78.3\" x2=\"162.5\" y2=\"78.3\"\n",
       "    stroke=\"#663399\" stroke-width=\"2\" />\n",
       "<line x1=\"162.5\" y1=\"78.3\" x2=\"168.8\" y2=\"67.5\"\n",
       "    stroke=\"#663399\" stroke-width=\"2\" />\n",
       "<line x1=\"168.8\" y1=\"67.5\" x2=\"181.2\" y2=\"67.5\"\n",
       "    stroke=\"#663399\" stroke-width=\"2\" />\n",
       "<line x1=\"181.2\" y1=\"67.5\" x2=\"175.0\" y2=\"56.7\"\n",
       "    stroke=\"#663399\" stroke-width=\"2\" />\n",
       "<line x1=\"175.0\" y1=\"56.7\" x2=\"168.8\" y2=\"67.5\"\n",
       "    stroke=\"#663399\" stroke-width=\"2\" />\n",
       "<line x1=\"168.8\" y1=\"67.5\" x2=\"162.5\" y2=\"78.3\"\n",
       "    stroke=\"#663399\" stroke-width=\"2\" />\n",
       "<line x1=\"162.5\" y1=\"78.3\" x2=\"150.0\" y2=\"100.0\"\n",
       "    stroke=\"#663399\" stroke-width=\"2\" />\n",
       "<line x1=\"150.0\" y1=\"100.0\" x2=\"200.0\" y2=\"100.0\"\n",
       "    stroke=\"#663399\" stroke-width=\"2\" />\n",
       "<line x1=\"200.0\" y1=\"100.0\" x2=\"212.5\" y2=\"100.0\"\n",
       "    stroke=\"#663399\" stroke-width=\"2\" />\n",
       "<line x1=\"212.5\" y1=\"100.0\" x2=\"206.2\" y2=\"89.2\"\n",
       "    stroke=\"#663399\" stroke-width=\"2\" />\n",
       "<line x1=\"206.2\" y1=\"89.2\" x2=\"200.0\" y2=\"100.0\"\n",
       "    stroke=\"#663399\" stroke-width=\"2\" />\n",
       "<line x1=\"200.0\" y1=\"100.0\" x2=\"212.5\" y2=\"100.0\"\n",
       "    stroke=\"#663399\" stroke-width=\"2\" />\n",
       "<line x1=\"212.5\" y1=\"100.0\" x2=\"225.0\" y2=\"100.0\"\n",
       "    stroke=\"#663399\" stroke-width=\"2\" />\n",
       "<line x1=\"225.0\" y1=\"100.0\" x2=\"218.8\" y2=\"89.2\"\n",
       "    stroke=\"#663399\" stroke-width=\"2\" />\n",
       "<line x1=\"218.8\" y1=\"89.2\" x2=\"212.5\" y2=\"100.0\"\n",
       "    stroke=\"#663399\" stroke-width=\"2\" />\n",
       "<line x1=\"212.5\" y1=\"100.0\" x2=\"200.0\" y2=\"100.0\"\n",
       "    stroke=\"#663399\" stroke-width=\"2\" />\n",
       "<line x1=\"200.0\" y1=\"100.0\" x2=\"206.2\" y2=\"89.2\"\n",
       "    stroke=\"#663399\" stroke-width=\"2\" />\n",
       "<line x1=\"206.2\" y1=\"89.2\" x2=\"218.8\" y2=\"89.2\"\n",
       "    stroke=\"#663399\" stroke-width=\"2\" />\n",
       "<line x1=\"218.8\" y1=\"89.2\" x2=\"212.5\" y2=\"78.3\"\n",
       "    stroke=\"#663399\" stroke-width=\"2\" />\n",
       "<line x1=\"212.5\" y1=\"78.3\" x2=\"206.2\" y2=\"89.2\"\n",
       "    stroke=\"#663399\" stroke-width=\"2\" />\n",
       "<line x1=\"206.2\" y1=\"89.2\" x2=\"200.0\" y2=\"100.0\"\n",
       "    stroke=\"#663399\" stroke-width=\"2\" />\n",
       "<line x1=\"200.0\" y1=\"100.0\" x2=\"225.0\" y2=\"100.0\"\n",
       "    stroke=\"#663399\" stroke-width=\"2\" />\n",
       "<line x1=\"225.0\" y1=\"100.0\" x2=\"237.5\" y2=\"100.0\"\n",
       "    stroke=\"#663399\" stroke-width=\"2\" />\n",
       "<line x1=\"237.5\" y1=\"100.0\" x2=\"231.2\" y2=\"89.2\"\n",
       "    stroke=\"#663399\" stroke-width=\"2\" />\n",
       "<line x1=\"231.2\" y1=\"89.2\" x2=\"225.0\" y2=\"100.0\"\n",
       "    stroke=\"#663399\" stroke-width=\"2\" />\n",
       "<line x1=\"225.0\" y1=\"100.0\" x2=\"237.5\" y2=\"100.0\"\n",
       "    stroke=\"#663399\" stroke-width=\"2\" />\n",
       "<line x1=\"237.5\" y1=\"100.0\" x2=\"250.0\" y2=\"100.0\"\n",
       "    stroke=\"#663399\" stroke-width=\"2\" />\n",
       "<line x1=\"250.0\" y1=\"100.0\" x2=\"243.8\" y2=\"89.2\"\n",
       "    stroke=\"#663399\" stroke-width=\"2\" />\n",
       "<line x1=\"243.8\" y1=\"89.2\" x2=\"237.5\" y2=\"100.0\"\n",
       "    stroke=\"#663399\" stroke-width=\"2\" />\n",
       "<line x1=\"237.5\" y1=\"100.0\" x2=\"225.0\" y2=\"100.0\"\n",
       "    stroke=\"#663399\" stroke-width=\"2\" />\n",
       "<line x1=\"225.0\" y1=\"100.0\" x2=\"231.2\" y2=\"89.2\"\n",
       "    stroke=\"#663399\" stroke-width=\"2\" />\n",
       "<line x1=\"231.2\" y1=\"89.2\" x2=\"243.8\" y2=\"89.2\"\n",
       "    stroke=\"#663399\" stroke-width=\"2\" />\n",
       "<line x1=\"243.8\" y1=\"89.2\" x2=\"237.5\" y2=\"78.3\"\n",
       "    stroke=\"#663399\" stroke-width=\"2\" />\n",
       "<line x1=\"237.5\" y1=\"78.3\" x2=\"231.2\" y2=\"89.2\"\n",
       "    stroke=\"#663399\" stroke-width=\"2\" />\n",
       "<line x1=\"231.2\" y1=\"89.2\" x2=\"225.0\" y2=\"100.0\"\n",
       "    stroke=\"#663399\" stroke-width=\"2\" />\n",
       "<line x1=\"225.0\" y1=\"100.0\" x2=\"200.0\" y2=\"100.0\"\n",
       "    stroke=\"#663399\" stroke-width=\"2\" />\n",
       "<line x1=\"200.0\" y1=\"100.0\" x2=\"212.5\" y2=\"78.3\"\n",
       "    stroke=\"#663399\" stroke-width=\"2\" />\n",
       "<line x1=\"212.5\" y1=\"78.3\" x2=\"225.0\" y2=\"78.3\"\n",
       "    stroke=\"#663399\" stroke-width=\"2\" />\n",
       "<line x1=\"225.0\" y1=\"78.3\" x2=\"218.8\" y2=\"67.5\"\n",
       "    stroke=\"#663399\" stroke-width=\"2\" />\n",
       "<line x1=\"218.8\" y1=\"67.5\" x2=\"212.5\" y2=\"78.3\"\n",
       "    stroke=\"#663399\" stroke-width=\"2\" />\n",
       "<line x1=\"212.5\" y1=\"78.3\" x2=\"225.0\" y2=\"78.3\"\n",
       "    stroke=\"#663399\" stroke-width=\"2\" />\n",
       "<line x1=\"225.0\" y1=\"78.3\" x2=\"237.5\" y2=\"78.3\"\n",
       "    stroke=\"#663399\" stroke-width=\"2\" />\n",
       "<line x1=\"237.5\" y1=\"78.3\" x2=\"231.2\" y2=\"67.5\"\n",
       "    stroke=\"#663399\" stroke-width=\"2\" />\n",
       "<line x1=\"231.2\" y1=\"67.5\" x2=\"225.0\" y2=\"78.3\"\n",
       "    stroke=\"#663399\" stroke-width=\"2\" />\n",
       "<line x1=\"225.0\" y1=\"78.3\" x2=\"212.5\" y2=\"78.3\"\n",
       "    stroke=\"#663399\" stroke-width=\"2\" />\n",
       "<line x1=\"212.5\" y1=\"78.3\" x2=\"218.8\" y2=\"67.5\"\n",
       "    stroke=\"#663399\" stroke-width=\"2\" />\n",
       "<line x1=\"218.8\" y1=\"67.5\" x2=\"231.2\" y2=\"67.5\"\n",
       "    stroke=\"#663399\" stroke-width=\"2\" />\n",
       "<line x1=\"231.2\" y1=\"67.5\" x2=\"225.0\" y2=\"56.7\"\n",
       "    stroke=\"#663399\" stroke-width=\"2\" />\n",
       "<line x1=\"225.0\" y1=\"56.7\" x2=\"218.8\" y2=\"67.5\"\n",
       "    stroke=\"#663399\" stroke-width=\"2\" />\n",
       "<line x1=\"218.8\" y1=\"67.5\" x2=\"212.5\" y2=\"78.3\"\n",
       "    stroke=\"#663399\" stroke-width=\"2\" />\n",
       "<line x1=\"212.5\" y1=\"78.3\" x2=\"200.0\" y2=\"100.0\"\n",
       "    stroke=\"#663399\" stroke-width=\"2\" />\n",
       "<line x1=\"200.0\" y1=\"100.0\" x2=\"150.0\" y2=\"100.0\"\n",
       "    stroke=\"#663399\" stroke-width=\"2\" />\n",
       "<line x1=\"150.0\" y1=\"100.0\" x2=\"175.0\" y2=\"56.7\"\n",
       "    stroke=\"#663399\" stroke-width=\"2\" />\n",
       "<line x1=\"175.0\" y1=\"56.7\" x2=\"187.5\" y2=\"56.7\"\n",
       "    stroke=\"#663399\" stroke-width=\"2\" />\n",
       "<line x1=\"187.5\" y1=\"56.7\" x2=\"181.2\" y2=\"45.9\"\n",
       "    stroke=\"#663399\" stroke-width=\"2\" />\n",
       "<line x1=\"181.2\" y1=\"45.9\" x2=\"175.0\" y2=\"56.7\"\n",
       "    stroke=\"#663399\" stroke-width=\"2\" />\n",
       "<line x1=\"175.0\" y1=\"56.7\" x2=\"187.5\" y2=\"56.7\"\n",
       "    stroke=\"#663399\" stroke-width=\"2\" />\n",
       "<line x1=\"187.5\" y1=\"56.7\" x2=\"200.0\" y2=\"56.7\"\n",
       "    stroke=\"#663399\" stroke-width=\"2\" />\n",
       "<line x1=\"200.0\" y1=\"56.7\" x2=\"193.8\" y2=\"45.9\"\n",
       "    stroke=\"#663399\" stroke-width=\"2\" />\n",
       "<line x1=\"193.8\" y1=\"45.9\" x2=\"187.5\" y2=\"56.7\"\n",
       "    stroke=\"#663399\" stroke-width=\"2\" />\n",
       "<line x1=\"187.5\" y1=\"56.7\" x2=\"175.0\" y2=\"56.7\"\n",
       "    stroke=\"#663399\" stroke-width=\"2\" />\n",
       "<line x1=\"175.0\" y1=\"56.7\" x2=\"181.2\" y2=\"45.9\"\n",
       "    stroke=\"#663399\" stroke-width=\"2\" />\n",
       "<line x1=\"181.2\" y1=\"45.9\" x2=\"193.8\" y2=\"45.9\"\n",
       "    stroke=\"#663399\" stroke-width=\"2\" />\n",
       "<line x1=\"193.8\" y1=\"45.9\" x2=\"187.5\" y2=\"35.0\"\n",
       "    stroke=\"#663399\" stroke-width=\"2\" />\n",
       "<line x1=\"187.5\" y1=\"35.0\" x2=\"181.2\" y2=\"45.9\"\n",
       "    stroke=\"#663399\" stroke-width=\"2\" />\n",
       "<line x1=\"181.2\" y1=\"45.9\" x2=\"175.0\" y2=\"56.7\"\n",
       "    stroke=\"#663399\" stroke-width=\"2\" />\n",
       "<line x1=\"175.0\" y1=\"56.7\" x2=\"200.0\" y2=\"56.7\"\n",
       "    stroke=\"#663399\" stroke-width=\"2\" />\n",
       "<line x1=\"200.0\" y1=\"56.7\" x2=\"212.5\" y2=\"56.7\"\n",
       "    stroke=\"#663399\" stroke-width=\"2\" />\n",
       "<line x1=\"212.5\" y1=\"56.7\" x2=\"206.2\" y2=\"45.9\"\n",
       "    stroke=\"#663399\" stroke-width=\"2\" />\n",
       "<line x1=\"206.2\" y1=\"45.9\" x2=\"200.0\" y2=\"56.7\"\n",
       "    stroke=\"#663399\" stroke-width=\"2\" />\n",
       "<line x1=\"200.0\" y1=\"56.7\" x2=\"212.5\" y2=\"56.7\"\n",
       "    stroke=\"#663399\" stroke-width=\"2\" />\n",
       "<line x1=\"212.5\" y1=\"56.7\" x2=\"225.0\" y2=\"56.7\"\n",
       "    stroke=\"#663399\" stroke-width=\"2\" />\n",
       "<line x1=\"225.0\" y1=\"56.7\" x2=\"218.8\" y2=\"45.9\"\n",
       "    stroke=\"#663399\" stroke-width=\"2\" />\n",
       "<line x1=\"218.8\" y1=\"45.9\" x2=\"212.5\" y2=\"56.7\"\n",
       "    stroke=\"#663399\" stroke-width=\"2\" />\n",
       "<line x1=\"212.5\" y1=\"56.7\" x2=\"200.0\" y2=\"56.7\"\n",
       "    stroke=\"#663399\" stroke-width=\"2\" />\n",
       "<line x1=\"200.0\" y1=\"56.7\" x2=\"206.2\" y2=\"45.9\"\n",
       "    stroke=\"#663399\" stroke-width=\"2\" />\n",
       "<line x1=\"206.2\" y1=\"45.9\" x2=\"218.8\" y2=\"45.9\"\n",
       "    stroke=\"#663399\" stroke-width=\"2\" />\n",
       "<line x1=\"218.8\" y1=\"45.9\" x2=\"212.5\" y2=\"35.0\"\n",
       "    stroke=\"#663399\" stroke-width=\"2\" />\n",
       "<line x1=\"212.5\" y1=\"35.0\" x2=\"206.2\" y2=\"45.9\"\n",
       "    stroke=\"#663399\" stroke-width=\"2\" />\n",
       "<line x1=\"206.2\" y1=\"45.9\" x2=\"200.0\" y2=\"56.7\"\n",
       "    stroke=\"#663399\" stroke-width=\"2\" />\n",
       "<line x1=\"200.0\" y1=\"56.7\" x2=\"175.0\" y2=\"56.7\"\n",
       "    stroke=\"#663399\" stroke-width=\"2\" />\n",
       "<line x1=\"175.0\" y1=\"56.7\" x2=\"187.5\" y2=\"35.0\"\n",
       "    stroke=\"#663399\" stroke-width=\"2\" />\n",
       "<line x1=\"187.5\" y1=\"35.0\" x2=\"200.0\" y2=\"35.0\"\n",
       "    stroke=\"#663399\" stroke-width=\"2\" />\n",
       "<line x1=\"200.0\" y1=\"35.0\" x2=\"193.8\" y2=\"24.2\"\n",
       "    stroke=\"#663399\" stroke-width=\"2\" />\n",
       "<line x1=\"193.8\" y1=\"24.2\" x2=\"187.5\" y2=\"35.0\"\n",
       "    stroke=\"#663399\" stroke-width=\"2\" />\n",
       "<line x1=\"187.5\" y1=\"35.0\" x2=\"200.0\" y2=\"35.0\"\n",
       "    stroke=\"#663399\" stroke-width=\"2\" />\n",
       "<line x1=\"200.0\" y1=\"35.0\" x2=\"212.5\" y2=\"35.0\"\n",
       "    stroke=\"#663399\" stroke-width=\"2\" />\n",
       "<line x1=\"212.5\" y1=\"35.0\" x2=\"206.2\" y2=\"24.2\"\n",
       "    stroke=\"#663399\" stroke-width=\"2\" />\n",
       "<line x1=\"206.2\" y1=\"24.2\" x2=\"200.0\" y2=\"35.0\"\n",
       "    stroke=\"#663399\" stroke-width=\"2\" />\n",
       "<line x1=\"200.0\" y1=\"35.0\" x2=\"187.5\" y2=\"35.0\"\n",
       "    stroke=\"#663399\" stroke-width=\"2\" />\n",
       "<line x1=\"187.5\" y1=\"35.0\" x2=\"193.8\" y2=\"24.2\"\n",
       "    stroke=\"#663399\" stroke-width=\"2\" />\n",
       "<line x1=\"193.8\" y1=\"24.2\" x2=\"206.2\" y2=\"24.2\"\n",
       "    stroke=\"#663399\" stroke-width=\"2\" />\n",
       "<line x1=\"206.2\" y1=\"24.2\" x2=\"200.0\" y2=\"13.4\"\n",
       "    stroke=\"#663399\" stroke-width=\"2\" />\n",
       "<line x1=\"200.0\" y1=\"13.4\" x2=\"193.8\" y2=\"24.2\"\n",
       "    stroke=\"#663399\" stroke-width=\"2\" />\n",
       "<line x1=\"193.8\" y1=\"24.2\" x2=\"187.5\" y2=\"35.0\"\n",
       "    stroke=\"#663399\" stroke-width=\"2\" />\n",
       "<line x1=\"187.5\" y1=\"35.0\" x2=\"175.0\" y2=\"56.7\"\n",
       "    stroke=\"#663399\" stroke-width=\"2\" />\n",
       "<line x1=\"175.0\" y1=\"56.7\" x2=\"150.0\" y2=\"100.0\"\n",
       "    stroke=\"#663399\" stroke-width=\"2\" />\n",
       "\n",
       "<g transform=\"rotate(-90.0,150.0,100.0) translate(150.0, 100.0)\">\n",
       "    <circle stroke=\"#63A375\" stroke-width=\"2\" fill=\"transparent\" r=\"5.5\" cx=\"0\" cy=\"0\"/>\n",
       "    <polygon points=\"0,12 2,9 -2,9\" style=\"fill:#63A375;stroke:#63A375;stroke-width:2\"/>\n",
       "</g>\n",
       "\n",
       "</svg>"
      ],
      "text/plain": [
       "<IPython.core.display.HTML object>"
      ]
     },
     "metadata": {},
     "output_type": "display_data"
    }
   ],
   "source": [
    "make_turtle(delay=0, height=200)\n",
    "\n",
    "draw_sierpinski(100, 3)"
   ]
  }
 ],
 "metadata": {
  "celltoolbar": "Tags",
  "colab": {
   "provenance": []
  },
  "kernelspec": {
   "display_name": "Python 3",
   "language": "python",
   "name": "python3"
  },
  "language_info": {
   "codemirror_mode": {
    "name": "ipython",
    "version": 3
   },
   "file_extension": ".py",
   "mimetype": "text/x-python",
   "name": "python",
   "nbconvert_exporter": "python",
   "pygments_lexer": "ipython3",
   "version": "3.13.7"
  }
 },
 "nbformat": 4,
 "nbformat_minor": 5
}
